{
 "cells": [
  {
   "cell_type": "markdown",
   "metadata": {},
   "source": [
    "## Описание проекта"
   ]
  },
  {
   "cell_type": "markdown",
   "metadata": {},
   "source": [
    "Вы решили открыть небольшое кафе в Москве. Оно оригинальное — гостей должны обслуживать роботы. Проект многообещающий, но дорогой. Вместе с партнёрами вы решились обратиться к инвесторам. Их интересует текущее положение дел на рынке — сможете ли вы снискать популярность на долгое время, когда все зеваки насмотрятся на роботов-официантов?\n",
    "Вы — гуру аналитики, и партнёры просят вас подготовить исследование рынка. У вас есть открытые данные о заведениях общественного питания в Москве."
   ]
  },
  {
   "cell_type": "markdown",
   "metadata": {},
   "source": [
    "## Описание данных\n",
    "\n",
    "Таблица rest_data:\n",
    "\n",
    "- id — идентификатор объекта\n",
    "- object_name — название объекта общественного питания\n",
    "- chain — сетевой ресторан\n",
    "- object_type — тип объекта общественного питания\n",
    "- address — адрес\n",
    "- number — количество посадочных мест"
   ]
  },
  {
   "cell_type": "markdown",
   "metadata": {},
   "source": [
    "ССЫЛКА НА ПРЕЗЕНТАЦИЮ: https://disk.yandex.ru/i/kOKPVAZvDike2g"
   ]
  },
  {
   "cell_type": "markdown",
   "metadata": {},
   "source": [
    "## Открытие и предобработка данных"
   ]
  },
  {
   "cell_type": "code",
   "execution_count": 1,
   "metadata": {},
   "outputs": [],
   "source": [
    "import pandas as pd\n",
    "import matplotlib.pyplot as plt\n",
    "import numpy as np\n",
    "from scipy import stats as st\n",
    "import seaborn as sns\n",
    "import datetime as dt\n",
    "import scipy.stats as stats"
   ]
  },
  {
   "cell_type": "code",
   "execution_count": 2,
   "metadata": {},
   "outputs": [
    {
     "name": "stdout",
     "output_type": "stream",
     "text": [
      "<class 'pandas.core.frame.DataFrame'>\n",
      "RangeIndex: 15366 entries, 0 to 15365\n",
      "Data columns (total 6 columns):\n",
      "id             15366 non-null int64\n",
      "object_name    15366 non-null object\n",
      "chain          15366 non-null object\n",
      "object_type    15366 non-null object\n",
      "address        15366 non-null object\n",
      "number         15366 non-null int64\n",
      "dtypes: int64(2), object(4)\n",
      "memory usage: 720.4+ KB\n"
     ]
    }
   ],
   "source": [
    "rest_data = pd.read_csv('/datasets/rest_data.csv')\n",
    "rest_data.info()"
   ]
  },
  {
   "cell_type": "code",
   "execution_count": 3,
   "metadata": {},
   "outputs": [
    {
     "data": {
      "text/html": [
       "<div>\n",
       "<style scoped>\n",
       "    .dataframe tbody tr th:only-of-type {\n",
       "        vertical-align: middle;\n",
       "    }\n",
       "\n",
       "    .dataframe tbody tr th {\n",
       "        vertical-align: top;\n",
       "    }\n",
       "\n",
       "    .dataframe thead th {\n",
       "        text-align: right;\n",
       "    }\n",
       "</style>\n",
       "<table border=\"1\" class=\"dataframe\">\n",
       "  <thead>\n",
       "    <tr style=\"text-align: right;\">\n",
       "      <th></th>\n",
       "      <th>id</th>\n",
       "      <th>object_name</th>\n",
       "      <th>chain</th>\n",
       "      <th>object_type</th>\n",
       "      <th>address</th>\n",
       "      <th>number</th>\n",
       "    </tr>\n",
       "  </thead>\n",
       "  <tbody>\n",
       "    <tr>\n",
       "      <td>0</td>\n",
       "      <td>151635</td>\n",
       "      <td>СМЕТАНА</td>\n",
       "      <td>нет</td>\n",
       "      <td>кафе</td>\n",
       "      <td>город Москва, улица Егора Абакумова, дом 9</td>\n",
       "      <td>48</td>\n",
       "    </tr>\n",
       "    <tr>\n",
       "      <td>1</td>\n",
       "      <td>77874</td>\n",
       "      <td>Родник</td>\n",
       "      <td>нет</td>\n",
       "      <td>кафе</td>\n",
       "      <td>город Москва, улица Талалихина, дом 2/1, корпус 1</td>\n",
       "      <td>35</td>\n",
       "    </tr>\n",
       "    <tr>\n",
       "      <td>2</td>\n",
       "      <td>24309</td>\n",
       "      <td>Кафе «Академия»</td>\n",
       "      <td>нет</td>\n",
       "      <td>кафе</td>\n",
       "      <td>город Москва, Абельмановская улица, дом 6</td>\n",
       "      <td>95</td>\n",
       "    </tr>\n",
       "    <tr>\n",
       "      <td>3</td>\n",
       "      <td>21894</td>\n",
       "      <td>ПИЦЦЕТОРИЯ</td>\n",
       "      <td>да</td>\n",
       "      <td>кафе</td>\n",
       "      <td>город Москва, Абрамцевская улица, дом 1</td>\n",
       "      <td>40</td>\n",
       "    </tr>\n",
       "    <tr>\n",
       "      <td>4</td>\n",
       "      <td>119365</td>\n",
       "      <td>Кафе «Вишневая метель»</td>\n",
       "      <td>нет</td>\n",
       "      <td>кафе</td>\n",
       "      <td>город Москва, Абрамцевская улица, дом 9, корпус 1</td>\n",
       "      <td>50</td>\n",
       "    </tr>\n",
       "    <tr>\n",
       "      <td>5</td>\n",
       "      <td>27429</td>\n",
       "      <td>СТОЛ. ПРИ ГОУ СОШ № 1051</td>\n",
       "      <td>нет</td>\n",
       "      <td>столовая</td>\n",
       "      <td>город Москва, Абрамцевская улица, дом 15, корп...</td>\n",
       "      <td>240</td>\n",
       "    </tr>\n",
       "    <tr>\n",
       "      <td>6</td>\n",
       "      <td>148815</td>\n",
       "      <td>Брусника</td>\n",
       "      <td>да</td>\n",
       "      <td>кафе</td>\n",
       "      <td>город Москва, переулок Сивцев Вражек, дом 6/2</td>\n",
       "      <td>10</td>\n",
       "    </tr>\n",
       "    <tr>\n",
       "      <td>7</td>\n",
       "      <td>20957</td>\n",
       "      <td>Буфет МТУСИ</td>\n",
       "      <td>нет</td>\n",
       "      <td>столовая</td>\n",
       "      <td>город Москва, Авиамоторная улица, дом 8, строе...</td>\n",
       "      <td>90</td>\n",
       "    </tr>\n",
       "    <tr>\n",
       "      <td>8</td>\n",
       "      <td>20958</td>\n",
       "      <td>КПФ СЕМЬЯ-1</td>\n",
       "      <td>нет</td>\n",
       "      <td>столовая</td>\n",
       "      <td>город Москва, Авиамоторная улица, дом 8, строе...</td>\n",
       "      <td>150</td>\n",
       "    </tr>\n",
       "    <tr>\n",
       "      <td>9</td>\n",
       "      <td>28858</td>\n",
       "      <td>Столовая МТУСИ</td>\n",
       "      <td>нет</td>\n",
       "      <td>столовая</td>\n",
       "      <td>город Москва, Авиамоторная улица, дом 8, строе...</td>\n",
       "      <td>120</td>\n",
       "    </tr>\n",
       "    <tr>\n",
       "      <td>10</td>\n",
       "      <td>148595</td>\n",
       "      <td>Пекарня 24</td>\n",
       "      <td>нет</td>\n",
       "      <td>закусочная</td>\n",
       "      <td>город Москва, Авиамоторная улица, дом 47</td>\n",
       "      <td>5</td>\n",
       "    </tr>\n",
       "    <tr>\n",
       "      <td>11</td>\n",
       "      <td>23394</td>\n",
       "      <td>Гогиели</td>\n",
       "      <td>нет</td>\n",
       "      <td>кафе</td>\n",
       "      <td>город Москва, Авиамоторная улица, дом 49/1</td>\n",
       "      <td>24</td>\n",
       "    </tr>\n",
       "    <tr>\n",
       "      <td>12</td>\n",
       "      <td>28582</td>\n",
       "      <td>ШКОЛА 735</td>\n",
       "      <td>нет</td>\n",
       "      <td>столовая</td>\n",
       "      <td>город Москва, Авиамоторная улица, дом 51</td>\n",
       "      <td>140</td>\n",
       "    </tr>\n",
       "    <tr>\n",
       "      <td>13</td>\n",
       "      <td>22579</td>\n",
       "      <td>Алло Пицца</td>\n",
       "      <td>да</td>\n",
       "      <td>кафе</td>\n",
       "      <td>город Москва, улица Авиаторов, дом 14</td>\n",
       "      <td>32</td>\n",
       "    </tr>\n",
       "    <tr>\n",
       "      <td>14</td>\n",
       "      <td>23670</td>\n",
       "      <td>Гимназия 1542</td>\n",
       "      <td>нет</td>\n",
       "      <td>столовая</td>\n",
       "      <td>город Москва, улица Авиаторов, дом 16</td>\n",
       "      <td>270</td>\n",
       "    </tr>\n",
       "    <tr>\n",
       "      <td>15</td>\n",
       "      <td>23663</td>\n",
       "      <td>Школа 1011</td>\n",
       "      <td>нет</td>\n",
       "      <td>столовая</td>\n",
       "      <td>город Москва, улица Авиаторов, дом 18</td>\n",
       "      <td>320</td>\n",
       "    </tr>\n",
       "    <tr>\n",
       "      <td>16</td>\n",
       "      <td>144107</td>\n",
       "      <td>Суши Wok</td>\n",
       "      <td>да</td>\n",
       "      <td>предприятие быстрого обслуживания</td>\n",
       "      <td>город Москва, Азовская улица, дом 3</td>\n",
       "      <td>7</td>\n",
       "    </tr>\n",
       "    <tr>\n",
       "      <td>17</td>\n",
       "      <td>154654</td>\n",
       "      <td>Донер Кебаб</td>\n",
       "      <td>нет</td>\n",
       "      <td>предприятие быстрого обслуживания</td>\n",
       "      <td>город Москва, Азовская улица, дом 4</td>\n",
       "      <td>2</td>\n",
       "    </tr>\n",
       "    <tr>\n",
       "      <td>18</td>\n",
       "      <td>58565</td>\n",
       "      <td>Тануки</td>\n",
       "      <td>да</td>\n",
       "      <td>ресторан</td>\n",
       "      <td>город Москва, Большая Академическая улица, дом 65</td>\n",
       "      <td>160</td>\n",
       "    </tr>\n",
       "    <tr>\n",
       "      <td>19</td>\n",
       "      <td>153644</td>\n",
       "      <td>Американская Лаборатория Десертов</td>\n",
       "      <td>нет</td>\n",
       "      <td>кафе</td>\n",
       "      <td>город Москва, Филипповский переулок, дом 15/5</td>\n",
       "      <td>20</td>\n",
       "    </tr>\n",
       "  </tbody>\n",
       "</table>\n",
       "</div>"
      ],
      "text/plain": [
       "        id                        object_name chain  \\\n",
       "0   151635                            СМЕТАНА   нет   \n",
       "1    77874                             Родник   нет   \n",
       "2    24309                    Кафе «Академия»   нет   \n",
       "3    21894                         ПИЦЦЕТОРИЯ    да   \n",
       "4   119365             Кафе «Вишневая метель»   нет   \n",
       "5    27429           СТОЛ. ПРИ ГОУ СОШ № 1051   нет   \n",
       "6   148815                           Брусника    да   \n",
       "7    20957                        Буфет МТУСИ   нет   \n",
       "8    20958                        КПФ СЕМЬЯ-1   нет   \n",
       "9    28858                     Столовая МТУСИ   нет   \n",
       "10  148595                         Пекарня 24   нет   \n",
       "11   23394                            Гогиели   нет   \n",
       "12   28582                          ШКОЛА 735   нет   \n",
       "13   22579                         Алло Пицца    да   \n",
       "14   23670                      Гимназия 1542   нет   \n",
       "15   23663                         Школа 1011   нет   \n",
       "16  144107                           Суши Wok    да   \n",
       "17  154654                        Донер Кебаб   нет   \n",
       "18   58565                             Тануки    да   \n",
       "19  153644  Американская Лаборатория Десертов   нет   \n",
       "\n",
       "                          object_type  \\\n",
       "0                                кафе   \n",
       "1                                кафе   \n",
       "2                                кафе   \n",
       "3                                кафе   \n",
       "4                                кафе   \n",
       "5                            столовая   \n",
       "6                                кафе   \n",
       "7                            столовая   \n",
       "8                            столовая   \n",
       "9                            столовая   \n",
       "10                         закусочная   \n",
       "11                               кафе   \n",
       "12                           столовая   \n",
       "13                               кафе   \n",
       "14                           столовая   \n",
       "15                           столовая   \n",
       "16  предприятие быстрого обслуживания   \n",
       "17  предприятие быстрого обслуживания   \n",
       "18                           ресторан   \n",
       "19                               кафе   \n",
       "\n",
       "                                              address  number  \n",
       "0          город Москва, улица Егора Абакумова, дом 9      48  \n",
       "1   город Москва, улица Талалихина, дом 2/1, корпус 1      35  \n",
       "2           город Москва, Абельмановская улица, дом 6      95  \n",
       "3             город Москва, Абрамцевская улица, дом 1      40  \n",
       "4   город Москва, Абрамцевская улица, дом 9, корпус 1      50  \n",
       "5   город Москва, Абрамцевская улица, дом 15, корп...     240  \n",
       "6       город Москва, переулок Сивцев Вражек, дом 6/2      10  \n",
       "7   город Москва, Авиамоторная улица, дом 8, строе...      90  \n",
       "8   город Москва, Авиамоторная улица, дом 8, строе...     150  \n",
       "9   город Москва, Авиамоторная улица, дом 8, строе...     120  \n",
       "10           город Москва, Авиамоторная улица, дом 47       5  \n",
       "11         город Москва, Авиамоторная улица, дом 49/1      24  \n",
       "12           город Москва, Авиамоторная улица, дом 51     140  \n",
       "13              город Москва, улица Авиаторов, дом 14      32  \n",
       "14              город Москва, улица Авиаторов, дом 16     270  \n",
       "15              город Москва, улица Авиаторов, дом 18     320  \n",
       "16                город Москва, Азовская улица, дом 3       7  \n",
       "17                город Москва, Азовская улица, дом 4       2  \n",
       "18  город Москва, Большая Академическая улица, дом 65     160  \n",
       "19      город Москва, Филипповский переулок, дом 15/5      20  "
      ]
     },
     "execution_count": 3,
     "metadata": {},
     "output_type": "execute_result"
    }
   ],
   "source": [
    "rest_data.head(20)"
   ]
  },
  {
   "cell_type": "code",
   "execution_count": 4,
   "metadata": {},
   "outputs": [],
   "source": [
    "#приведем все названия объектов общ. пит. к нижнему регистру\n",
    "rest_data['object_name'] = rest_data['object_name'].str.lower()"
   ]
  },
  {
   "cell_type": "code",
   "execution_count": 5,
   "metadata": {},
   "outputs": [
    {
     "data": {
      "text/plain": [
       "id             0\n",
       "object_name    0\n",
       "chain          0\n",
       "object_type    0\n",
       "address        0\n",
       "number         0\n",
       "dtype: int64"
      ]
     },
     "execution_count": 5,
     "metadata": {},
     "output_type": "execute_result"
    }
   ],
   "source": [
    "#Проверяем на пропуски\n",
    "rest_data.isna().sum()"
   ]
  },
  {
   "cell_type": "code",
   "execution_count": 6,
   "metadata": {},
   "outputs": [
    {
     "data": {
      "text/plain": [
       "0"
      ]
     },
     "execution_count": 6,
     "metadata": {},
     "output_type": "execute_result"
    }
   ],
   "source": [
    "#проверяем на дубликаты\n",
    "rest_data.duplicated().sum() "
   ]
  },
  {
   "cell_type": "code",
   "execution_count": 7,
   "metadata": {},
   "outputs": [
    {
     "data": {
      "text/plain": [
       "0      1621\n",
       "40      835\n",
       "20      727\n",
       "30      685\n",
       "10      644\n",
       "       ... \n",
       "491       1\n",
       "675       1\n",
       "455       1\n",
       "167       1\n",
       "495       1\n",
       "Name: number, Length: 315, dtype: int64"
      ]
     },
     "execution_count": 7,
     "metadata": {},
     "output_type": "execute_result"
    }
   ],
   "source": [
    "rest_data['number'].value_counts(ascending = False)"
   ]
  },
  {
   "cell_type": "code",
   "execution_count": 8,
   "metadata": {},
   "outputs": [],
   "source": [
    "zero = rest_data[rest_data['number'] == 0]"
   ]
  },
  {
   "cell_type": "code",
   "execution_count": 9,
   "metadata": {},
   "outputs": [
    {
     "data": {
      "image/png": "[encoded data removed]",
      "text/plain": [
       "<Figure size 864x432 with 1 Axes>"
      ]
     },
     "metadata": {
      "needs_background": "light"
     },
     "output_type": "display_data"
    }
   ],
   "source": [
    "#Посмотрим, для каких объектов характерно отсутствие посадочных мест\n",
    "plt.figure(figsize = (12,6))\n",
    "sns.countplot(y='object_type', hue='number', data=zero)\n",
    "plt.ylabel('')\n",
    "plt.xlabel('Кол-во объектов общественного питания')\n",
    "plt.show()"
   ]
  },
  {
   "cell_type": "code",
   "execution_count": 10,
   "metadata": {},
   "outputs": [
    {
     "data": {
      "text/plain": [
       "кафе                                 6099\n",
       "столовая                             2587\n",
       "ресторан                             2285\n",
       "предприятие быстрого обслуживания    1923\n",
       "бар                                   856\n",
       "буфет                                 585\n",
       "кафетерий                             398\n",
       "закусочная                            360\n",
       "магазин (отдел кулинарии)             273\n",
       "Name: object_type, dtype: int64"
      ]
     },
     "execution_count": 10,
     "metadata": {},
     "output_type": "execute_result"
    }
   ],
   "source": [
    "rest_data['object_type'].value_counts()"
   ]
  },
  {
   "cell_type": "markdown",
   "metadata": {},
   "source": [
    "### Вывод"
   ]
  },
  {
   "cell_type": "markdown",
   "metadata": {},
   "source": [
    "В преобработке данных были приведены названия столбцов к нижнему регистру, а также проверили наличие пропусков и дубликатов, которых не оказалось. Можно было бы столбец chain поменять на тип данных булев массив, но я не вижу в этом надобности. В конце построен график видов объектов общ. питания, у которых отсутствуют посадочные места, в основном это наблюдается у предприятий быстрого обслуживания."
   ]
  },
  {
   "cell_type": "markdown",
   "metadata": {},
   "source": [
    "## Анализ данных"
   ]
  },
  {
   "cell_type": "markdown",
   "metadata": {},
   "source": [
    "### Исследуем соотношение видов объектов общественного питания по количеству. Построим график."
   ]
  },
  {
   "cell_type": "code",
   "execution_count": 11,
   "metadata": {},
   "outputs": [
    {
     "name": "stdout",
     "output_type": "stream",
     "text": [
      "кафе                                 39.691527\n",
      "столовая                             16.835871\n",
      "ресторан                             14.870493\n",
      "предприятие быстрого обслуживания    12.514643\n",
      "бар                                   5.570741\n",
      "буфет                                 3.807107\n",
      "кафетерий                             2.590134\n",
      "закусочная                            2.342835\n",
      "магазин (отдел кулинарии)             1.776650\n",
      "Name: object_type, dtype: float64\n"
     ]
    }
   ],
   "source": [
    "#Процентная составляющая видов объектов общ. питания\n",
    "print(rest_data['object_type'].value_counts(ascending = False) / rest_data['object_type'].count() * 100) "
   ]
  },
  {
   "cell_type": "code",
   "execution_count": 12,
   "metadata": {},
   "outputs": [
    {
     "data": {
      "image/png": "[encoded data removed]",
      "text/plain": [
       "<Figure size 864x432 with 1 Axes>"
      ]
     },
     "metadata": {
      "needs_background": "light"
     },
     "output_type": "display_data"
    }
   ],
   "source": [
    "plt.figure(figsize = (12,6))\n",
    "sns.countplot(y='object_type', data=rest_data, \n",
    "              order = rest_data['object_type'].value_counts().index)\n",
    "plt.xlabel('Кол-во объектов общественного питания')\n",
    "plt.ylabel('')\n",
    "plt.title('Виды объектов общественного питания')\n",
    "plt.show()"
   ]
  },
  {
   "cell_type": "markdown",
   "metadata": {},
   "source": [
    "Большую часть объектов общ. питания занимают кафе, далее идут столовые, рестораны и т.д., меньше всего мы имеем закусочных и магазинов(отделов кулинарии)."
   ]
  },
  {
   "cell_type": "markdown",
   "metadata": {},
   "source": [
    "### Исследуем соотношение сетевых и несетевых заведений по количеству."
   ]
  },
  {
   "cell_type": "code",
   "execution_count": 13,
   "metadata": {},
   "outputs": [
    {
     "data": {
      "text/plain": [
       "нет    12398\n",
       "да      2968\n",
       "Name: chain, dtype: int64"
      ]
     },
     "execution_count": 13,
     "metadata": {},
     "output_type": "execute_result"
    }
   ],
   "source": [
    "rest_data['chain'].value_counts()"
   ]
  },
  {
   "cell_type": "code",
   "execution_count": 14,
   "metadata": {},
   "outputs": [
    {
     "data": {
      "text/plain": [
       "19.315371599635558"
      ]
     },
     "execution_count": 14,
     "metadata": {},
     "output_type": "execute_result"
    }
   ],
   "source": [
    "#Процент сетевых заведений\n",
    "rest_data[rest_data['chain'] == \"да\"]['object_type'].count() / rest_data['object_type'].count() * 100"
   ]
  },
  {
   "cell_type": "code",
   "execution_count": 15,
   "metadata": {},
   "outputs": [
    {
     "data": {
      "text/plain": [
       "80.68462840036445"
      ]
     },
     "execution_count": 15,
     "metadata": {},
     "output_type": "execute_result"
    }
   ],
   "source": [
    "#Процент несетевых заведений\n",
    "rest_data[rest_data['chain'] == \"нет\"]['object_type'].count() / rest_data['object_type'].count() * 100"
   ]
  },
  {
   "cell_type": "code",
   "execution_count": 16,
   "metadata": {},
   "outputs": [
    {
     "data": {
      "image/png": "[encoded data removed]",
      "text/plain": [
       "<Figure size 576x432 with 1 Axes>"
      ]
     },
     "metadata": {
      "needs_background": "light"
     },
     "output_type": "display_data"
    }
   ],
   "source": [
    "plt.figure(figsize = (8,6))\n",
    "sns.countplot(x='chain', data = rest_data)\n",
    "plt.ylabel('Кол-во объектов общественного питания')\n",
    "plt.xlabel('')\n",
    "plt.title('Сетевые и несетевые заведения')\n",
    "plt.show()"
   ]
  },
  {
   "cell_type": "markdown",
   "metadata": {},
   "source": [
    "Мы можем наблюдать доминацию несетевых заведений над сетевыми, т.к. несетевых 12398 заведений, а сетевых в 4 раза меньше, т.е. 2968."
   ]
  },
  {
   "cell_type": "markdown",
   "metadata": {},
   "source": [
    "### Рассмотрим для какого вида объекта общественного питания характерно сетевое распространение"
   ]
  },
  {
   "cell_type": "code",
   "execution_count": 17,
   "metadata": {},
   "outputs": [
    {
     "data": {
      "image/png": "[encoded data removed]",
      "text/plain": [
       "<Figure size 864x432 with 1 Axes>"
      ]
     },
     "metadata": {
      "needs_background": "light"
     },
     "output_type": "display_data"
    }
   ],
   "source": [
    "plt.figure(figsize = (12,6))\n",
    "sns.countplot(y='object_type', hue='chain', data=rest_data, \n",
    "              order = rest_data['object_type'].value_counts().index)\n",
    "plt.xlabel('Кол-во объектов общественного питания')\n",
    "plt.ylabel('')\n",
    "plt.title('Отношение сетевых и несетевых заведений у разных видов общ. питания')\n",
    "plt.show()"
   ]
  },
  {
   "cell_type": "code",
   "execution_count": 18,
   "metadata": {},
   "outputs": [
    {
     "data": {
      "text/plain": [
       "предприятие быстрого обслуживания    41.133645\n",
       "магазин (отдел кулинарии)            28.571429\n",
       "ресторан                             23.807440\n",
       "кафе                                 22.888998\n",
       "закусочная                           15.555556\n",
       "кафетерий                            13.065327\n",
       "бар                                   4.322430\n",
       "буфет                                 1.880342\n",
       "столовая                              0.115964\n",
       "Name: object_type, dtype: float64"
      ]
     },
     "execution_count": 18,
     "metadata": {},
     "output_type": "execute_result"
    }
   ],
   "source": [
    "#Процент сетевых заведений по типу объекта общ. питания\n",
    "(rest_data[rest_data['chain'] == 'да']['object_type'].value_counts() / \n",
    "    rest_data['object_type'].value_counts() * 100).sort_values(ascending = False)"
   ]
  },
  {
   "cell_type": "markdown",
   "metadata": {},
   "source": [
    "Исходя из нашего исследования, делаем вывод, что наибольшая предрасположенность к сетевому типу среди всех видов общ. питания у преприятий быстрого обслуживания, процент сетевых заведений относитено несетевых у них наибольшая и составляет 41%. Магазины, рестораны и кафе имеют 20-30% сетевых заведений относительно несетевых. А бары, буфеты и столовые совершенно не придерживается к сетевому типу заведений их процент составляет 4%, 1% и 0.1% соотвественно."
   ]
  },
  {
   "cell_type": "markdown",
   "metadata": {},
   "source": [
    "### Узнаем, что характерно для сетевых заведений: много заведений с небольшим числом посадочных мест в каждом или мало заведений с большим количеством посадочных мест"
   ]
  },
  {
   "cell_type": "code",
   "execution_count": 19,
   "metadata": {},
   "outputs": [],
   "source": [
    "chain_objects = rest_data[rest_data['chain'] == 'да'].groupby('object_name').agg({'object_name':'count', 'number':'median'})\n",
    "chain_objects.columns = ['objects', 'median_number']"
   ]
  },
  {
   "cell_type": "code",
   "execution_count": 20,
   "metadata": {},
   "outputs": [
    {
     "data": {
      "image/png": "[encoded data removed]",
      "text/plain": [
       "<Figure size 864x432 with 1 Axes>"
      ]
     },
     "metadata": {
      "needs_background": "light"
     },
     "output_type": "display_data"
    }
   ],
   "source": [
    "plt.figure(figsize=(12,6))\n",
    "plt.scatter(chain_objects['median_number'], chain_objects['objects'])\n",
    "plt.xlabel('Медианное кол-во посадочных мест')\n",
    "plt.ylabel('Кол-во сетевых заведений')\n",
    "plt.title('Совместное распределение количества сетевых заведений \\nи и их медианного количества посадочных мест', fontsize=13)\n",
    "plt.axhline(np.percentile(chain_objects['objects'], 90), linestyle='--', color='black')\n",
    "plt.axvline(np.percentile(chain_objects['median_number'], 90), linestyle='--', color='black')\n",
    "plt.text(390, 7, '90% заведений ниже этой линии')\n",
    "plt.text(135, 100, '90% заведений левее этой линии')\n",
    "plt.show()"
   ]
  },
  {
   "cell_type": "code",
   "execution_count": 21,
   "metadata": {},
   "outputs": [
    {
     "name": "stdout",
     "output_type": "stream",
     "text": [
      "125\n",
      "8\n"
     ]
    }
   ],
   "source": [
    "print(int(np.percentile(chain_objects['median_number'], 90)))\n",
    "print(int(np.percentile(chain_objects['objects'], 90)))"
   ]
  },
  {
   "cell_type": "markdown",
   "metadata": {},
   "source": [
    "У 90% процентов сетевых предприятий общ. питания меньше 125 посадочных мест и 8 заведений. Следовательно, делаем вывод, что более характерно для сетевых заведений - мало заведений с большим кол-вом мест."
   ]
  },
  {
   "cell_type": "markdown",
   "metadata": {},
   "source": [
    "### Опишем для каждого вида объекта общественного питания среднее кол-во посадочных мест"
   ]
  },
  {
   "cell_type": "code",
   "execution_count": 22,
   "metadata": {},
   "outputs": [],
   "source": [
    "data_object_number = rest_data.pivot_table(index = 'object_type', \n",
    "                                           values = 'number', \n",
    "                                           aggfunc = 'mean').sort_values(by='number', ascending=False).reset_index()"
   ]
  },
  {
   "cell_type": "code",
   "execution_count": 23,
   "metadata": {},
   "outputs": [
    {
     "data": {
      "text/html": [
       "<div>\n",
       "<style scoped>\n",
       "    .dataframe tbody tr th:only-of-type {\n",
       "        vertical-align: middle;\n",
       "    }\n",
       "\n",
       "    .dataframe tbody tr th {\n",
       "        vertical-align: top;\n",
       "    }\n",
       "\n",
       "    .dataframe thead th {\n",
       "        text-align: right;\n",
       "    }\n",
       "</style>\n",
       "<table border=\"1\" class=\"dataframe\">\n",
       "  <thead>\n",
       "    <tr style=\"text-align: right;\">\n",
       "      <th></th>\n",
       "      <th>object_type</th>\n",
       "      <th>number</th>\n",
       "    </tr>\n",
       "  </thead>\n",
       "  <tbody>\n",
       "    <tr>\n",
       "      <td>0</td>\n",
       "      <td>столовая</td>\n",
       "      <td>130.246618</td>\n",
       "    </tr>\n",
       "    <tr>\n",
       "      <td>1</td>\n",
       "      <td>ресторан</td>\n",
       "      <td>96.834136</td>\n",
       "    </tr>\n",
       "    <tr>\n",
       "      <td>2</td>\n",
       "      <td>буфет</td>\n",
       "      <td>51.129915</td>\n",
       "    </tr>\n",
       "    <tr>\n",
       "      <td>3</td>\n",
       "      <td>бар</td>\n",
       "      <td>43.494159</td>\n",
       "    </tr>\n",
       "    <tr>\n",
       "      <td>4</td>\n",
       "      <td>кафе</td>\n",
       "      <td>39.716019</td>\n",
       "    </tr>\n",
       "    <tr>\n",
       "      <td>5</td>\n",
       "      <td>предприятие быстрого обслуживания</td>\n",
       "      <td>20.552262</td>\n",
       "    </tr>\n",
       "    <tr>\n",
       "      <td>6</td>\n",
       "      <td>кафетерий</td>\n",
       "      <td>9.123116</td>\n",
       "    </tr>\n",
       "    <tr>\n",
       "      <td>7</td>\n",
       "      <td>закусочная</td>\n",
       "      <td>7.608333</td>\n",
       "    </tr>\n",
       "    <tr>\n",
       "      <td>8</td>\n",
       "      <td>магазин (отдел кулинарии)</td>\n",
       "      <td>5.589744</td>\n",
       "    </tr>\n",
       "  </tbody>\n",
       "</table>\n",
       "</div>"
      ],
      "text/plain": [
       "                         object_type      number\n",
       "0                           столовая  130.246618\n",
       "1                           ресторан   96.834136\n",
       "2                              буфет   51.129915\n",
       "3                                бар   43.494159\n",
       "4                               кафе   39.716019\n",
       "5  предприятие быстрого обслуживания   20.552262\n",
       "6                          кафетерий    9.123116\n",
       "7                         закусочная    7.608333\n",
       "8          магазин (отдел кулинарии)    5.589744"
      ]
     },
     "execution_count": 23,
     "metadata": {},
     "output_type": "execute_result"
    }
   ],
   "source": [
    "data_object_number"
   ]
  },
  {
   "cell_type": "code",
   "execution_count": 24,
   "metadata": {},
   "outputs": [
    {
     "data": {
      "image/png": "[encoded data removed]",
      "text/plain": [
       "<Figure size 864x432 with 1 Axes>"
      ]
     },
     "metadata": {
      "needs_background": "light"
     },
     "output_type": "display_data"
    }
   ],
   "source": [
    "plt.figure(figsize=(12,6))\n",
    "sns.barplot(y = \"object_type\", x = 'number', data = data_object_number)\n",
    "plt.xlabel('Среднее кол-во посадочных мест')\n",
    "plt.ylabel('')\n",
    "plt.title('Среднее кол-во посадочных мест у разных видов объектов общ. питания')\n",
    "plt.show()"
   ]
  },
  {
   "cell_type": "markdown",
   "metadata": {},
   "source": [
    "Наибольшее среднее кол-во посадочных мест у столовой, что характерно, далее идут рестораны, буфеты и т.д. В целом, среднее кол-во у всех видов объектов общ. питания выглядят логично."
   ]
  },
  {
   "cell_type": "markdown",
   "metadata": {},
   "source": [
    "### Cоздадим отдельный столбец с информацией об улице"
   ]
  },
  {
   "cell_type": "code",
   "execution_count": 25,
   "metadata": {},
   "outputs": [],
   "source": [
    "#Cоздаем столбец street\n",
    "rest_data['street'] = rest_data['address'].apply(lambda x: x.split(', ')[1])"
   ]
  },
  {
   "cell_type": "code",
   "execution_count": 26,
   "metadata": {},
   "outputs": [
    {
     "data": {
      "text/html": [
       "<div>\n",
       "<style scoped>\n",
       "    .dataframe tbody tr th:only-of-type {\n",
       "        vertical-align: middle;\n",
       "    }\n",
       "\n",
       "    .dataframe tbody tr th {\n",
       "        vertical-align: top;\n",
       "    }\n",
       "\n",
       "    .dataframe thead th {\n",
       "        text-align: right;\n",
       "    }\n",
       "</style>\n",
       "<table border=\"1\" class=\"dataframe\">\n",
       "  <thead>\n",
       "    <tr style=\"text-align: right;\">\n",
       "      <th></th>\n",
       "      <th>id</th>\n",
       "      <th>object_name</th>\n",
       "      <th>chain</th>\n",
       "      <th>object_type</th>\n",
       "      <th>address</th>\n",
       "      <th>number</th>\n",
       "      <th>street</th>\n",
       "    </tr>\n",
       "  </thead>\n",
       "  <tbody>\n",
       "    <tr>\n",
       "      <td>0</td>\n",
       "      <td>151635</td>\n",
       "      <td>сметана</td>\n",
       "      <td>нет</td>\n",
       "      <td>кафе</td>\n",
       "      <td>город Москва, улица Егора Абакумова, дом 9</td>\n",
       "      <td>48</td>\n",
       "      <td>улица Егора Абакумова</td>\n",
       "    </tr>\n",
       "    <tr>\n",
       "      <td>1</td>\n",
       "      <td>77874</td>\n",
       "      <td>родник</td>\n",
       "      <td>нет</td>\n",
       "      <td>кафе</td>\n",
       "      <td>город Москва, улица Талалихина, дом 2/1, корпус 1</td>\n",
       "      <td>35</td>\n",
       "      <td>улица Талалихина</td>\n",
       "    </tr>\n",
       "    <tr>\n",
       "      <td>2</td>\n",
       "      <td>24309</td>\n",
       "      <td>кафе «академия»</td>\n",
       "      <td>нет</td>\n",
       "      <td>кафе</td>\n",
       "      <td>город Москва, Абельмановская улица, дом 6</td>\n",
       "      <td>95</td>\n",
       "      <td>Абельмановская улица</td>\n",
       "    </tr>\n",
       "    <tr>\n",
       "      <td>3</td>\n",
       "      <td>21894</td>\n",
       "      <td>пиццетория</td>\n",
       "      <td>да</td>\n",
       "      <td>кафе</td>\n",
       "      <td>город Москва, Абрамцевская улица, дом 1</td>\n",
       "      <td>40</td>\n",
       "      <td>Абрамцевская улица</td>\n",
       "    </tr>\n",
       "    <tr>\n",
       "      <td>4</td>\n",
       "      <td>119365</td>\n",
       "      <td>кафе «вишневая метель»</td>\n",
       "      <td>нет</td>\n",
       "      <td>кафе</td>\n",
       "      <td>город Москва, Абрамцевская улица, дом 9, корпус 1</td>\n",
       "      <td>50</td>\n",
       "      <td>Абрамцевская улица</td>\n",
       "    </tr>\n",
       "    <tr>\n",
       "      <td>...</td>\n",
       "      <td>...</td>\n",
       "      <td>...</td>\n",
       "      <td>...</td>\n",
       "      <td>...</td>\n",
       "      <td>...</td>\n",
       "      <td>...</td>\n",
       "      <td>...</td>\n",
       "    </tr>\n",
       "    <tr>\n",
       "      <td>15361</td>\n",
       "      <td>208537</td>\n",
       "      <td>шоколадница</td>\n",
       "      <td>да</td>\n",
       "      <td>кафе</td>\n",
       "      <td>город Москва, 3-й Крутицкий переулок, дом 18</td>\n",
       "      <td>50</td>\n",
       "      <td>3-й Крутицкий переулок</td>\n",
       "    </tr>\n",
       "    <tr>\n",
       "      <td>15362</td>\n",
       "      <td>209264</td>\n",
       "      <td>шоколадница</td>\n",
       "      <td>да</td>\n",
       "      <td>кафе</td>\n",
       "      <td>город Москва, улица Земляной Вал, дом 33</td>\n",
       "      <td>10</td>\n",
       "      <td>улица Земляной Вал</td>\n",
       "    </tr>\n",
       "    <tr>\n",
       "      <td>15363</td>\n",
       "      <td>209186</td>\n",
       "      <td>шоколадница</td>\n",
       "      <td>да</td>\n",
       "      <td>кафе</td>\n",
       "      <td>город Москва, улица Земляной Вал, дом 33</td>\n",
       "      <td>20</td>\n",
       "      <td>улица Земляной Вал</td>\n",
       "    </tr>\n",
       "    <tr>\n",
       "      <td>15364</td>\n",
       "      <td>221900</td>\n",
       "      <td>шоколадница</td>\n",
       "      <td>да</td>\n",
       "      <td>кафе</td>\n",
       "      <td>город Москва, поселение Московский, Киевское ш...</td>\n",
       "      <td>36</td>\n",
       "      <td>поселение Московский</td>\n",
       "    </tr>\n",
       "    <tr>\n",
       "      <td>15365</td>\n",
       "      <td>222535</td>\n",
       "      <td>шоколадница</td>\n",
       "      <td>да</td>\n",
       "      <td>кафе</td>\n",
       "      <td>город Москва, Ходынский бульвар, дом 4</td>\n",
       "      <td>10</td>\n",
       "      <td>Ходынский бульвар</td>\n",
       "    </tr>\n",
       "  </tbody>\n",
       "</table>\n",
       "<p>15366 rows × 7 columns</p>\n",
       "</div>"
      ],
      "text/plain": [
       "           id             object_name chain object_type  \\\n",
       "0      151635                 сметана   нет        кафе   \n",
       "1       77874                  родник   нет        кафе   \n",
       "2       24309         кафе «академия»   нет        кафе   \n",
       "3       21894              пиццетория    да        кафе   \n",
       "4      119365  кафе «вишневая метель»   нет        кафе   \n",
       "...       ...                     ...   ...         ...   \n",
       "15361  208537             шоколадница    да        кафе   \n",
       "15362  209264             шоколадница    да        кафе   \n",
       "15363  209186             шоколадница    да        кафе   \n",
       "15364  221900             шоколадница    да        кафе   \n",
       "15365  222535             шоколадница    да        кафе   \n",
       "\n",
       "                                                 address  number  \\\n",
       "0             город Москва, улица Егора Абакумова, дом 9      48   \n",
       "1      город Москва, улица Талалихина, дом 2/1, корпус 1      35   \n",
       "2              город Москва, Абельмановская улица, дом 6      95   \n",
       "3                город Москва, Абрамцевская улица, дом 1      40   \n",
       "4      город Москва, Абрамцевская улица, дом 9, корпус 1      50   \n",
       "...                                                  ...     ...   \n",
       "15361       город Москва, 3-й Крутицкий переулок, дом 18      50   \n",
       "15362           город Москва, улица Земляной Вал, дом 33      10   \n",
       "15363           город Москва, улица Земляной Вал, дом 33      20   \n",
       "15364  город Москва, поселение Московский, Киевское ш...      36   \n",
       "15365             город Москва, Ходынский бульвар, дом 4      10   \n",
       "\n",
       "                       street  \n",
       "0       улица Егора Абакумова  \n",
       "1            улица Талалихина  \n",
       "2        Абельмановская улица  \n",
       "3          Абрамцевская улица  \n",
       "4          Абрамцевская улица  \n",
       "...                       ...  \n",
       "15361  3-й Крутицкий переулок  \n",
       "15362      улица Земляной Вал  \n",
       "15363      улица Земляной Вал  \n",
       "15364    поселение Московский  \n",
       "15365       Ходынский бульвар  \n",
       "\n",
       "[15366 rows x 7 columns]"
      ]
     },
     "execution_count": 26,
     "metadata": {},
     "output_type": "execute_result"
    }
   ],
   "source": [
    "rest_data"
   ]
  },
  {
   "cell_type": "code",
   "execution_count": 27,
   "metadata": {},
   "outputs": [],
   "source": [
    "rest_data1 = rest_data.loc[rest_data['street'] != 'город Зеленоград']\n",
    "rest_data2 = rest_data1.loc[rest_data['street'] != 'поселение Сосенское']"
   ]
  },
  {
   "cell_type": "markdown",
   "metadata": {},
   "source": [
    "Был создан столбец с информацией об улице заведений, а также убраны город Зеленоград и поселение Сосенское, т.к. мы не можем их отнести к улицам."
   ]
  },
  {
   "cell_type": "markdown",
   "metadata": {},
   "source": [
    "### Найдем топ 10 улиц по кол-ву объектов общественного питания, а также рассмотрим в каких районах они находятся."
   ]
  },
  {
   "cell_type": "code",
   "execution_count": 28,
   "metadata": {},
   "outputs": [
    {
     "data": {
      "text/plain": [
       "проспект Мира             204\n",
       "Профсоюзная улица         182\n",
       "Ленинградский проспект    171\n",
       "Пресненская набережная    167\n",
       "Варшавское шоссе          161\n",
       "Ленинский проспект        147\n",
       "проспект Вернадского      132\n",
       "Кутузовский проспект      114\n",
       "Каширское шоссе           112\n",
       "Кировоградская улица      110\n",
       "Name: street, dtype: int64"
      ]
     },
     "execution_count": 28,
     "metadata": {},
     "output_type": "execute_result"
    }
   ],
   "source": [
    "rest_data2['street'].value_counts().sort_values(ascending = False).head(10)"
   ]
  },
  {
   "cell_type": "code",
   "execution_count": 29,
   "metadata": {},
   "outputs": [
    {
     "data": {
      "image/png": "[encoded data removed]",
      "text/plain": [
       "<Figure size 864x432 with 1 Axes>"
      ]
     },
     "metadata": {
      "needs_background": "light"
     },
     "output_type": "display_data"
    }
   ],
   "source": [
    "plt.figure(figsize=(12,6))\n",
    "sns.countplot(y='street', data=rest_data2, \n",
    "              order = rest_data2['street'].value_counts().head(10).index)\n",
    "plt.xlabel('Кол-во объектов общественного питания')\n",
    "plt.ylabel('')\n",
    "plt.title('Топ 10 улиц по кол-ву объектов общ. питания')\n",
    "plt.show()"
   ]
  },
  {
   "cell_type": "code",
   "execution_count": 30,
   "metadata": {},
   "outputs": [
    {
     "name": "stdout",
     "output_type": "stream",
     "text": [
      "<class 'pandas.core.frame.DataFrame'>\n",
      "RangeIndex: 4398 entries, 0 to 4397\n",
      "Data columns (total 4 columns):\n",
      "streetname    4398 non-null object\n",
      "areaid        4398 non-null int64\n",
      "okrug         4398 non-null object\n",
      "area          4398 non-null object\n",
      "dtypes: int64(1), object(3)\n",
      "memory usage: 137.6+ KB\n"
     ]
    }
   ],
   "source": [
    "#Загружаем таблицу с улицами, районами и округами.\n",
    "street = pd.read_csv('http://hubofdata.ru/storage/f/2013-10-22T09%3A25%3A27.793Z/mosgaz-streets.csv')\n",
    "street.info()"
   ]
  },
  {
   "cell_type": "code",
   "execution_count": 31,
   "metadata": {},
   "outputs": [
    {
     "data": {
      "text/plain": [
       "streetname\n",
       "Московская Кольцевая Автодорога                    42\n",
       "Малое кольцо Московской железной дороги (МКМЖД)    40\n",
       "Варшавское шоссе                                    8\n",
       "Ленинский проспект                                  8\n",
       "Волгоградский проспект                              7\n",
       "                                                   ..\n",
       "Петровско-Разумовский проезд                        1\n",
       "Петровско-Разумовская аллея                         1\n",
       "Петровский переулок                                 1\n",
       "Петровский бульвар                                  1\n",
       "1-й Автозаводский проезд                            1\n",
       "Name: area, Length: 3604, dtype: int64"
      ]
     },
     "execution_count": 31,
     "metadata": {},
     "output_type": "execute_result"
    }
   ],
   "source": [
    "street.groupby('streetname')['area'].count().sort_values(ascending = False)"
   ]
  },
  {
   "cell_type": "code",
   "execution_count": 32,
   "metadata": {},
   "outputs": [],
   "source": [
    "street.rename(columns = {'streetname':'street'}, inplace = True)"
   ]
  },
  {
   "cell_type": "code",
   "execution_count": 33,
   "metadata": {},
   "outputs": [
    {
     "data": {
      "text/html": [
       "<div>\n",
       "<style scoped>\n",
       "    .dataframe tbody tr th:only-of-type {\n",
       "        vertical-align: middle;\n",
       "    }\n",
       "\n",
       "    .dataframe tbody tr th {\n",
       "        vertical-align: top;\n",
       "    }\n",
       "\n",
       "    .dataframe thead th {\n",
       "        text-align: right;\n",
       "    }\n",
       "</style>\n",
       "<table border=\"1\" class=\"dataframe\">\n",
       "  <thead>\n",
       "    <tr style=\"text-align: right;\">\n",
       "      <th></th>\n",
       "      <th>id</th>\n",
       "      <th>object_name</th>\n",
       "      <th>chain</th>\n",
       "      <th>object_type</th>\n",
       "      <th>address</th>\n",
       "      <th>number</th>\n",
       "      <th>street</th>\n",
       "      <th>areaid</th>\n",
       "      <th>okrug</th>\n",
       "      <th>area</th>\n",
       "    </tr>\n",
       "  </thead>\n",
       "  <tbody>\n",
       "    <tr>\n",
       "      <td>0</td>\n",
       "      <td>151635</td>\n",
       "      <td>сметана</td>\n",
       "      <td>нет</td>\n",
       "      <td>кафе</td>\n",
       "      <td>город Москва, улица Егора Абакумова, дом 9</td>\n",
       "      <td>48</td>\n",
       "      <td>улица Егора Абакумова</td>\n",
       "      <td>86</td>\n",
       "      <td>СВАО</td>\n",
       "      <td>Ярославский Район</td>\n",
       "    </tr>\n",
       "    <tr>\n",
       "      <td>1</td>\n",
       "      <td>193477</td>\n",
       "      <td>grill-house</td>\n",
       "      <td>нет</td>\n",
       "      <td>закусочная</td>\n",
       "      <td>город Москва, улица Егора Абакумова, дом 14А</td>\n",
       "      <td>0</td>\n",
       "      <td>улица Егора Абакумова</td>\n",
       "      <td>86</td>\n",
       "      <td>СВАО</td>\n",
       "      <td>Ярославский Район</td>\n",
       "    </tr>\n",
       "    <tr>\n",
       "      <td>2</td>\n",
       "      <td>196756</td>\n",
       "      <td>пекарня</td>\n",
       "      <td>нет</td>\n",
       "      <td>кафетерий</td>\n",
       "      <td>город Москва, улица Егора Абакумова, дом 14А</td>\n",
       "      <td>12</td>\n",
       "      <td>улица Егора Абакумова</td>\n",
       "      <td>86</td>\n",
       "      <td>СВАО</td>\n",
       "      <td>Ярославский Район</td>\n",
       "    </tr>\n",
       "    <tr>\n",
       "      <td>3</td>\n",
       "      <td>77874</td>\n",
       "      <td>родник</td>\n",
       "      <td>нет</td>\n",
       "      <td>кафе</td>\n",
       "      <td>город Москва, улица Талалихина, дом 2/1, корпус 1</td>\n",
       "      <td>35</td>\n",
       "      <td>улица Талалихина</td>\n",
       "      <td>18</td>\n",
       "      <td>ЦАО</td>\n",
       "      <td>Таганский район</td>\n",
       "    </tr>\n",
       "    <tr>\n",
       "      <td>4</td>\n",
       "      <td>77874</td>\n",
       "      <td>родник</td>\n",
       "      <td>нет</td>\n",
       "      <td>кафе</td>\n",
       "      <td>город Москва, улица Талалихина, дом 2/1, корпус 1</td>\n",
       "      <td>35</td>\n",
       "      <td>улица Талалихина</td>\n",
       "      <td>117</td>\n",
       "      <td>ЮВАО</td>\n",
       "      <td>Нижегородский район</td>\n",
       "    </tr>\n",
       "    <tr>\n",
       "      <td>...</td>\n",
       "      <td>...</td>\n",
       "      <td>...</td>\n",
       "      <td>...</td>\n",
       "      <td>...</td>\n",
       "      <td>...</td>\n",
       "      <td>...</td>\n",
       "      <td>...</td>\n",
       "      <td>...</td>\n",
       "      <td>...</td>\n",
       "      <td>...</td>\n",
       "    </tr>\n",
       "    <tr>\n",
       "      <td>28887</td>\n",
       "      <td>213369</td>\n",
       "      <td>великолепный век</td>\n",
       "      <td>нет</td>\n",
       "      <td>ресторан</td>\n",
       "      <td>город Москва, улица Кожевнический Вражек, дом 3А</td>\n",
       "      <td>38</td>\n",
       "      <td>улица Кожевнический Вражек</td>\n",
       "      <td>98</td>\n",
       "      <td>ЮАО</td>\n",
       "      <td>Даниловский район</td>\n",
       "    </tr>\n",
       "    <tr>\n",
       "      <td>28888</td>\n",
       "      <td>206426</td>\n",
       "      <td>чайхана «мантыбар»</td>\n",
       "      <td>нет</td>\n",
       "      <td>ресторан</td>\n",
       "      <td>город Москва, улица Кожевнический Вражек, дом 3А</td>\n",
       "      <td>30</td>\n",
       "      <td>улица Кожевнический Вражек</td>\n",
       "      <td>98</td>\n",
       "      <td>ЮАО</td>\n",
       "      <td>Даниловский район</td>\n",
       "    </tr>\n",
       "    <tr>\n",
       "      <td>28889</td>\n",
       "      <td>214324</td>\n",
       "      <td>кадаши ( закрытый)</td>\n",
       "      <td>нет</td>\n",
       "      <td>ресторан</td>\n",
       "      <td>город Москва, 2-й Кадашёвский переулок, дом 16...</td>\n",
       "      <td>15</td>\n",
       "      <td>2-й Кадашёвский переулок</td>\n",
       "      <td>21</td>\n",
       "      <td>ЦАО</td>\n",
       "      <td>Район Якиманка</td>\n",
       "    </tr>\n",
       "    <tr>\n",
       "      <td>28890</td>\n",
       "      <td>213851</td>\n",
       "      <td>ресторан «атмосфера»</td>\n",
       "      <td>нет</td>\n",
       "      <td>ресторан</td>\n",
       "      <td>город Москва, улица Василисы Кожиной, дом 1, к...</td>\n",
       "      <td>49</td>\n",
       "      <td>улица Василисы Кожиной</td>\n",
       "      <td>48</td>\n",
       "      <td>ЗАО</td>\n",
       "      <td>Район Филевский Парк</td>\n",
       "    </tr>\n",
       "    <tr>\n",
       "      <td>28891</td>\n",
       "      <td>213864</td>\n",
       "      <td>столовая</td>\n",
       "      <td>нет</td>\n",
       "      <td>столовая</td>\n",
       "      <td>город Москва, улица Василисы Кожиной, дом 1, к...</td>\n",
       "      <td>49</td>\n",
       "      <td>улица Василисы Кожиной</td>\n",
       "      <td>48</td>\n",
       "      <td>ЗАО</td>\n",
       "      <td>Район Филевский Парк</td>\n",
       "    </tr>\n",
       "  </tbody>\n",
       "</table>\n",
       "<p>28892 rows × 10 columns</p>\n",
       "</div>"
      ],
      "text/plain": [
       "           id           object_name chain object_type  \\\n",
       "0      151635               сметана   нет        кафе   \n",
       "1      193477           grill-house   нет  закусочная   \n",
       "2      196756               пекарня   нет   кафетерий   \n",
       "3       77874                родник   нет        кафе   \n",
       "4       77874                родник   нет        кафе   \n",
       "...       ...                   ...   ...         ...   \n",
       "28887  213369      великолепный век   нет    ресторан   \n",
       "28888  206426    чайхана «мантыбар»   нет    ресторан   \n",
       "28889  214324    кадаши ( закрытый)   нет    ресторан   \n",
       "28890  213851  ресторан «атмосфера»   нет    ресторан   \n",
       "28891  213864              столовая   нет    столовая   \n",
       "\n",
       "                                                 address  number  \\\n",
       "0             город Москва, улица Егора Абакумова, дом 9      48   \n",
       "1           город Москва, улица Егора Абакумова, дом 14А       0   \n",
       "2           город Москва, улица Егора Абакумова, дом 14А      12   \n",
       "3      город Москва, улица Талалихина, дом 2/1, корпус 1      35   \n",
       "4      город Москва, улица Талалихина, дом 2/1, корпус 1      35   \n",
       "...                                                  ...     ...   \n",
       "28887   город Москва, улица Кожевнический Вражек, дом 3А      38   \n",
       "28888   город Москва, улица Кожевнический Вражек, дом 3А      30   \n",
       "28889  город Москва, 2-й Кадашёвский переулок, дом 16...      15   \n",
       "28890  город Москва, улица Василисы Кожиной, дом 1, к...      49   \n",
       "28891  город Москва, улица Василисы Кожиной, дом 1, к...      49   \n",
       "\n",
       "                           street  areaid okrug                  area  \n",
       "0           улица Егора Абакумова      86  СВАО     Ярославский Район  \n",
       "1           улица Егора Абакумова      86  СВАО     Ярославский Район  \n",
       "2           улица Егора Абакумова      86  СВАО     Ярославский Район  \n",
       "3                улица Талалихина      18   ЦАО       Таганский район  \n",
       "4                улица Талалихина     117  ЮВАО   Нижегородский район  \n",
       "...                           ...     ...   ...                   ...  \n",
       "28887  улица Кожевнический Вражек      98   ЮАО     Даниловский район  \n",
       "28888  улица Кожевнический Вражек      98   ЮАО     Даниловский район  \n",
       "28889    2-й Кадашёвский переулок      21   ЦАО        Район Якиманка  \n",
       "28890      улица Василисы Кожиной      48   ЗАО  Район Филевский Парк  \n",
       "28891      улица Василисы Кожиной      48   ЗАО  Район Филевский Парк  \n",
       "\n",
       "[28892 rows x 10 columns]"
      ]
     },
     "execution_count": 33,
     "metadata": {},
     "output_type": "execute_result"
    }
   ],
   "source": [
    "#Cоединяем две наши таблицы по улице\n",
    "rest_data_new = rest_data2.merge(street, on = 'street') \n",
    "rest_data_new"
   ]
  },
  {
   "cell_type": "code",
   "execution_count": 34,
   "metadata": {},
   "outputs": [],
   "source": [
    "#Избавляемся от дубликатов\n",
    "rest_data_new = rest_data_new.drop_duplicates()"
   ]
  },
  {
   "cell_type": "code",
   "execution_count": 35,
   "metadata": {},
   "outputs": [
    {
     "data": {
      "text/plain": [
       "0"
      ]
     },
     "execution_count": 35,
     "metadata": {},
     "output_type": "execute_result"
    }
   ],
   "source": [
    "rest_data_new.duplicated().sum()"
   ]
  },
  {
   "cell_type": "code",
   "execution_count": 36,
   "metadata": {},
   "outputs": [],
   "source": [
    "rest_area = rest_data_new.pivot_table(index=['street','area', 'okrug'], values='number', aggfunc='count') \\\n",
    ".sort_values(by='number', ascending=False).reset_index()"
   ]
  },
  {
   "cell_type": "code",
   "execution_count": 50,
   "metadata": {},
   "outputs": [
    {
     "data": {
      "text/plain": [
       "ЦАО           641\n",
       "ВАО           258\n",
       "СВАО          246\n",
       "САО           238\n",
       "ЮАО           225\n",
       "ЮВАО          190\n",
       "ЗАО           187\n",
       "ЮЗАО          168\n",
       "СЗАО          110\n",
       "Зеленоград     14\n",
       "Name: okrug, dtype: int64"
      ]
     },
     "execution_count": 50,
     "metadata": {},
     "output_type": "execute_result"
    }
   ],
   "source": [
    "rest_area['okrug'].value_counts()"
   ]
  },
  {
   "cell_type": "code",
   "execution_count": 37,
   "metadata": {},
   "outputs": [
    {
     "data": {
      "text/html": [
       "<div>\n",
       "<style scoped>\n",
       "    .dataframe tbody tr th:only-of-type {\n",
       "        vertical-align: middle;\n",
       "    }\n",
       "\n",
       "    .dataframe tbody tr th {\n",
       "        vertical-align: top;\n",
       "    }\n",
       "\n",
       "    .dataframe thead th {\n",
       "        text-align: right;\n",
       "    }\n",
       "</style>\n",
       "<table border=\"1\" class=\"dataframe\">\n",
       "  <thead>\n",
       "    <tr style=\"text-align: right;\">\n",
       "      <th></th>\n",
       "      <th>street</th>\n",
       "      <th>area</th>\n",
       "      <th>okrug</th>\n",
       "      <th>number</th>\n",
       "    </tr>\n",
       "  </thead>\n",
       "  <tbody>\n",
       "    <tr>\n",
       "      <td>0</td>\n",
       "      <td>проспект Мира</td>\n",
       "      <td>Алексеевский район</td>\n",
       "      <td>СВАО</td>\n",
       "      <td>204</td>\n",
       "    </tr>\n",
       "    <tr>\n",
       "      <td>1</td>\n",
       "      <td>проспект Мира</td>\n",
       "      <td>Мещанский район</td>\n",
       "      <td>ЦАО</td>\n",
       "      <td>204</td>\n",
       "    </tr>\n",
       "    <tr>\n",
       "      <td>2</td>\n",
       "      <td>проспект Мира</td>\n",
       "      <td>Останкинский район</td>\n",
       "      <td>СВАО</td>\n",
       "      <td>204</td>\n",
       "    </tr>\n",
       "    <tr>\n",
       "      <td>3</td>\n",
       "      <td>проспект Мира</td>\n",
       "      <td>Район Марьина роща</td>\n",
       "      <td>СВАО</td>\n",
       "      <td>204</td>\n",
       "    </tr>\n",
       "    <tr>\n",
       "      <td>4</td>\n",
       "      <td>проспект Мира</td>\n",
       "      <td>Район Ростокино</td>\n",
       "      <td>СВАО</td>\n",
       "      <td>204</td>\n",
       "    </tr>\n",
       "    <tr>\n",
       "      <td>5</td>\n",
       "      <td>проспект Мира</td>\n",
       "      <td>Район Свиблово</td>\n",
       "      <td>СВАО</td>\n",
       "      <td>204</td>\n",
       "    </tr>\n",
       "    <tr>\n",
       "      <td>6</td>\n",
       "      <td>проспект Мира</td>\n",
       "      <td>Ярославский Район</td>\n",
       "      <td>СВАО</td>\n",
       "      <td>204</td>\n",
       "    </tr>\n",
       "    <tr>\n",
       "      <td>7</td>\n",
       "      <td>Профсоюзная улица</td>\n",
       "      <td>Район Ясенево</td>\n",
       "      <td>ЮЗАО</td>\n",
       "      <td>182</td>\n",
       "    </tr>\n",
       "    <tr>\n",
       "      <td>8</td>\n",
       "      <td>Профсоюзная улица</td>\n",
       "      <td>Район Черемушки</td>\n",
       "      <td>ЮЗАО</td>\n",
       "      <td>182</td>\n",
       "    </tr>\n",
       "    <tr>\n",
       "      <td>9</td>\n",
       "      <td>Профсоюзная улица</td>\n",
       "      <td>Академический район</td>\n",
       "      <td>ЮЗАО</td>\n",
       "      <td>182</td>\n",
       "    </tr>\n",
       "    <tr>\n",
       "      <td>10</td>\n",
       "      <td>Профсоюзная улица</td>\n",
       "      <td>Обручевский район</td>\n",
       "      <td>ЮЗАО</td>\n",
       "      <td>182</td>\n",
       "    </tr>\n",
       "    <tr>\n",
       "      <td>11</td>\n",
       "      <td>Профсоюзная улица</td>\n",
       "      <td>Район Коньково</td>\n",
       "      <td>ЮЗАО</td>\n",
       "      <td>182</td>\n",
       "    </tr>\n",
       "    <tr>\n",
       "      <td>12</td>\n",
       "      <td>Профсоюзная улица</td>\n",
       "      <td>Район Теплый Стан</td>\n",
       "      <td>ЮЗАО</td>\n",
       "      <td>182</td>\n",
       "    </tr>\n",
       "    <tr>\n",
       "      <td>13</td>\n",
       "      <td>Ленинградский проспект</td>\n",
       "      <td>Район Аэропорт</td>\n",
       "      <td>САО</td>\n",
       "      <td>171</td>\n",
       "    </tr>\n",
       "    <tr>\n",
       "      <td>14</td>\n",
       "      <td>Ленинградский проспект</td>\n",
       "      <td>Район Беговой</td>\n",
       "      <td>САО</td>\n",
       "      <td>171</td>\n",
       "    </tr>\n",
       "    <tr>\n",
       "      <td>15</td>\n",
       "      <td>Ленинградский проспект</td>\n",
       "      <td>Район Сокол</td>\n",
       "      <td>САО</td>\n",
       "      <td>171</td>\n",
       "    </tr>\n",
       "    <tr>\n",
       "      <td>16</td>\n",
       "      <td>Ленинградский проспект</td>\n",
       "      <td>Хорошевский район</td>\n",
       "      <td>САО</td>\n",
       "      <td>171</td>\n",
       "    </tr>\n",
       "    <tr>\n",
       "      <td>17</td>\n",
       "      <td>Пресненская набережная</td>\n",
       "      <td>Пресненский район</td>\n",
       "      <td>ЦАО</td>\n",
       "      <td>167</td>\n",
       "    </tr>\n",
       "    <tr>\n",
       "      <td>18</td>\n",
       "      <td>Варшавское шоссе</td>\n",
       "      <td>Район Чертаново Южное</td>\n",
       "      <td>ЮАО</td>\n",
       "      <td>161</td>\n",
       "    </tr>\n",
       "    <tr>\n",
       "      <td>19</td>\n",
       "      <td>Варшавское шоссе</td>\n",
       "      <td>Донской район</td>\n",
       "      <td>ЮАО</td>\n",
       "      <td>161</td>\n",
       "    </tr>\n",
       "    <tr>\n",
       "      <td>20</td>\n",
       "      <td>Варшавское шоссе</td>\n",
       "      <td>Нагорный район</td>\n",
       "      <td>ЮАО</td>\n",
       "      <td>161</td>\n",
       "    </tr>\n",
       "    <tr>\n",
       "      <td>21</td>\n",
       "      <td>Варшавское шоссе</td>\n",
       "      <td>Район Нагатино-Садовники</td>\n",
       "      <td>ЮАО</td>\n",
       "      <td>161</td>\n",
       "    </tr>\n",
       "    <tr>\n",
       "      <td>22</td>\n",
       "      <td>Варшавское шоссе</td>\n",
       "      <td>Район Северное Бутово</td>\n",
       "      <td>ЮЗАО</td>\n",
       "      <td>161</td>\n",
       "    </tr>\n",
       "    <tr>\n",
       "      <td>23</td>\n",
       "      <td>Варшавское шоссе</td>\n",
       "      <td>Район Чертаново Северное</td>\n",
       "      <td>ЮАО</td>\n",
       "      <td>161</td>\n",
       "    </tr>\n",
       "    <tr>\n",
       "      <td>24</td>\n",
       "      <td>Варшавское шоссе</td>\n",
       "      <td>Район Чертаново Центральное</td>\n",
       "      <td>ЮАО</td>\n",
       "      <td>161</td>\n",
       "    </tr>\n",
       "    <tr>\n",
       "      <td>25</td>\n",
       "      <td>Варшавское шоссе</td>\n",
       "      <td>Район Южное Бутово</td>\n",
       "      <td>ЮЗАО</td>\n",
       "      <td>161</td>\n",
       "    </tr>\n",
       "    <tr>\n",
       "      <td>26</td>\n",
       "      <td>Ленинский проспект</td>\n",
       "      <td>Район Якиманка</td>\n",
       "      <td>ЦАО</td>\n",
       "      <td>147</td>\n",
       "    </tr>\n",
       "    <tr>\n",
       "      <td>27</td>\n",
       "      <td>Ленинский проспект</td>\n",
       "      <td>Район Тропарево-Никулино</td>\n",
       "      <td>ЗАО</td>\n",
       "      <td>147</td>\n",
       "    </tr>\n",
       "    <tr>\n",
       "      <td>28</td>\n",
       "      <td>Ленинский проспект</td>\n",
       "      <td>Район Теплый Стан</td>\n",
       "      <td>ЮЗАО</td>\n",
       "      <td>147</td>\n",
       "    </tr>\n",
       "    <tr>\n",
       "      <td>29</td>\n",
       "      <td>Ленинский проспект</td>\n",
       "      <td>Район Проспект Вернадского</td>\n",
       "      <td>ЗАО</td>\n",
       "      <td>147</td>\n",
       "    </tr>\n",
       "    <tr>\n",
       "      <td>30</td>\n",
       "      <td>Ленинский проспект</td>\n",
       "      <td>Район Гагаринский</td>\n",
       "      <td>ЮЗАО</td>\n",
       "      <td>147</td>\n",
       "    </tr>\n",
       "    <tr>\n",
       "      <td>31</td>\n",
       "      <td>Ленинский проспект</td>\n",
       "      <td>Обручевский район</td>\n",
       "      <td>ЮЗАО</td>\n",
       "      <td>147</td>\n",
       "    </tr>\n",
       "    <tr>\n",
       "      <td>32</td>\n",
       "      <td>Ленинский проспект</td>\n",
       "      <td>Ломоносовский район</td>\n",
       "      <td>ЮЗАО</td>\n",
       "      <td>147</td>\n",
       "    </tr>\n",
       "    <tr>\n",
       "      <td>33</td>\n",
       "      <td>Ленинский проспект</td>\n",
       "      <td>Донской район</td>\n",
       "      <td>ЮАО</td>\n",
       "      <td>147</td>\n",
       "    </tr>\n",
       "    <tr>\n",
       "      <td>34</td>\n",
       "      <td>проспект Вернадского</td>\n",
       "      <td>Ломоносовский район</td>\n",
       "      <td>ЮЗАО</td>\n",
       "      <td>132</td>\n",
       "    </tr>\n",
       "    <tr>\n",
       "      <td>35</td>\n",
       "      <td>проспект Вернадского</td>\n",
       "      <td>Район Гагаринский</td>\n",
       "      <td>ЮЗАО</td>\n",
       "      <td>132</td>\n",
       "    </tr>\n",
       "    <tr>\n",
       "      <td>36</td>\n",
       "      <td>проспект Вернадского</td>\n",
       "      <td>Район Проспект Вернадского</td>\n",
       "      <td>ЗАО</td>\n",
       "      <td>132</td>\n",
       "    </tr>\n",
       "    <tr>\n",
       "      <td>37</td>\n",
       "      <td>проспект Вернадского</td>\n",
       "      <td>Район Раменки</td>\n",
       "      <td>ЗАО</td>\n",
       "      <td>132</td>\n",
       "    </tr>\n",
       "    <tr>\n",
       "      <td>38</td>\n",
       "      <td>проспект Вернадского</td>\n",
       "      <td>Район Тропарево-Никулино</td>\n",
       "      <td>ЗАО</td>\n",
       "      <td>132</td>\n",
       "    </tr>\n",
       "    <tr>\n",
       "      <td>39</td>\n",
       "      <td>Кутузовский проспект</td>\n",
       "      <td>Район Дорогомилово</td>\n",
       "      <td>ЗАО</td>\n",
       "      <td>114</td>\n",
       "    </tr>\n",
       "    <tr>\n",
       "      <td>40</td>\n",
       "      <td>Кутузовский проспект</td>\n",
       "      <td>Район Фили-Давыдково</td>\n",
       "      <td>ЗАО</td>\n",
       "      <td>114</td>\n",
       "    </tr>\n",
       "    <tr>\n",
       "      <td>41</td>\n",
       "      <td>Каширское шоссе</td>\n",
       "      <td>Район Москворечье-Сабурово</td>\n",
       "      <td>ЮАО</td>\n",
       "      <td>112</td>\n",
       "    </tr>\n",
       "    <tr>\n",
       "      <td>42</td>\n",
       "      <td>Каширское шоссе</td>\n",
       "      <td>Район Орехово-Борисово Южное</td>\n",
       "      <td>ЮАО</td>\n",
       "      <td>112</td>\n",
       "    </tr>\n",
       "    <tr>\n",
       "      <td>43</td>\n",
       "      <td>Каширское шоссе</td>\n",
       "      <td>Район Орехово-Борисово Северное</td>\n",
       "      <td>ЮАО</td>\n",
       "      <td>112</td>\n",
       "    </tr>\n",
       "    <tr>\n",
       "      <td>44</td>\n",
       "      <td>Каширское шоссе</td>\n",
       "      <td>Район Нагатино-Садовники</td>\n",
       "      <td>ЮАО</td>\n",
       "      <td>112</td>\n",
       "    </tr>\n",
       "    <tr>\n",
       "      <td>45</td>\n",
       "      <td>Кировоградская улица</td>\n",
       "      <td>Район Чертаново Центральное</td>\n",
       "      <td>ЮАО</td>\n",
       "      <td>110</td>\n",
       "    </tr>\n",
       "    <tr>\n",
       "      <td>46</td>\n",
       "      <td>Кировоградская улица</td>\n",
       "      <td>Район Чертаново Северное</td>\n",
       "      <td>ЮАО</td>\n",
       "      <td>110</td>\n",
       "    </tr>\n",
       "    <tr>\n",
       "      <td>47</td>\n",
       "      <td>Кировоградская улица</td>\n",
       "      <td>Район Чертаново Южное</td>\n",
       "      <td>ЮАО</td>\n",
       "      <td>110</td>\n",
       "    </tr>\n",
       "  </tbody>\n",
       "</table>\n",
       "</div>"
      ],
      "text/plain": [
       "                    street                             area okrug  number\n",
       "0            проспект Мира               Алексеевский район  СВАО     204\n",
       "1            проспект Мира                  Мещанский район   ЦАО     204\n",
       "2            проспект Мира               Останкинский район  СВАО     204\n",
       "3            проспект Мира               Район Марьина роща  СВАО     204\n",
       "4            проспект Мира                  Район Ростокино  СВАО     204\n",
       "5            проспект Мира                   Район Свиблово  СВАО     204\n",
       "6            проспект Мира                Ярославский Район  СВАО     204\n",
       "7        Профсоюзная улица                    Район Ясенево  ЮЗАО     182\n",
       "8        Профсоюзная улица                  Район Черемушки  ЮЗАО     182\n",
       "9        Профсоюзная улица              Академический район  ЮЗАО     182\n",
       "10       Профсоюзная улица                Обручевский район  ЮЗАО     182\n",
       "11       Профсоюзная улица                   Район Коньково  ЮЗАО     182\n",
       "12       Профсоюзная улица                Район Теплый Стан  ЮЗАО     182\n",
       "13  Ленинградский проспект                   Район Аэропорт   САО     171\n",
       "14  Ленинградский проспект                    Район Беговой   САО     171\n",
       "15  Ленинградский проспект                      Район Сокол   САО     171\n",
       "16  Ленинградский проспект                Хорошевский район   САО     171\n",
       "17  Пресненская набережная                Пресненский район   ЦАО     167\n",
       "18        Варшавское шоссе            Район Чертаново Южное   ЮАО     161\n",
       "19        Варшавское шоссе                    Донской район   ЮАО     161\n",
       "20        Варшавское шоссе                   Нагорный район   ЮАО     161\n",
       "21        Варшавское шоссе         Район Нагатино-Садовники   ЮАО     161\n",
       "22        Варшавское шоссе            Район Северное Бутово  ЮЗАО     161\n",
       "23        Варшавское шоссе         Район Чертаново Северное   ЮАО     161\n",
       "24        Варшавское шоссе      Район Чертаново Центральное   ЮАО     161\n",
       "25        Варшавское шоссе               Район Южное Бутово  ЮЗАО     161\n",
       "26      Ленинский проспект                   Район Якиманка   ЦАО     147\n",
       "27      Ленинский проспект         Район Тропарево-Никулино   ЗАО     147\n",
       "28      Ленинский проспект                Район Теплый Стан  ЮЗАО     147\n",
       "29      Ленинский проспект       Район Проспект Вернадского   ЗАО     147\n",
       "30      Ленинский проспект                Район Гагаринский  ЮЗАО     147\n",
       "31      Ленинский проспект                Обручевский район  ЮЗАО     147\n",
       "32      Ленинский проспект              Ломоносовский район  ЮЗАО     147\n",
       "33      Ленинский проспект                    Донской район   ЮАО     147\n",
       "34    проспект Вернадского              Ломоносовский район  ЮЗАО     132\n",
       "35    проспект Вернадского                Район Гагаринский  ЮЗАО     132\n",
       "36    проспект Вернадского       Район Проспект Вернадского   ЗАО     132\n",
       "37    проспект Вернадского                    Район Раменки   ЗАО     132\n",
       "38    проспект Вернадского         Район Тропарево-Никулино   ЗАО     132\n",
       "39    Кутузовский проспект               Район Дорогомилово   ЗАО     114\n",
       "40    Кутузовский проспект             Район Фили-Давыдково   ЗАО     114\n",
       "41         Каширское шоссе       Район Москворечье-Сабурово   ЮАО     112\n",
       "42         Каширское шоссе     Район Орехово-Борисово Южное   ЮАО     112\n",
       "43         Каширское шоссе  Район Орехово-Борисово Северное   ЮАО     112\n",
       "44         Каширское шоссе         Район Нагатино-Садовники   ЮАО     112\n",
       "45    Кировоградская улица      Район Чертаново Центральное   ЮАО     110\n",
       "46    Кировоградская улица         Район Чертаново Северное   ЮАО     110\n",
       "47    Кировоградская улица            Район Чертаново Южное   ЮАО     110"
      ]
     },
     "execution_count": 37,
     "metadata": {},
     "output_type": "execute_result"
    }
   ],
   "source": [
    "rest_area1 = rest_area.query(\"number >= 110\")\n",
    "rest_area1"
   ]
  },
  {
   "cell_type": "code",
   "execution_count": 38,
   "metadata": {},
   "outputs": [
    {
     "data": {
      "text/plain": [
       "Район Чертаново Центральное        2\n",
       "Район Проспект Вернадского         2\n",
       "Обручевский район                  2\n",
       "Район Чертаново Южное              2\n",
       "Район Тропарево-Никулино           2\n",
       "Район Теплый Стан                  2\n",
       "Район Чертаново Северное           2\n",
       "Район Нагатино-Садовники           2\n",
       "Ломоносовский район                2\n",
       "Донской район                      2\n",
       "Район Гагаринский                  2\n",
       "Нагорный район                     1\n",
       "Район Раменки                      1\n",
       "Академический район                1\n",
       "Район Сокол                        1\n",
       "Район Беговой                      1\n",
       "Район Аэропорт                     1\n",
       "Алексеевский район                 1\n",
       "Район Ясенево                      1\n",
       "Район Орехово-Борисово Южное       1\n",
       "Пресненский район                  1\n",
       "Район Марьина роща                 1\n",
       "Район Дорогомилово                 1\n",
       "Район Коньково                     1\n",
       "Район Черемушки                    1\n",
       "Район Орехово-Борисово Северное    1\n",
       "Район Северное Бутово              1\n",
       "Ярославский Район                  1\n",
       "Останкинский район                 1\n",
       "Мещанский район                    1\n",
       "Район Якиманка                     1\n",
       "Район Ростокино                    1\n",
       "Район Москворечье-Сабурово         1\n",
       "Хорошевский район                  1\n",
       "Район Фили-Давыдково               1\n",
       "Район Южное Бутово                 1\n",
       "Район Свиблово                     1\n",
       "Name: area, dtype: int64"
      ]
     },
     "execution_count": 38,
     "metadata": {},
     "output_type": "execute_result"
    }
   ],
   "source": [
    "rest_area1['area'].value_counts()"
   ]
  },
  {
   "cell_type": "code",
   "execution_count": 39,
   "metadata": {},
   "outputs": [
    {
     "data": {
      "text/plain": [
       "ЮАО     14\n",
       "ЮЗАО    14\n",
       "ЗАО      7\n",
       "СВАО     6\n",
       "САО      4\n",
       "ЦАО      3\n",
       "Name: okrug, dtype: int64"
      ]
     },
     "execution_count": 39,
     "metadata": {},
     "output_type": "execute_result"
    }
   ],
   "source": [
    "rest_area1['okrug'].value_counts()"
   ]
  },
  {
   "cell_type": "markdown",
   "metadata": {},
   "source": [
    "На нашем графике можно увидеть топ 10 улиц по кол-ву размещенных на них объектах, лидером является Проспект мира, на которой находится целых 204 заведения общ. питания. Далее, рассмотрены районы, в которых находятся эти улицы. Для этого загружена таблица с информацией об округе и районе улиц Москвы, которую присоединили к нашей исходной. Было замечено, что многие улицы находятся на нескольких районах, даже если не брать в счет те улицы, которые можно отнести к \"городским трассам\". Затем улицы отсортированы по райнам, на которых они находятся. Но по-моему лучше рассмотреть по округу, так картина будет яснее. Поэтому мы можем заметить, что в основном наш топ 10 улиц расположен от юга до запада Москвы."
   ]
  },
  {
   "cell_type": "markdown",
   "metadata": {},
   "source": [
    "### Найдем число улиц с одним объектом общественного питания, а также рассмотрим их районы."
   ]
  },
  {
   "cell_type": "code",
   "execution_count": 40,
   "metadata": {},
   "outputs": [
    {
     "data": {
      "text/plain": [
       "560"
      ]
     },
     "execution_count": 40,
     "metadata": {},
     "output_type": "execute_result"
    }
   ],
   "source": [
    "#Cделаем срез данных: улицы, на которых расположен только 1 объект общ. питания.\n",
    "rest_1 = rest_area[rest_area['number'] == 1]\n",
    "rest_1['number'].count()"
   ]
  },
  {
   "cell_type": "code",
   "execution_count": 41,
   "metadata": {},
   "outputs": [
    {
     "data": {
      "text/html": [
       "<div>\n",
       "<style scoped>\n",
       "    .dataframe tbody tr th:only-of-type {\n",
       "        vertical-align: middle;\n",
       "    }\n",
       "\n",
       "    .dataframe tbody tr th {\n",
       "        vertical-align: top;\n",
       "    }\n",
       "\n",
       "    .dataframe thead th {\n",
       "        text-align: right;\n",
       "    }\n",
       "</style>\n",
       "<table border=\"1\" class=\"dataframe\">\n",
       "  <thead>\n",
       "    <tr style=\"text-align: right;\">\n",
       "      <th></th>\n",
       "      <th>street</th>\n",
       "      <th>area</th>\n",
       "      <th>okrug</th>\n",
       "      <th>number</th>\n",
       "    </tr>\n",
       "  </thead>\n",
       "  <tbody>\n",
       "    <tr>\n",
       "      <td>1717</td>\n",
       "      <td>улица Николаева</td>\n",
       "      <td>Пресненский район</td>\n",
       "      <td>ЦАО</td>\n",
       "      <td>1</td>\n",
       "    </tr>\n",
       "    <tr>\n",
       "      <td>1718</td>\n",
       "      <td>1-я Напрудная улица</td>\n",
       "      <td>Лосиноостровский район</td>\n",
       "      <td>СВАО</td>\n",
       "      <td>1</td>\n",
       "    </tr>\n",
       "    <tr>\n",
       "      <td>1719</td>\n",
       "      <td>1-й Вешняковский проезд</td>\n",
       "      <td>Рязанский район</td>\n",
       "      <td>ЮВАО</td>\n",
       "      <td>1</td>\n",
       "    </tr>\n",
       "    <tr>\n",
       "      <td>1720</td>\n",
       "      <td>улица Можайский Вал</td>\n",
       "      <td>Район Дорогомилово</td>\n",
       "      <td>ЗАО</td>\n",
       "      <td>1</td>\n",
       "    </tr>\n",
       "    <tr>\n",
       "      <td>1721</td>\n",
       "      <td>1-й Балтийский переулок</td>\n",
       "      <td>Район Аэропорт</td>\n",
       "      <td>САО</td>\n",
       "      <td>1</td>\n",
       "    </tr>\n",
       "    <tr>\n",
       "      <td>...</td>\n",
       "      <td>...</td>\n",
       "      <td>...</td>\n",
       "      <td>...</td>\n",
       "      <td>...</td>\n",
       "    </tr>\n",
       "    <tr>\n",
       "      <td>2272</td>\n",
       "      <td>Тихвинский переулок</td>\n",
       "      <td>Тверской район</td>\n",
       "      <td>ЦАО</td>\n",
       "      <td>1</td>\n",
       "    </tr>\n",
       "    <tr>\n",
       "      <td>2273</td>\n",
       "      <td>Тихий тупик</td>\n",
       "      <td>Таганский район</td>\n",
       "      <td>ЦАО</td>\n",
       "      <td>1</td>\n",
       "    </tr>\n",
       "    <tr>\n",
       "      <td>2274</td>\n",
       "      <td>Триумфальная площадь</td>\n",
       "      <td>Тверской район</td>\n",
       "      <td>ЦАО</td>\n",
       "      <td>1</td>\n",
       "    </tr>\n",
       "    <tr>\n",
       "      <td>2275</td>\n",
       "      <td>Троилинский переулок</td>\n",
       "      <td>Район Арбат</td>\n",
       "      <td>ЦАО</td>\n",
       "      <td>1</td>\n",
       "    </tr>\n",
       "    <tr>\n",
       "      <td>2276</td>\n",
       "      <td>Стрелецкая улица</td>\n",
       "      <td>Район Марьина роща</td>\n",
       "      <td>СВАО</td>\n",
       "      <td>1</td>\n",
       "    </tr>\n",
       "  </tbody>\n",
       "</table>\n",
       "<p>560 rows × 4 columns</p>\n",
       "</div>"
      ],
      "text/plain": [
       "                       street                    area okrug  number\n",
       "1717          улица Николаева       Пресненский район   ЦАО       1\n",
       "1718      1-я Напрудная улица  Лосиноостровский район  СВАО       1\n",
       "1719  1-й Вешняковский проезд         Рязанский район  ЮВАО       1\n",
       "1720      улица Можайский Вал      Район Дорогомилово   ЗАО       1\n",
       "1721  1-й Балтийский переулок          Район Аэропорт   САО       1\n",
       "...                       ...                     ...   ...     ...\n",
       "2272      Тихвинский переулок          Тверской район   ЦАО       1\n",
       "2273              Тихий тупик         Таганский район   ЦАО       1\n",
       "2274     Триумфальная площадь          Тверской район   ЦАО       1\n",
       "2275     Троилинский переулок             Район Арбат   ЦАО       1\n",
       "2276         Стрелецкая улица      Район Марьина роща  СВАО       1\n",
       "\n",
       "[560 rows x 4 columns]"
      ]
     },
     "execution_count": 41,
     "metadata": {},
     "output_type": "execute_result"
    }
   ],
   "source": [
    "rest_1"
   ]
  },
  {
   "cell_type": "code",
   "execution_count": 42,
   "metadata": {},
   "outputs": [
    {
     "data": {
      "text/plain": [
       "array(['Пресненский район', 'Лосиноостровский район', 'Рязанский район',\n",
       "       'Район Дорогомилово', 'Район Аэропорт', 'Нижегородский район',\n",
       "       'Район Солнцево', 'Район Богородское', 'Район Щукино',\n",
       "       'Район Преображенское', 'Бутырский район', 'Район Марьина роща',\n",
       "       'Район Замоскворечье', 'Район Якиманка', 'Донской район',\n",
       "       'Район Царицыно', 'Район Хорошево-Мневники', 'Район Свиблово',\n",
       "       'Район Беговой', 'Район Кузьминки', 'Таганский район',\n",
       "       'Красносельский район', 'Тимирязевский Район', 'Район Гольяново',\n",
       "       'Район Сокольники', 'Район Косино-Ухтомский', 'Басманный район',\n",
       "       'Можайский Район', 'Район Митино', 'Район Печатники',\n",
       "       'Мещанский район', 'Хорошевский район', 'Район Северное Измайлово',\n",
       "       'Район Южное Бутово', 'Район Москворечье-Сабурово',\n",
       "       'Район Кунцево', 'Район Лефортово', 'Район Хамовники',\n",
       "       'Алексеевский район', 'Район Текстильщики', 'Район Ростокино',\n",
       "       'Район Северное Бутово', 'Район Арбат', 'Район Котловка',\n",
       "       'Тверской район', 'Район Ясенево', 'Район Фили-Давыдково',\n",
       "       'Ярославский Район', 'Бабушкинский район', 'Даниловский район',\n",
       "       'Южнопортовый Район', 'Район Очаково-Матвеевское', 'Район Раменки',\n",
       "       'Район Соколиная Гора', 'Район Покровское-Стрешнево',\n",
       "       'Район Перово', 'Район Измайлово', 'Район Восточное Измайлово',\n",
       "       'Район Выхино-Жулебино', 'Район Ново-Переделкино', 'Район Люблино',\n",
       "       'Войковский Район', 'Головинский район', 'Район Коптево',\n",
       "       'Район Черемушки', 'Район Южное Тушино', 'Район Строгино',\n",
       "       'Район Зюзино', 'Район Гагаринский', 'Савеловский район',\n",
       "       'Район Куркино', 'Район Бирюлево Восточное', 'Район Отрадное',\n",
       "       'Район Марьино', 'Молжаниновский район', 'Район Левобережный',\n",
       "       'Район Ивановское', 'Район Западное Дегунино',\n",
       "       'Бескудниковский Район', 'Район Внуково', 'Район Сокол',\n",
       "       'Дмитровский район', 'Район Нагатино-Садовники',\n",
       "       'Останкинский район', 'Район Метрогородок', 'Нагорный район',\n",
       "       'Район Чертаново Южное', 'Район Восточный',\n",
       "       'Район Северное Медведково', 'Район Южное Медведково',\n",
       "       'Район Северный', 'Район Новогиреево', 'Район Филевский Парк',\n",
       "       'Район Коньково', 'Район Марфино', 'Обручевский район',\n",
       "       'Район Матушкино-Савелки', 'Алтуфьевский район',\n",
       "       'Район Чертаново Северное'], dtype=object)"
      ]
     },
     "execution_count": 42,
     "metadata": {},
     "output_type": "execute_result"
    }
   ],
   "source": [
    "rest_1['area'].unique()"
   ]
  },
  {
   "cell_type": "code",
   "execution_count": 43,
   "metadata": {},
   "outputs": [
    {
     "data": {
      "text/plain": [
       "ЦАО           185\n",
       "ВАО            72\n",
       "СВАО           67\n",
       "ЮВАО           55\n",
       "САО            55\n",
       "ЗАО            41\n",
       "ЮАО            30\n",
       "СЗАО           27\n",
       "ЮЗАО           27\n",
       "Зеленоград      1\n",
       "Name: okrug, dtype: int64"
      ]
     },
     "execution_count": 43,
     "metadata": {},
     "output_type": "execute_result"
    }
   ],
   "source": [
    "rest_1['okrug'].value_counts()"
   ]
  },
  {
   "cell_type": "code",
   "execution_count": 44,
   "metadata": {},
   "outputs": [
    {
     "data": {
      "image/png": "[encoded data removed]",
      "text/plain": [
       "<Figure size 432x432 with 1 Axes>"
      ]
     },
     "metadata": {},
     "output_type": "display_data"
    }
   ],
   "source": [
    "okrug_chart = rest_1[rest_1['number'] == 1]['okrug'].value_counts()\n",
    "plt.figure(figsize = (6,6))\n",
    "okrug_chart.plot.pie(autopct=\"%.1f%%\")\n",
    "\n",
    "plt.title('Распределение улиц с 1 заведением по округам')\n",
    "plt.xlabel('')\n",
    "plt.ylabel('');"
   ]
  },
  {
   "cell_type": "markdown",
   "metadata": {},
   "source": [
    "В данной части работы мы нашли кол-во улиц с одним объектом общ. питания, их число составило 560. Также составлен список районов, на которых они находятся, а также округа. В итоге наблюдаем, что большая часть таких улиц расположена в центре Москвы, т.к. в самом центре мы имеем самые короткие улицы. И скорее всего в центре Москвы объекты общ. питания распределены на конкретные улицы, поэтому мы можем встретить, те самые выбивающиеся из общего строя ресторанчики на конкретных улицах."
   ]
  },
  {
   "cell_type": "markdown",
   "metadata": {},
   "source": [
    "### Посмотрим на распределение количества посадочных мест для улиц с большим количеством объектов общественного питания."
   ]
  },
  {
   "cell_type": "code",
   "execution_count": 45,
   "metadata": {},
   "outputs": [],
   "source": [
    "#Найдем топ 10 улиц по кол-ву объектов общ. питания, расположенных на них.\n",
    "top_ten = rest_data2.pivot_table(index='street', values='number', aggfunc='count')\\\n",
    ".sort_values(by='number', ascending=False).reset_index().head(10)"
   ]
  },
  {
   "cell_type": "code",
   "execution_count": 46,
   "metadata": {},
   "outputs": [],
   "source": [
    "top10_streets_list = top_ten['street'].to_list()"
   ]
  },
  {
   "cell_type": "code",
   "execution_count": 47,
   "metadata": {},
   "outputs": [],
   "source": [
    "top10_streets_data = rest_data2.query('street in @top10_streets_list')"
   ]
  },
  {
   "cell_type": "code",
   "execution_count": 48,
   "metadata": {},
   "outputs": [
    {
     "data": {
      "text/plain": [
       "40.0"
      ]
     },
     "execution_count": 48,
     "metadata": {},
     "output_type": "execute_result"
    }
   ],
   "source": [
    "top10_streets_data['number'].median()"
   ]
  },
  {
   "cell_type": "code",
   "execution_count": 49,
   "metadata": {},
   "outputs": [
    {
     "data": {
      "image/png": "[encoded data removed]",
      "text/plain": [
       "<Figure size 864x432 with 1 Axes>"
      ]
     },
     "metadata": {
      "needs_background": "light"
     },
     "output_type": "display_data"
    }
   ],
   "source": [
    "top10_streets_data['number'].median()\n",
    "rest_data2['number'].median()\n",
    "plt.figure(figsize=(12,6))\n",
    "plt.xlim(0,400)\n",
    "sns.boxplot(data=top10_streets_data, x='number', y='street')\n",
    "plt.title('Распределение количества посадочных мест для топ-10 улиц по кол-ву объектов')\n",
    "plt.ylabel('')\n",
    "plt.xlabel('Кол-во посадочных мест')\n",
    "plt.show()"
   ]
  },
  {
   "cell_type": "markdown",
   "metadata": {},
   "source": [
    "На последнем этапе нашей работы мы построили распределение кол-ва посадочных мест для топ 10 улиц по кол-ву объектов. Медианное значение кол-ва посадочных мест для нашего топа - 40. Также заметим, что медианные значения у всех улиц, примерно одинаковые. И 75% заведений на наших улицах имеют не более 100 посадочных мест. И последнем пунктом можно выделить, что на всех улицах присутствуют заведения, которые имеют больше 200-та и даже 300-та посадочных мест."
   ]
  },
  {
   "cell_type": "markdown",
   "metadata": {},
   "source": [
    "## Общий вывод"
   ]
  },
  {
   "cell_type": "markdown",
   "metadata": {},
   "source": [
    "Дадим рекомендации о виде заведения, количестве посадочных мест, а также районе расположения, исходя из наших выводов.\n",
    "\n",
    "Мы имеем следующее соотношение видов объектов общ. питания:\n",
    "\n",
    "- кафе                                 39.7%\n",
    "\n",
    "- столовая                             16.8%\n",
    "\n",
    "- ресторан                             14.9%\n",
    "\n",
    "- предприятие быстрого обслуживания    12.5%\n",
    "\n",
    "- бар                                   5.6%\n",
    "\n",
    "- буфет                                 3.8%\n",
    "\n",
    "- кафетерий                             2.6%\n",
    "\n",
    "- закусочная                            2.3%\n",
    "\n",
    "- магазин (отдел кулинарии)             1.8%\n",
    "\n",
    "В основном преобладают несетевые заведения их 12398, а сетевых 2968.\n",
    "Сетевой тип заведений характерен для предприятий быстрого обслуживания 41%. В меньшей мере оно характерно для магазинов 29%, ресторанов 24%  и кафе 23% заведений и совершенно не характерно для буфетов 4%, баров 2% и столовых 0.1%.\n",
    "\n",
    "Если рассматривать среднее кол-во посадочных мест по виду объекта общ. питания, то мы имеем следующую картину:\n",
    "    \n",
    "- столовая\t130\n",
    "\n",
    "- ресторан\t96\n",
    "\n",
    "- буфет\t51\n",
    "\n",
    "- бар\t43\n",
    "\n",
    "- кафе\t39\n",
    "\n",
    "- предприятие быстрого обслуживания\t20\n",
    "\n",
    "- кафетерий\t9\n",
    "\n",
    "- закусочная\t7\n",
    "\n",
    "- магазин (отдел кулинарии)\t5\n",
    "\n",
    "Выделяем непосредественного лидера - столовая, далее идут рестораны, буфеты, бары и кафе, менее 20-30 мест в среднем мы рассматривать не будем.\n",
    "\n",
    "Топ-10 улиц по кол-ву объектов общ. питания, расположенных на них.\n",
    "\n",
    "- проспект Мира             204\n",
    "\n",
    "- Профсоюзная улица         182\n",
    "\n",
    "- Ленинградский проспект    171\n",
    "\n",
    "- Пресненская набережная    167\n",
    "\n",
    "- Варшавское шоссе          161\n",
    "\n",
    "- Ленинский проспект        147\n",
    "\n",
    "- проспект Вернадского      132\n",
    "\n",
    "- Кутузовский проспект      114\n",
    "\n",
    "- Каширское шоссе           112\n",
    "\n",
    "- Кировоградская улица      110\n",
    "\n",
    "Также у нас есть информации о районах и округах, на которых находятся эти улицы.\n",
    "\n",
    "Далее выделили улицы с одним объектом общ. питания, их кол-во составило 560, а также представлен список районов и кол-во этих улиц по округам. \n",
    "\n",
    "Медианное значение кол-ва посадочных мест в топ-10 улицах по кол-ву заведений составляет 40 мест.\n",
    "\n",
    " По-моему, у нас недостаточно данных, чтобы однозначно выявить лучшую стратегию для открытия объекта общественного питания. Если основываться на наших результатах, то я предлагаю следующее. Т.к. кафе самые популярные, то я предлагаю остановиться на этом варианте, также у кафе в среднем кол-во посадочных мест около 40. Что касается района расположения нашего заведения, то тут все намного сложней, т.к. мы имеем множество нюансов. Мы можем рассмотреть районы с наибольшим кол-вом заведений, но вероятно, что будет большая конкуренция, а если мы будем рассматривать менее популярные районы, то это может отразиться на кол-ве посетителей нашего кафе. Но исходя из множества факторов, я бы обратил внимание на ЦАО Москвы. У нас будет возможность открыть сеть наших кафе, судя по тенденции, но их не должно быть большое кол-во, т.к. это нарушит концепцию и уникальность нашего заведения с роботами-официантами."
   ]
  }
 ],
 "metadata": {
  "kernelspec": {
   "display_name": "Python 3",
   "language": "python",
   "name": "python3"
  },
  "language_info": {
   "codemirror_mode": {
    "name": "ipython",
    "version": 3
   },
   "file_extension": ".py",
   "mimetype": "text/x-python",
   "name": "python",
   "nbconvert_exporter": "python",
   "pygments_lexer": "ipython3",
   "version": "3.7.8"
  },
  "toc": {
   "base_numbering": 1,
   "nav_menu": {},
   "number_sections": false,
   "sideBar": true,
   "skip_h1_title": true,
   "title_cell": "Table of Contents",
   "title_sidebar": "Contents",
   "toc_cell": false,
   "toc_position": {
    "height": "calc(100% - 180px)",
    "left": "10px",
    "top": "150px",
    "width": "366.391px"
   },
   "toc_section_display": true,
   "toc_window_display": true
  }
 },
 "nbformat": 4,
 "nbformat_minor": 2
}
