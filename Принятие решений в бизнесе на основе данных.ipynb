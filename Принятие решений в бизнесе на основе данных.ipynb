{
 "cells": [
  {
   "cell_type": "markdown",
   "metadata": {},
   "source": [
    "## Описание проекта\n",
    "\n",
    "Вы — аналитик крупного интернет-магазина. Вместе с отделом маркетинга вы подготовили список гипотез для увеличения выручки.\n",
    "Приоритизируйте гипотезы, запустите A/B-тест и проанализируйте результаты."
   ]
  },
  {
   "cell_type": "markdown",
   "metadata": {},
   "source": [
    "## Описание данных"
   ]
  },
  {
   "cell_type": "markdown",
   "metadata": {},
   "source": [
    "Данные для первой части:\n",
    "\n",
    "    - Hypothesis — краткое описание гипотезы;\n",
    "\n",
    "    - Reach — охват пользователей по 10-балльной шкале;\n",
    "\n",
    "    - Impact — влияние на пользователей по 10-балльной шкале;\n",
    "\n",
    "    - Confidence — уверенность в гипотезе по 10-балльной шкале;\n",
    "\n",
    "    - Efforts — затраты ресурсов на проверку гипотезы по 10-балльной шкале. Чем больше значение Efforts, тем дороже проверка гипотезы."
   ]
  },
  {
   "cell_type": "markdown",
   "metadata": {},
   "source": [
    "Данные для второй части\n",
    "\n",
    "    - transactionId — идентификатор заказа;\n",
    "    \n",
    "    - visitorId — идентификатор пользователя, совершившего заказ;\n",
    "\n",
    "    - date — дата, когда был совершён заказ;\n",
    "\n",
    "    - revenue — выручка заказа;\n",
    "\n",
    "    - group — группа A/B-теста, в которую попал заказ.\n",
    "\n",
    "    - date — дата;\n",
    "\n",
    "    - group — группа A/B-теста;\n",
    "\n",
    "    - visitors — количество пользователей в указанную дату в указанной группе A/B-теста"
   ]
  },
  {
   "cell_type": "code",
   "execution_count": 1,
   "metadata": {},
   "outputs": [],
   "source": [
    "import pandas as pd\n",
    "import matplotlib.pyplot as plt\n",
    "import numpy as np\n",
    "from scipy import stats as st\n",
    "import seaborn as sns\n",
    "import datetime as dt\n",
    "import scipy.stats as stats\n",
    "from pandas.plotting import register_matplotlib_converters"
   ]
  },
  {
   "cell_type": "markdown",
   "metadata": {},
   "source": [
    "## Часть 1. Приоритизация гипотез."
   ]
  },
  {
   "cell_type": "code",
   "execution_count": 2,
   "metadata": {},
   "outputs": [
    {
     "data": {
      "text/html": [
       "<div>\n",
       "<style scoped>\n",
       "    .dataframe tbody tr th:only-of-type {\n",
       "        vertical-align: middle;\n",
       "    }\n",
       "\n",
       "    .dataframe tbody tr th {\n",
       "        vertical-align: top;\n",
       "    }\n",
       "\n",
       "    .dataframe thead th {\n",
       "        text-align: right;\n",
       "    }\n",
       "</style>\n",
       "<table border=\"1\" class=\"dataframe\">\n",
       "  <thead>\n",
       "    <tr style=\"text-align: right;\">\n",
       "      <th></th>\n",
       "      <th>hypothesis</th>\n",
       "      <th>reach</th>\n",
       "      <th>impact</th>\n",
       "      <th>confidence</th>\n",
       "      <th>efforts</th>\n",
       "    </tr>\n",
       "  </thead>\n",
       "  <tbody>\n",
       "    <tr>\n",
       "      <td>0</td>\n",
       "      <td>Добавить два новых канала привлечения трафика,...</td>\n",
       "      <td>3</td>\n",
       "      <td>10</td>\n",
       "      <td>8</td>\n",
       "      <td>6</td>\n",
       "    </tr>\n",
       "    <tr>\n",
       "      <td>1</td>\n",
       "      <td>Запустить собственную службу доставки, что сок...</td>\n",
       "      <td>2</td>\n",
       "      <td>5</td>\n",
       "      <td>4</td>\n",
       "      <td>10</td>\n",
       "    </tr>\n",
       "    <tr>\n",
       "      <td>2</td>\n",
       "      <td>Добавить блоки рекомендаций товаров на сайт ин...</td>\n",
       "      <td>8</td>\n",
       "      <td>3</td>\n",
       "      <td>7</td>\n",
       "      <td>3</td>\n",
       "    </tr>\n",
       "    <tr>\n",
       "      <td>3</td>\n",
       "      <td>Изменить структура категорий, что увеличит кон...</td>\n",
       "      <td>8</td>\n",
       "      <td>3</td>\n",
       "      <td>3</td>\n",
       "      <td>8</td>\n",
       "    </tr>\n",
       "    <tr>\n",
       "      <td>4</td>\n",
       "      <td>Изменить цвет фона главной страницы, чтобы уве...</td>\n",
       "      <td>3</td>\n",
       "      <td>1</td>\n",
       "      <td>1</td>\n",
       "      <td>1</td>\n",
       "    </tr>\n",
       "    <tr>\n",
       "      <td>5</td>\n",
       "      <td>Добавить страницу отзывов клиентов о магазине,...</td>\n",
       "      <td>3</td>\n",
       "      <td>2</td>\n",
       "      <td>2</td>\n",
       "      <td>3</td>\n",
       "    </tr>\n",
       "    <tr>\n",
       "      <td>6</td>\n",
       "      <td>Показать на главной странице баннеры с актуаль...</td>\n",
       "      <td>5</td>\n",
       "      <td>3</td>\n",
       "      <td>8</td>\n",
       "      <td>3</td>\n",
       "    </tr>\n",
       "    <tr>\n",
       "      <td>7</td>\n",
       "      <td>Добавить форму подписки на все основные страни...</td>\n",
       "      <td>10</td>\n",
       "      <td>7</td>\n",
       "      <td>8</td>\n",
       "      <td>5</td>\n",
       "    </tr>\n",
       "    <tr>\n",
       "      <td>8</td>\n",
       "      <td>Запустить акцию, дающую скидку на товар в день...</td>\n",
       "      <td>1</td>\n",
       "      <td>9</td>\n",
       "      <td>9</td>\n",
       "      <td>5</td>\n",
       "    </tr>\n",
       "  </tbody>\n",
       "</table>\n",
       "</div>"
      ],
      "text/plain": [
       "                                          hypothesis  reach  impact  \\\n",
       "0  Добавить два новых канала привлечения трафика,...      3      10   \n",
       "1  Запустить собственную службу доставки, что сок...      2       5   \n",
       "2  Добавить блоки рекомендаций товаров на сайт ин...      8       3   \n",
       "3  Изменить структура категорий, что увеличит кон...      8       3   \n",
       "4  Изменить цвет фона главной страницы, чтобы уве...      3       1   \n",
       "5  Добавить страницу отзывов клиентов о магазине,...      3       2   \n",
       "6  Показать на главной странице баннеры с актуаль...      5       3   \n",
       "7  Добавить форму подписки на все основные страни...     10       7   \n",
       "8  Запустить акцию, дающую скидку на товар в день...      1       9   \n",
       "\n",
       "   confidence  efforts  \n",
       "0           8        6  \n",
       "1           4       10  \n",
       "2           7        3  \n",
       "3           3        8  \n",
       "4           1        1  \n",
       "5           2        3  \n",
       "6           8        3  \n",
       "7           8        5  \n",
       "8           9        5  "
      ]
     },
     "execution_count": 2,
     "metadata": {},
     "output_type": "execute_result"
    }
   ],
   "source": [
    "hypo = pd.read_csv('/datasets/hypothesis.csv')\n",
    "hypo.columns = hypo.columns.str.lower()\n",
    "hypo.head(50)"
   ]
  },
  {
   "cell_type": "code",
   "execution_count": 3,
   "metadata": {},
   "outputs": [
    {
     "data": {
      "text/plain": [
       "0"
      ]
     },
     "execution_count": 3,
     "metadata": {},
     "output_type": "execute_result"
    }
   ],
   "source": [
    "hypo.duplicated().sum() #дубликатов нет"
   ]
  },
  {
   "cell_type": "markdown",
   "metadata": {},
   "source": [
    "Найдем ICE"
   ]
  },
  {
   "cell_type": "code",
   "execution_count": 4,
   "metadata": {},
   "outputs": [
    {
     "name": "stdout",
     "output_type": "stream",
     "text": [
      "                                          hypothesis        ICE\n",
      "8  Запустить акцию, дающую скидку на товар в день...  16.200000\n",
      "0  Добавить два новых канала привлечения трафика,...  13.333333\n",
      "7  Добавить форму подписки на все основные страни...  11.200000\n",
      "6  Показать на главной странице баннеры с актуаль...   8.000000\n",
      "2  Добавить блоки рекомендаций товаров на сайт ин...   7.000000\n",
      "1  Запустить собственную службу доставки, что сок...   2.000000\n",
      "5  Добавить страницу отзывов клиентов о магазине,...   1.333333\n",
      "3  Изменить структура категорий, что увеличит кон...   1.125000\n",
      "4  Изменить цвет фона главной страницы, чтобы уве...   1.000000\n"
     ]
    }
   ],
   "source": [
    "hypo['ICE'] = (hypo['impact'] * hypo['confidence']) / hypo['efforts']\n",
    "print(hypo[['hypothesis', 'ICE']].sort_values(by = 'ICE', ascending = False))"
   ]
  },
  {
   "cell_type": "markdown",
   "metadata": {},
   "source": [
    "Перейдем к RICE"
   ]
  },
  {
   "cell_type": "code",
   "execution_count": 5,
   "metadata": {},
   "outputs": [
    {
     "name": "stdout",
     "output_type": "stream",
     "text": [
      "                                          hypothesis   RICE\n",
      "7  Добавить форму подписки на все основные страни...  112.0\n",
      "2  Добавить блоки рекомендаций товаров на сайт ин...   56.0\n",
      "0  Добавить два новых канала привлечения трафика,...   40.0\n",
      "6  Показать на главной странице баннеры с актуаль...   40.0\n",
      "8  Запустить акцию, дающую скидку на товар в день...   16.2\n",
      "3  Изменить структура категорий, что увеличит кон...    9.0\n",
      "1  Запустить собственную службу доставки, что сок...    4.0\n",
      "5  Добавить страницу отзывов клиентов о магазине,...    4.0\n",
      "4  Изменить цвет фона главной страницы, чтобы уве...    3.0\n"
     ]
    }
   ],
   "source": [
    "hypo['RICE'] = (hypo['reach'] * hypo['impact'] * hypo['confidence']) / hypo['efforts']\n",
    "print(hypo[['hypothesis', 'RICE']].sort_values(by = 'RICE',ascending= False))"
   ]
  },
  {
   "cell_type": "markdown",
   "metadata": {},
   "source": [
    "### Вывод"
   ]
  },
  {
   "cell_type": "markdown",
   "metadata": {},
   "source": [
    "При переходе от ICE к RICE можно заметить, что значения выросли в несколько раз, т.к. мы добавляем еще один множитель reach, т.е. охват пользователей, следовательно на 1-ое место перешла 7 гипотеза, т.к. её значения reach максимально большое, т.е. 10, соотвественно также изменился приоритет других гипотезы."
   ]
  },
  {
   "cell_type": "markdown",
   "metadata": {},
   "source": [
    "## Часть 2. Анализ A/B-теста."
   ]
  },
  {
   "cell_type": "markdown",
   "metadata": {},
   "source": [
    "### Предобработка данных"
   ]
  },
  {
   "cell_type": "code",
   "execution_count": 6,
   "metadata": {},
   "outputs": [
    {
     "name": "stdout",
     "output_type": "stream",
     "text": [
      "    transactionId   visitorId        date  revenue group\n",
      "0      3667963787  3312258926  2019-08-15     1650     B\n",
      "1      2804400009  3642806036  2019-08-15      730     B\n",
      "2      2961555356  4069496402  2019-08-15      400     A\n",
      "3      3797467345  1196621759  2019-08-15     9759     B\n",
      "4      2282983706  2322279887  2019-08-15     2308     B\n",
      "5       182168103   935554773  2019-08-15     2210     B\n",
      "6       398296753  2900797465  2019-08-15     1860     B\n",
      "7      2626614568    78758296  2019-08-15     1044     A\n",
      "8      1576988021   295230930  2019-08-15    13710     A\n",
      "9      1506739906  1882260405  2019-08-15     1855     B\n",
      "10     3649131742   879864040  2019-08-15     4008     A\n",
      "11     1919444843   927791387  2019-08-15     4499     B\n",
      "12     2809384911  3213223594  2019-08-15     7370     A\n",
      "13     3044797713   728063420  2019-08-15    11985     B\n",
      "14     3859315276  1565034404  2019-08-15    10980     A\n",
      "15     2550768810  2742574263  2019-08-15    15277     B\n",
      "16     1820531107  2973109265  2019-08-15     1060     B\n",
      "17     1108180333   222718357  2019-08-15      990     B\n",
      "18     1822256754  4227830084  2019-08-15    16490     A\n",
      "19      674584210  3207734412  2019-08-15     1190     A\n",
      "<class 'pandas.core.frame.DataFrame'>\n",
      "RangeIndex: 1197 entries, 0 to 1196\n",
      "Data columns (total 5 columns):\n",
      "transactionId    1197 non-null int64\n",
      "visitorId        1197 non-null int64\n",
      "date             1197 non-null object\n",
      "revenue          1197 non-null int64\n",
      "group            1197 non-null object\n",
      "dtypes: int64(3), object(2)\n",
      "memory usage: 46.9+ KB\n",
      "None\n"
     ]
    }
   ],
   "source": [
    "orders = pd.read_csv('/datasets/orders.csv')\n",
    "print(orders.head(20))\n",
    "print(orders.info())"
   ]
  },
  {
   "cell_type": "code",
   "execution_count": 7,
   "metadata": {},
   "outputs": [
    {
     "name": "stdout",
     "output_type": "stream",
     "text": [
      "          date group  visitors\n",
      "0   2019-08-01     A       719\n",
      "1   2019-08-02     A       619\n",
      "2   2019-08-03     A       507\n",
      "3   2019-08-04     A       717\n",
      "4   2019-08-05     A       756\n",
      "5   2019-08-06     A       667\n",
      "6   2019-08-07     A       644\n",
      "7   2019-08-08     A       610\n",
      "8   2019-08-09     A       617\n",
      "9   2019-08-10     A       406\n",
      "10  2019-08-11     A       718\n",
      "11  2019-08-12     A       595\n",
      "12  2019-08-13     A       748\n",
      "13  2019-08-14     A       735\n",
      "14  2019-08-15     A       628\n",
      "15  2019-08-16     A       361\n",
      "16  2019-08-17     A       412\n",
      "17  2019-08-18     A       668\n",
      "18  2019-08-19     A       502\n",
      "19  2019-08-20     A       575\n",
      "<class 'pandas.core.frame.DataFrame'>\n",
      "RangeIndex: 62 entries, 0 to 61\n",
      "Data columns (total 3 columns):\n",
      "date        62 non-null object\n",
      "group       62 non-null object\n",
      "visitors    62 non-null int64\n",
      "dtypes: int64(1), object(2)\n",
      "memory usage: 1.6+ KB\n",
      "None\n"
     ]
    }
   ],
   "source": [
    "visitors = pd.read_csv('/datasets/visitors.csv')\n",
    "print(visitors.head(20))\n",
    "print(visitors.info())"
   ]
  },
  {
   "cell_type": "code",
   "execution_count": 8,
   "metadata": {},
   "outputs": [
    {
     "data": {
      "text/plain": [
       "0"
      ]
     },
     "execution_count": 8,
     "metadata": {},
     "output_type": "execute_result"
    }
   ],
   "source": [
    "orders.duplicated().sum() #дубликатов нет"
   ]
  },
  {
   "cell_type": "code",
   "execution_count": 9,
   "metadata": {},
   "outputs": [
    {
     "data": {
      "text/plain": [
       "0"
      ]
     },
     "execution_count": 9,
     "metadata": {},
     "output_type": "execute_result"
    }
   ],
   "source": [
    "visitors.duplicated().sum() #дубликатов нет"
   ]
  },
  {
   "cell_type": "code",
   "execution_count": 10,
   "metadata": {},
   "outputs": [],
   "source": [
    "#Меняем тип данных на корректный\n",
    "orders['date'] = orders['date'].map(\n",
    "    lambda x: dt.datetime.strptime(x, '%Y-%m-%d')\n",
    ")\n",
    "\n",
    "visitors['date'] = visitors['date'].map(\n",
    "    lambda x: dt.datetime.strptime(x, '%Y-%m-%d')\n",
    ")\n"
   ]
  },
  {
   "cell_type": "code",
   "execution_count": 11,
   "metadata": {},
   "outputs": [
    {
     "data": {
      "text/plain": [
       "0    2019-08-01\n",
       "1    2019-08-02\n",
       "2    2019-08-03\n",
       "3    2019-08-04\n",
       "4    2019-08-05\n",
       "        ...    \n",
       "57   2019-08-27\n",
       "58   2019-08-28\n",
       "59   2019-08-29\n",
       "60   2019-08-30\n",
       "61   2019-08-31\n",
       "Name: date, Length: 62, dtype: datetime64[ns]"
      ]
     },
     "execution_count": 11,
     "metadata": {},
     "output_type": "execute_result"
    }
   ],
   "source": [
    "visitors['date']"
   ]
  },
  {
   "cell_type": "markdown",
   "metadata": {},
   "source": [
    "Мы имеем две таблицы: visitors и orders. Пропущенных значений не наблюдается, как и дупликатов. В конце при помощи метода map мы можем приминить лямбда-функцию к каждому значению в столбцах, тем самым получая корректный тип данных."
   ]
  },
  {
   "cell_type": "markdown",
   "metadata": {},
   "source": [
    "### Построим график кумулятивной выручки по группам."
   ]
  },
  {
   "cell_type": "code",
   "execution_count": 12,
   "metadata": {},
   "outputs": [],
   "source": [
    "datesGroups = orders[['date', 'group']].drop_duplicates()\n",
    "\n",
    "ordersAggregated = datesGroups.apply(\n",
    "    lambda x: orders[\n",
    "        np.logical_and(\n",
    "            orders['date'] <= x['date'], orders['group'] == x['group']\n",
    "        )\n",
    "    ].agg(\n",
    "        {\n",
    "            'date': 'max',\n",
    "            'group': 'max',\n",
    "            'transactionId': pd.Series.nunique,\n",
    "            'visitorId': pd.Series.nunique,\n",
    "            'revenue': 'sum',\n",
    "        }\n",
    "    ),\n",
    "    axis=1,\n",
    ").sort_values(by=['date', 'group'])"
   ]
  },
  {
   "cell_type": "code",
   "execution_count": 13,
   "metadata": {},
   "outputs": [],
   "source": [
    "visitorsAggregated = datesGroups.apply(\n",
    "    lambda x: visitors[\n",
    "        np.logical_and(\n",
    "            visitors['date'] <= x['date'], visitors['group'] == x['group']\n",
    "        )\n",
    "    ].agg({'date': 'max', 'group': 'max', 'visitors': 'sum'}),\n",
    "    axis=1,\n",
    ").sort_values(by=['date', 'group'])"
   ]
  },
  {
   "cell_type": "code",
   "execution_count": 14,
   "metadata": {},
   "outputs": [],
   "source": [
    "cumulativeData = ordersAggregated.merge(\n",
    "    visitorsAggregated, left_on=['date', 'group'], right_on=['date', 'group']\n",
    ")\n",
    "\n",
    "cumulativeData.columns = [\n",
    "     'date',\n",
    "    'group',\n",
    "    'orders',\n",
    "    'buyers',\n",
    "    'revenue',\n",
    "    'visitors',\n",
    "]"
   ]
  },
  {
   "cell_type": "code",
   "execution_count": 15,
   "metadata": {},
   "outputs": [],
   "source": [
    "cumulativeRevenueA = cumulativeData[cumulativeData['group']=='A'][['date','revenue', 'orders']]\n",
    "cumulativeRevenueB = cumulativeData[cumulativeData['group']=='B'][['date','revenue', 'orders']]"
   ]
  },
  {
   "cell_type": "code",
   "execution_count": 16,
   "metadata": {},
   "outputs": [
    {
     "data": {
      "image/png": "[encoded data removed]",
      "text/plain": [
       "<Figure size 864x432 with 1 Axes>"
      ]
     },
     "metadata": {
      "needs_background": "light"
     },
     "output_type": "display_data"
    }
   ],
   "source": [
    "register_matplotlib_converters()\n",
    "# Строим график выручки группы А\n",
    "plt.figure(figsize = (12, 6))\n",
    "plt.plot(cumulativeRevenueA['date'], cumulativeRevenueA['revenue'], label='Кумулятивная выручка группы A')\n",
    "\n",
    "# Строим график выручки группы B\n",
    "plt.plot(cumulativeRevenueB['date'], cumulativeRevenueB['revenue'], label='Кумулятивная выручка группы B')\n",
    "plt.title('Кумулятивная выручка')\n",
    "plt.legend() \n",
    "plt.show()"
   ]
  },
  {
   "cell_type": "markdown",
   "metadata": {},
   "source": [
    "Группа А стабильно хуже группы В по накопительной выручке за август 2019 года. Если в начале графики были максимально близки друг к другу, то ближе к середине можно наблюдать резкий рост группы В, а после также равномерное стремление вверх, как и группы А. Такой резкий взлет может быть связан с аномальными данными, так или иначе, это надо проверить."
   ]
  },
  {
   "cell_type": "markdown",
   "metadata": {},
   "source": [
    "### Построим график кумулятивного среднего чека по группам."
   ]
  },
  {
   "cell_type": "code",
   "execution_count": 17,
   "metadata": {},
   "outputs": [
    {
     "data": {
      "image/png": "[encoded data removed]",
      "text/plain": [
       "<Figure size 864x432 with 1 Axes>"
      ]
     },
     "metadata": {
      "needs_background": "light"
     },
     "output_type": "display_data"
    }
   ],
   "source": [
    "plt.figure(figsize = (12, 6))\n",
    "plt.plot(cumulativeRevenueA['date'], \n",
    "         cumulativeRevenueA['revenue']/cumulativeRevenueA['orders'], \n",
    "         label='Кумулятивный средней чек группы A')\n",
    "plt.plot(cumulativeRevenueB['date'], \n",
    "         cumulativeRevenueB['revenue']/cumulativeRevenueB['orders'], \n",
    "         label='Кумулятивный средней чек группы B')\n",
    "plt.title('Кумулятивный средний чек')\n",
    "plt.legend() \n",
    "plt.show()"
   ]
  },
  {
   "cell_type": "markdown",
   "metadata": {},
   "source": [
    "Можно наблюдать колебания у графиков, а также тот самый безумный взлет у группы В. Такой скачок можно объяснить аномально большим заказом(заказами). Продолжаем изучать."
   ]
  },
  {
   "cell_type": "markdown",
   "metadata": {},
   "source": [
    "### Построим график относительного изменения кумулятивного среднего чека группы В к группе А."
   ]
  },
  {
   "cell_type": "code",
   "execution_count": 18,
   "metadata": {},
   "outputs": [],
   "source": [
    "mergedCumulativeRevenue = cumulativeRevenueA.merge(cumulativeRevenueB, \n",
    "                                                   left_on='date', \n",
    "                                                   right_on='date', \n",
    "                                                   how='left', \n",
    "                                                   suffixes=['A', 'B'])"
   ]
  },
  {
   "cell_type": "code",
   "execution_count": 19,
   "metadata": {},
   "outputs": [
    {
     "data": {
      "image/png": "[encoded data removed]",
      "text/plain": [
       "<Figure size 864x432 with 1 Axes>"
      ]
     },
     "metadata": {
      "needs_background": "light"
     },
     "output_type": "display_data"
    }
   ],
   "source": [
    "plt.figure(figsize = (12, 6))\n",
    "plt.plot(mergedCumulativeRevenue['date'], \n",
    "         (mergedCumulativeRevenue['revenueB']/mergedCumulativeRevenue['ordersB'])/\n",
    "         (mergedCumulativeRevenue['revenueA']/\n",
    "          mergedCumulativeRevenue['ordersA'])-1, \n",
    "          label=\"Относительный разница среднего чека группы B относительно группы A\")\n",
    "plt.legend()\n",
    "plt.axhline(y=0, color='black', linestyle='--') \n",
    "plt.show()"
   ]
  },
  {
   "cell_type": "markdown",
   "metadata": {},
   "source": [
    "Из данного графика можно сделать вывод, что,действительно, группа В выше по показателю среднего чека, чем группа А, но у нас все также остаются аномальные данные."
   ]
  },
  {
   "cell_type": "markdown",
   "metadata": {},
   "source": [
    "### Построим график кумулятивной конверсии по группам."
   ]
  },
  {
   "cell_type": "code",
   "execution_count": 20,
   "metadata": {},
   "outputs": [],
   "source": [
    "cumulativeData['conversion'] = cumulativeData['orders']/cumulativeData['visitors']\n",
    "\n",
    "cumulativeDataA = cumulativeData[cumulativeData['group']=='A']\n",
    "\n",
    "cumulativeDataB = cumulativeData[cumulativeData['group']=='B']"
   ]
  },
  {
   "cell_type": "code",
   "execution_count": 21,
   "metadata": {},
   "outputs": [
    {
     "data": {
      "image/png": "[encoded data removed]",
      "text/plain": [
       "<Figure size 936x288 with 1 Axes>"
      ]
     },
     "metadata": {
      "needs_background": "light"
     },
     "output_type": "display_data"
    }
   ],
   "source": [
    "plt.figure(figsize = (13, 4))\n",
    "plt.plot(cumulativeDataA['date'], cumulativeDataA['conversion'], label='Кумулятивная конверсия группы A')\n",
    "plt.plot(cumulativeDataB['date'], cumulativeDataB['conversion'], label='Кумулятивная конверсия группы B')\n",
    "plt.legend()\n",
    "\n",
    "# задаем масштаб осей\n",
    "plt.axis([\"2019-07-30\", '2019-09-02', 0.02, 0.05]) \n",
    "\n",
    "plt.title('Кумулятивная конверсия')\n",
    "plt.show()"
   ]
  },
  {
   "cell_type": "markdown",
   "metadata": {},
   "source": [
    "Насчет конверсии можно сказать следующее, что в начале наблюдаются небольшие колебания у обоих групп, но затем они стабилизируются и ясно видим, что группа В стабильно лучше по конверсии группы А."
   ]
  },
  {
   "cell_type": "markdown",
   "metadata": {},
   "source": [
    "### Построим график относительного изменения кумулятивной конверсии группы В к группе А."
   ]
  },
  {
   "cell_type": "code",
   "execution_count": 22,
   "metadata": {},
   "outputs": [],
   "source": [
    "mergedCumulativeConversions = cumulativeDataA[['date','conversion']].merge(cumulativeDataB[['date','conversion']], \n",
    "                                                                           left_on='date', \n",
    "                                                                           right_on='date', \n",
    "                                                                           how='left', \n",
    "                                                                           suffixes=['A', 'B'])"
   ]
  },
  {
   "cell_type": "code",
   "execution_count": 23,
   "metadata": {},
   "outputs": [
    {
     "data": {
      "image/png": "[encoded data removed]",
      "text/plain": [
       "<Figure size 864x432 with 1 Axes>"
      ]
     },
     "metadata": {
      "needs_background": "light"
     },
     "output_type": "display_data"
    }
   ],
   "source": [
    "plt.figure(figsize = (12, 6))\n",
    "plt.plot(mergedCumulativeConversions['date'], \n",
    "         mergedCumulativeConversions['conversionB']/mergedCumulativeConversions['conversionA']-1, \n",
    "         label=\"Относительный прирост конверсии группы B относительно группы A\")\n",
    "plt.legend()\n",
    "plt.axhline(y=0, color='black', linestyle='--')\n",
    "plt.axhline(y=0.1, color='grey', linestyle='--')\n",
    "plt.axis(['2019-07-30', '2019-09-02', -0.2, 0.3]) \n",
    "plt.show()"
   ]
  },
  {
   "cell_type": "markdown",
   "metadata": {},
   "source": [
    "На этом графике мы наглядно видим те самые колебания в начале, но после них группа В вырывается вперед и стабильно опережает группу А на 10%."
   ]
  },
  {
   "cell_type": "markdown",
   "metadata": {},
   "source": [
    "### Построим точечный график кол-ва заказов по пользователям."
   ]
  },
  {
   "cell_type": "code",
   "execution_count": 24,
   "metadata": {},
   "outputs": [],
   "source": [
    "ordersByUsers = (\n",
    "    orders.drop(['group', 'revenue', 'date'], axis=1)\n",
    "    .groupby('visitorId', as_index=False)\n",
    "    .agg({'transactionId': pd.Series.nunique})\n",
    ")\n",
    "ordersByUsers.columns = ['visitorId', 'orders']"
   ]
  },
  {
   "cell_type": "code",
   "execution_count": 25,
   "metadata": {},
   "outputs": [
    {
     "data": {
      "image/png": "[encoded data removed]",
      "text/plain": [
       "<Figure size 864x432 with 1 Axes>"
      ]
     },
     "metadata": {
      "needs_background": "light"
     },
     "output_type": "display_data"
    }
   ],
   "source": [
    "x_values = pd.Series(range(0, len(ordersByUsers)))\n",
    "plt.figure(figsize = (12, 6))\n",
    "plt.scatter(x_values, ordersByUsers['orders'])\n",
    "plt.ylabel(\"Кол-во заказов\")\n",
    "plt.title('Кол-во заказов по пользователям')\n",
    "plt.show()"
   ]
  },
  {
   "cell_type": "markdown",
   "metadata": {},
   "source": [
    "На графике можно увидеть, что некоторые пользователи делали больше 10 заказов. Так как принято отсеивать от 1% до 5% наблюдений, то отнесем к аномальным пользователям тех, кто делал 4 заказа и более."
   ]
  },
  {
   "cell_type": "markdown",
   "metadata": {},
   "source": [
    "### Посчитаем 95-й и 99-й перцентили количества заказов на пользователя."
   ]
  },
  {
   "cell_type": "code",
   "execution_count": 26,
   "metadata": {},
   "outputs": [
    {
     "name": "stdout",
     "output_type": "stream",
     "text": [
      "[2. 4.]\n"
     ]
    }
   ],
   "source": [
    "print(np.percentile(ordersByUsers['orders'], [95, 99]))"
   ]
  },
  {
   "cell_type": "markdown",
   "metadata": {},
   "source": [
    "Исходя из этого, можем с максимальной уверенностью отнести к аномальным пользователям тех, кто делает 4 заказа и больше."
   ]
  },
  {
   "cell_type": "markdown",
   "metadata": {},
   "source": [
    "### Построим точечный график стоимостей заказов. "
   ]
  },
  {
   "cell_type": "code",
   "execution_count": 27,
   "metadata": {},
   "outputs": [
    {
     "data": {
      "image/png": "[encoded data removed]",
      "text/plain": [
       "<Figure size 864x432 with 1 Axes>"
      ]
     },
     "metadata": {
      "needs_background": "light"
     },
     "output_type": "display_data"
    }
   ],
   "source": [
    "y_values = pd.Series(range(0, len(orders['revenue'])))\n",
    "plt.figure(figsize = (12, 6))\n",
    "plt.scatter(y_values, orders['revenue']) \n",
    "plt.ylabel(\"Стоимость заказа\")\n",
    "plt.title('Стоимость заказов по пользователям')\n",
    "plt.show()"
   ]
  },
  {
   "cell_type": "markdown",
   "metadata": {},
   "source": [
    "Поэтому графику мало, что можно сказать, в основном стоимость заказа не превосходит 50000 тысяч рублей, а также мы можем наблюдать тот аномальный заказ на сумму более 1млн рублей."
   ]
  },
  {
   "cell_type": "markdown",
   "metadata": {},
   "source": [
    "### Посчитаем 95-й и 99-й перцентили стоимости заказов."
   ]
  },
  {
   "cell_type": "code",
   "execution_count": 28,
   "metadata": {},
   "outputs": [
    {
     "name": "stdout",
     "output_type": "stream",
     "text": [
      "[28000.  58233.2]\n"
     ]
    }
   ],
   "source": [
    "print(np.percentile(orders['revenue'], [95, 99]))"
   ]
  },
  {
   "cell_type": "markdown",
   "metadata": {},
   "source": [
    "Отнесем к аномальным заказам те заказы, которые превышают 30000."
   ]
  },
  {
   "cell_type": "markdown",
   "metadata": {},
   "source": [
    "### Посчитаем статистическую значимость различий в конверсии между группами по «сырым» данным."
   ]
  },
  {
   "cell_type": "code",
   "execution_count": 29,
   "metadata": {},
   "outputs": [],
   "source": [
    "visitorsADaily = visitors[visitors['group'] == 'A'][['date', 'visitors']]\n",
    "visitorsADaily.columns = ['date', 'visitorsPerDateA']\n",
    "\n",
    "visitorsACummulative = visitorsADaily.apply(\n",
    "    lambda x: visitorsADaily[visitorsADaily['date'] <= x['date']].agg(\n",
    "        {'date': 'max', 'visitorsPerDateA': 'sum'}\n",
    "    ),\n",
    "    axis=1,\n",
    ")\n",
    "visitorsACummulative.columns = ['date', 'visitorsCummulativeA']"
   ]
  },
  {
   "cell_type": "code",
   "execution_count": 30,
   "metadata": {},
   "outputs": [],
   "source": [
    "visitorsBDaily = visitors[visitors['group'] == 'B'][['date', 'visitors']]\n",
    "visitorsBDaily.columns = ['date', 'visitorsPerDateB']\n",
    "\n",
    "visitorsBCummulative = visitorsBDaily.apply(\n",
    "    lambda x: visitorsBDaily[visitorsBDaily['date'] <= x['date']].agg(\n",
    "        {'date': 'max', 'visitorsPerDateB': 'sum'}\n",
    "    ),\n",
    "    axis=1,\n",
    ")\n",
    "visitorsBCummulative.columns = ['date', 'visitorsCummulativeB']"
   ]
  },
  {
   "cell_type": "code",
   "execution_count": 31,
   "metadata": {},
   "outputs": [],
   "source": [
    "ordersADaily = (\n",
    "    orders[orders['group'] == 'A'][['date', 'transactionId', 'visitorId', 'revenue']]\n",
    "    .groupby('date', as_index=False)\n",
    "    .agg({'visitorId': pd.Series.nunique, 'revenue': 'sum'})\n",
    ")\n",
    "ordersADaily.columns = ['date', 'ordersPerDateA', 'revenuePerDateA']\n",
    "\n",
    "ordersACummulative = ordersADaily.apply(\n",
    "    lambda x: ordersADaily[ordersADaily['date'] <= x['date']].agg(\n",
    "        {'date': 'max', 'ordersPerDateA': 'sum', 'revenuePerDateA': 'sum'}\n",
    "    ),\n",
    "    axis=1,\n",
    ").sort_values(by=['date'])\n",
    "ordersACummulative.columns = [\n",
    "    'date',\n",
    "    'ordersCummulativeA',\n",
    "    'revenueCummulativeA',\n",
    "]"
   ]
  },
  {
   "cell_type": "code",
   "execution_count": 32,
   "metadata": {},
   "outputs": [],
   "source": [
    "ordersBDaily = (\n",
    "    orders[orders['group'] == 'B'][['date', 'transactionId', 'visitorId', 'revenue']]\n",
    "    .groupby('date', as_index=False)\n",
    "    .agg({'visitorId': pd.Series.nunique, 'revenue': 'sum'})\n",
    ")\n",
    "ordersBDaily.columns = ['date', 'ordersPerDateB', 'revenuePerDateB']\n",
    "\n",
    "ordersBCummulative = ordersBDaily.apply(\n",
    "    lambda x: ordersBDaily[ordersBDaily['date'] <= x['date']].agg(\n",
    "        {'date': 'max', 'ordersPerDateB': 'sum', 'revenuePerDateB': 'sum'}\n",
    "    ),\n",
    "    axis=1,\n",
    ").sort_values(by=['date'])\n",
    "ordersBCummulative.columns = [\n",
    "    'date',\n",
    "    'ordersCummulativeB',\n",
    "    'revenueCummulativeB',\n",
    "]"
   ]
  },
  {
   "cell_type": "code",
   "execution_count": 33,
   "metadata": {},
   "outputs": [
    {
     "data": {
      "text/html": [
       "<div>\n",
       "<style scoped>\n",
       "    .dataframe tbody tr th:only-of-type {\n",
       "        vertical-align: middle;\n",
       "    }\n",
       "\n",
       "    .dataframe tbody tr th {\n",
       "        vertical-align: top;\n",
       "    }\n",
       "\n",
       "    .dataframe thead th {\n",
       "        text-align: right;\n",
       "    }\n",
       "</style>\n",
       "<table border=\"1\" class=\"dataframe\">\n",
       "  <thead>\n",
       "    <tr style=\"text-align: right;\">\n",
       "      <th></th>\n",
       "      <th>date</th>\n",
       "      <th>ordersPerDateA</th>\n",
       "      <th>revenuePerDateA</th>\n",
       "      <th>ordersPerDateB</th>\n",
       "      <th>revenuePerDateB</th>\n",
       "      <th>ordersCummulativeA</th>\n",
       "      <th>revenueCummulativeA</th>\n",
       "      <th>ordersCummulativeB</th>\n",
       "      <th>revenueCummulativeB</th>\n",
       "      <th>visitorsPerDateA</th>\n",
       "      <th>visitorsPerDateB</th>\n",
       "      <th>visitorsCummulativeA</th>\n",
       "      <th>visitorsCummulativeB</th>\n",
       "    </tr>\n",
       "  </thead>\n",
       "  <tbody>\n",
       "    <tr>\n",
       "      <td>0</td>\n",
       "      <td>2019-08-01</td>\n",
       "      <td>20</td>\n",
       "      <td>148579</td>\n",
       "      <td>20</td>\n",
       "      <td>101217</td>\n",
       "      <td>20</td>\n",
       "      <td>148579</td>\n",
       "      <td>20</td>\n",
       "      <td>101217</td>\n",
       "      <td>719</td>\n",
       "      <td>713</td>\n",
       "      <td>719</td>\n",
       "      <td>713</td>\n",
       "    </tr>\n",
       "    <tr>\n",
       "      <td>1</td>\n",
       "      <td>2019-08-02</td>\n",
       "      <td>19</td>\n",
       "      <td>93822</td>\n",
       "      <td>23</td>\n",
       "      <td>165531</td>\n",
       "      <td>39</td>\n",
       "      <td>242401</td>\n",
       "      <td>43</td>\n",
       "      <td>266748</td>\n",
       "      <td>619</td>\n",
       "      <td>581</td>\n",
       "      <td>1338</td>\n",
       "      <td>1294</td>\n",
       "    </tr>\n",
       "    <tr>\n",
       "      <td>2</td>\n",
       "      <td>2019-08-03</td>\n",
       "      <td>24</td>\n",
       "      <td>112473</td>\n",
       "      <td>16</td>\n",
       "      <td>114248</td>\n",
       "      <td>63</td>\n",
       "      <td>354874</td>\n",
       "      <td>59</td>\n",
       "      <td>380996</td>\n",
       "      <td>507</td>\n",
       "      <td>509</td>\n",
       "      <td>1845</td>\n",
       "      <td>1803</td>\n",
       "    </tr>\n",
       "    <tr>\n",
       "      <td>3</td>\n",
       "      <td>2019-08-04</td>\n",
       "      <td>15</td>\n",
       "      <td>70825</td>\n",
       "      <td>16</td>\n",
       "      <td>108571</td>\n",
       "      <td>78</td>\n",
       "      <td>425699</td>\n",
       "      <td>75</td>\n",
       "      <td>489567</td>\n",
       "      <td>717</td>\n",
       "      <td>770</td>\n",
       "      <td>2562</td>\n",
       "      <td>2573</td>\n",
       "    </tr>\n",
       "    <tr>\n",
       "      <td>4</td>\n",
       "      <td>2019-08-05</td>\n",
       "      <td>25</td>\n",
       "      <td>124218</td>\n",
       "      <td>23</td>\n",
       "      <td>92428</td>\n",
       "      <td>103</td>\n",
       "      <td>549917</td>\n",
       "      <td>98</td>\n",
       "      <td>581995</td>\n",
       "      <td>756</td>\n",
       "      <td>707</td>\n",
       "      <td>3318</td>\n",
       "      <td>3280</td>\n",
       "    </tr>\n",
       "    <tr>\n",
       "      <td>5</td>\n",
       "      <td>2019-08-06</td>\n",
       "      <td>15</td>\n",
       "      <td>48484</td>\n",
       "      <td>26</td>\n",
       "      <td>242342</td>\n",
       "      <td>118</td>\n",
       "      <td>598401</td>\n",
       "      <td>124</td>\n",
       "      <td>824337</td>\n",
       "      <td>667</td>\n",
       "      <td>655</td>\n",
       "      <td>3985</td>\n",
       "      <td>3935</td>\n",
       "    </tr>\n",
       "    <tr>\n",
       "      <td>6</td>\n",
       "      <td>2019-08-07</td>\n",
       "      <td>18</td>\n",
       "      <td>142417</td>\n",
       "      <td>24</td>\n",
       "      <td>225334</td>\n",
       "      <td>136</td>\n",
       "      <td>740818</td>\n",
       "      <td>148</td>\n",
       "      <td>1049671</td>\n",
       "      <td>644</td>\n",
       "      <td>709</td>\n",
       "      <td>4629</td>\n",
       "      <td>4644</td>\n",
       "    </tr>\n",
       "    <tr>\n",
       "      <td>7</td>\n",
       "      <td>2019-08-08</td>\n",
       "      <td>16</td>\n",
       "      <td>96279</td>\n",
       "      <td>27</td>\n",
       "      <td>220918</td>\n",
       "      <td>152</td>\n",
       "      <td>837097</td>\n",
       "      <td>175</td>\n",
       "      <td>1270589</td>\n",
       "      <td>610</td>\n",
       "      <td>654</td>\n",
       "      <td>5239</td>\n",
       "      <td>5298</td>\n",
       "    </tr>\n",
       "    <tr>\n",
       "      <td>8</td>\n",
       "      <td>2019-08-09</td>\n",
       "      <td>14</td>\n",
       "      <td>188506</td>\n",
       "      <td>24</td>\n",
       "      <td>160812</td>\n",
       "      <td>166</td>\n",
       "      <td>1025603</td>\n",
       "      <td>199</td>\n",
       "      <td>1431401</td>\n",
       "      <td>617</td>\n",
       "      <td>610</td>\n",
       "      <td>5856</td>\n",
       "      <td>5908</td>\n",
       "    </tr>\n",
       "    <tr>\n",
       "      <td>9</td>\n",
       "      <td>2019-08-10</td>\n",
       "      <td>16</td>\n",
       "      <td>210495</td>\n",
       "      <td>23</td>\n",
       "      <td>107802</td>\n",
       "      <td>182</td>\n",
       "      <td>1236098</td>\n",
       "      <td>222</td>\n",
       "      <td>1539203</td>\n",
       "      <td>406</td>\n",
       "      <td>369</td>\n",
       "      <td>6262</td>\n",
       "      <td>6277</td>\n",
       "    </tr>\n",
       "  </tbody>\n",
       "</table>\n",
       "</div>"
      ],
      "text/plain": [
       "        date  ordersPerDateA  revenuePerDateA  ordersPerDateB  \\\n",
       "0 2019-08-01              20           148579              20   \n",
       "1 2019-08-02              19            93822              23   \n",
       "2 2019-08-03              24           112473              16   \n",
       "3 2019-08-04              15            70825              16   \n",
       "4 2019-08-05              25           124218              23   \n",
       "5 2019-08-06              15            48484              26   \n",
       "6 2019-08-07              18           142417              24   \n",
       "7 2019-08-08              16            96279              27   \n",
       "8 2019-08-09              14           188506              24   \n",
       "9 2019-08-10              16           210495              23   \n",
       "\n",
       "   revenuePerDateB  ordersCummulativeA  revenueCummulativeA  \\\n",
       "0           101217                  20               148579   \n",
       "1           165531                  39               242401   \n",
       "2           114248                  63               354874   \n",
       "3           108571                  78               425699   \n",
       "4            92428                 103               549917   \n",
       "5           242342                 118               598401   \n",
       "6           225334                 136               740818   \n",
       "7           220918                 152               837097   \n",
       "8           160812                 166              1025603   \n",
       "9           107802                 182              1236098   \n",
       "\n",
       "   ordersCummulativeB  revenueCummulativeB  visitorsPerDateA  \\\n",
       "0                  20               101217               719   \n",
       "1                  43               266748               619   \n",
       "2                  59               380996               507   \n",
       "3                  75               489567               717   \n",
       "4                  98               581995               756   \n",
       "5                 124               824337               667   \n",
       "6                 148              1049671               644   \n",
       "7                 175              1270589               610   \n",
       "8                 199              1431401               617   \n",
       "9                 222              1539203               406   \n",
       "\n",
       "   visitorsPerDateB  visitorsCummulativeA  visitorsCummulativeB  \n",
       "0               713                   719                   713  \n",
       "1               581                  1338                  1294  \n",
       "2               509                  1845                  1803  \n",
       "3               770                  2562                  2573  \n",
       "4               707                  3318                  3280  \n",
       "5               655                  3985                  3935  \n",
       "6               709                  4629                  4644  \n",
       "7               654                  5239                  5298  \n",
       "8               610                  5856                  5908  \n",
       "9               369                  6262                  6277  "
      ]
     },
     "execution_count": 33,
     "metadata": {},
     "output_type": "execute_result"
    }
   ],
   "source": [
    "data = (\n",
    "    ordersADaily.merge(\n",
    "        ordersBDaily, left_on='date', right_on='date', how='left'\n",
    "    )\n",
    "    .merge(ordersACummulative, left_on='date', right_on='date', how='left')\n",
    "    .merge(ordersBCummulative, left_on='date', right_on='date', how='left')\n",
    "    .merge(visitorsADaily, left_on='date', right_on='date', how='left')\n",
    "    .merge(visitorsBDaily, left_on='date', right_on='date', how='left')\n",
    "    .merge(visitorsACummulative, left_on='date', right_on='date', how='left')\n",
    "    .merge(visitorsBCummulative, left_on='date', right_on='date', how='left')\n",
    ")\n",
    "data.head(10)"
   ]
  },
  {
   "cell_type": "markdown",
   "metadata": {},
   "source": [
    "- ordersPerDateA — количество заказов в выбранную дату в группе A;\n",
    "- revenuePerDateA — суммарная выручка в выбранную дату в группе A;\n",
    "- ordersPerDateB — количество заказов в выбранную дату в группе B;\n",
    "- revenuePerDateB — суммарная выручка в выбранную дату в группе B;\n",
    "- ordersCummulativeA — суммарное число заказов до выбранной даты включительно в группе A;\n",
    "- revenueCummulativeA — суммарная выручка до выбранной даты включительно в группе A;\n",
    "- ordersCummulativeB — суммарное количество заказов до выбранной даты включительно в группе B;\n",
    "- revenueCummulativeB — суммарная выручка до выбранной даты включительно в группе B;\n",
    "- visitorsPerDateA — количество пользователей в выбранную дату в группе A;\n",
    "- visitorsPerDateB — количество пользователей в выбранную дату в группе B;\n",
    "- visitorsCummulativeA — количество пользователей до выбранной даты включительно в группе A;\n",
    "- visitorsCummulativeB — количество пользователей до выбранной даты включительно в группе B."
   ]
  },
  {
   "cell_type": "code",
   "execution_count": 34,
   "metadata": {},
   "outputs": [],
   "source": [
    "ordersByUsersA = (\n",
    "    orders[orders['group'] == 'A']\n",
    "    .groupby('visitorId', as_index=False)\n",
    "    .agg({'transactionId': pd.Series.nunique})\n",
    ")\n",
    "ordersByUsersA.columns = ['visitorId', 'orders']"
   ]
  },
  {
   "cell_type": "code",
   "execution_count": 35,
   "metadata": {},
   "outputs": [],
   "source": [
    "ordersByUsersB = (\n",
    "    orders[orders['group'] == 'B']\n",
    "    .groupby('visitorId', as_index=False)\n",
    "    .agg({'transactionId': pd.Series.nunique})\n",
    ")\n",
    "ordersByUsersB.columns = ['visitorId', 'orders']"
   ]
  },
  {
   "cell_type": "code",
   "execution_count": 36,
   "metadata": {},
   "outputs": [],
   "source": [
    "sampleA = pd.concat(\n",
    "    [\n",
    "        ordersByUsersA['orders'],\n",
    "        pd.Series(\n",
    "            0,\n",
    "            index=np.arange(\n",
    "                data['visitorsPerDateA'].sum() - len(ordersByUsersA['orders'])\n",
    "            ),\n",
    "            name='orders',\n",
    "        ),\n",
    "    ],\n",
    "    axis=0,\n",
    ")"
   ]
  },
  {
   "cell_type": "code",
   "execution_count": 37,
   "metadata": {},
   "outputs": [],
   "source": [
    "sampleB = pd.concat(\n",
    "    [\n",
    "        ordersByUsersB['orders'],\n",
    "        pd.Series(\n",
    "            0,\n",
    "            index=np.arange(\n",
    "                data['visitorsPerDateB'].sum() - len(ordersByUsersB['orders'])\n",
    "            ),\n",
    "            name='orders',\n",
    "        ),\n",
    "    ],\n",
    "    axis=0,\n",
    ")"
   ]
  },
  {
   "cell_type": "markdown",
   "metadata": {},
   "source": [
    "H0 - нулевая гипотеза: Между группами А и В отсутствуют статистические значимые различия по какому-то параметру.\n",
    "\n",
    "H1 - альтернативная гипотеза: Наблюдается статистические значимые различия между группами А и В по какому-то параметру.\n",
    "\n",
    "alpha = 0.05"
   ]
  },
  {
   "cell_type": "code",
   "execution_count": 38,
   "metadata": {},
   "outputs": [
    {
     "name": "stdout",
     "output_type": "stream",
     "text": [
      "Cтатистическая значимость: 0.0168\n"
     ]
    }
   ],
   "source": [
    "print(\"Cтатистическая значимость: {0:.4f}\".format(stats.mannwhitneyu(sampleA, sampleB, alternative = 'two-sided')[1]))"
   ]
  },
  {
   "cell_type": "code",
   "execution_count": 39,
   "metadata": {},
   "outputs": [
    {
     "name": "stdout",
     "output_type": "stream",
     "text": [
      "Относительный прирост конверсии группы B к группе А: 0.1381\n"
     ]
    }
   ],
   "source": [
    "print(\"Относительный прирост конверсии группы B к группе А: {0:.4f}\"\n",
    "      .format(sampleB.mean() / sampleA.mean() - 1))"
   ]
  },
  {
   "cell_type": "markdown",
   "metadata": {},
   "source": [
    "0.0168 = p-value < 0.05, следовательно, мы отвергаем нулевую гипотезу о том, что статистически значимых различий в конверсии между группами нет. А также конверсия группы В выигрывает на 13.8% группу А."
   ]
  },
  {
   "cell_type": "markdown",
   "metadata": {},
   "source": [
    "### Посчитаем статистическую значимость различий в среднем чеке заказа между группами по «сырым» данным."
   ]
  },
  {
   "cell_type": "code",
   "execution_count": 40,
   "metadata": {},
   "outputs": [
    {
     "name": "stdout",
     "output_type": "stream",
     "text": [
      "Cтатистическая значимость: 0.7293\n"
     ]
    }
   ],
   "source": [
    "print('Cтатистическая значимость: {0:.4f}'\n",
    "      .format(stats.mannwhitneyu(orders[orders['group']=='A']['revenue'], \n",
    "                                 orders[orders['group']=='B']['revenue'], alternative = 'two-sided')[1]))"
   ]
  },
  {
   "cell_type": "code",
   "execution_count": 41,
   "metadata": {},
   "outputs": [
    {
     "name": "stdout",
     "output_type": "stream",
     "text": [
      "Относительные различия в среднем чеке между группами: 0.2587\n"
     ]
    }
   ],
   "source": [
    "print('Относительные различия в среднем чеке между группами: {0:.4f}'\n",
    "      .format(orders[orders['group']=='B']['revenue'].mean()/orders[orders['group']=='A']['revenue'].mean()-1)) "
   ]
  },
  {
   "cell_type": "markdown",
   "metadata": {},
   "source": [
    "0.7293 = p-value > 0.05, следовательно, мы не отвергаем нулевую гипотезу о том, что статистически значимых различий в среднем чеке между группами нет. Однако, можем заметить, что средний чек группы В значительно больше группы А, а точнее почти на 26%."
   ]
  },
  {
   "cell_type": "markdown",
   "metadata": {},
   "source": [
    "### Перейдем к очищенным данным"
   ]
  },
  {
   "cell_type": "code",
   "execution_count": 42,
   "metadata": {},
   "outputs": [],
   "source": [
    "#Зададим условия для \"очищенных данных\"\n",
    "usersWithManyOrders = pd.concat(\n",
    "    [\n",
    "        ordersByUsersA[ordersByUsersA['orders'] > 4]['visitorId'],\n",
    "        ordersByUsersB[ordersByUsersB['orders'] > 4]['visitorId'],\n",
    "    ],\n",
    "    axis=0,\n",
    ")"
   ]
  },
  {
   "cell_type": "code",
   "execution_count": 43,
   "metadata": {},
   "outputs": [],
   "source": [
    "usersWithExpensiveOrders = orders[orders['revenue'] > 30000]['visitorId']"
   ]
  },
  {
   "cell_type": "code",
   "execution_count": 44,
   "metadata": {},
   "outputs": [],
   "source": [
    "#Данные, которые не удовлетворяют нашим критериям\n",
    "abnormalUsers = (\n",
    "    pd.concat([usersWithManyOrders, usersWithExpensiveOrders], axis=0)\n",
    "    .drop_duplicates()\n",
    "    .sort_values()\n",
    ")"
   ]
  },
  {
   "cell_type": "code",
   "execution_count": 45,
   "metadata": {},
   "outputs": [],
   "source": [
    "sampleAFiltered = pd.concat(\n",
    "    [\n",
    "        ordersByUsersA[\n",
    "            np.logical_not(ordersByUsersA['visitorId'].isin(abnormalUsers))\n",
    "        ]['orders'],\n",
    "        pd.Series(\n",
    "            0,\n",
    "            index=np.arange(\n",
    "                data['visitorsPerDateA'].sum() - len(ordersByUsersA['orders'])\n",
    "            ),\n",
    "            name='orders',\n",
    "        ),\n",
    "    ],\n",
    "    axis=0,\n",
    ")"
   ]
  },
  {
   "cell_type": "code",
   "execution_count": 46,
   "metadata": {},
   "outputs": [],
   "source": [
    "sampleBFiltered = pd.concat(\n",
    "    [\n",
    "        ordersByUsersB[\n",
    "            np.logical_not(ordersByUsersB['visitorId'].isin(abnormalUsers))\n",
    "        ]['orders'],\n",
    "        pd.Series(\n",
    "            0,\n",
    "            index=np.arange(\n",
    "                data['visitorsPerDateB'].sum() - len(ordersByUsersB['orders'])\n",
    "            ),\n",
    "            name='orders',\n",
    "        ),\n",
    "    ],\n",
    "    axis=0,\n",
    ") "
   ]
  },
  {
   "cell_type": "markdown",
   "metadata": {},
   "source": [
    "### Посчитаем статистическую значимость различий в конверсии между группами по «очищенным» данным."
   ]
  },
  {
   "cell_type": "code",
   "execution_count": 47,
   "metadata": {},
   "outputs": [
    {
     "name": "stdout",
     "output_type": "stream",
     "text": [
      "Cтатистическая значимость: 0.0188\n"
     ]
    }
   ],
   "source": [
    "print(\"Cтатистическая значимость: {0:.4f}\".format(stats.mannwhitneyu(sampleAFiltered, sampleBFiltered, \n",
    "                                                  alternative = 'two-sided')[1]))"
   ]
  },
  {
   "cell_type": "code",
   "execution_count": 48,
   "metadata": {},
   "outputs": [
    {
     "name": "stdout",
     "output_type": "stream",
     "text": [
      "Относительный прирост конверсии группы B к группе А: 0.1444\n"
     ]
    }
   ],
   "source": [
    "print(\"Относительный прирост конверсии группы B к группе А: {0:.4f}\".\n",
    "      format(sampleBFiltered.mean()/sampleAFiltered.mean()-1)) "
   ]
  },
  {
   "cell_type": "markdown",
   "metadata": {},
   "source": [
    "0.0188 = p-value < 0.05, следовательно, мы отвергаем нулевую гипотезу о том, что статистически значимых различий в конверсии между группами по очищенным данным нет. А также можно заметить, что относительный прирост конверсии группы В к группе А чуть больше, чем у сырых данных."
   ]
  },
  {
   "cell_type": "markdown",
   "metadata": {},
   "source": [
    "### Посчитаем статистическую значимость различий в среднем чеке заказа между группами по «очищенным» данным."
   ]
  },
  {
   "cell_type": "code",
   "execution_count": 49,
   "metadata": {},
   "outputs": [
    {
     "name": "stdout",
     "output_type": "stream",
     "text": [
      "Cтатистическая значимость: 0.9795\n"
     ]
    }
   ],
   "source": [
    "print(\n",
    "    \"Cтатистическая значимость: {0:.4}\".format(\n",
    "        stats.mannwhitneyu(\n",
    "            orders[\n",
    "                np.logical_and(\n",
    "                    orders['group'] == 'A',\n",
    "                    np.logical_not(orders['visitorId'].isin(abnormalUsers)),\n",
    "                )\n",
    "            ]['revenue'],\n",
    "            orders[\n",
    "                np.logical_and(\n",
    "                    orders['group'] == 'B',\n",
    "                    np.logical_not(orders['visitorId'].isin(abnormalUsers)),\n",
    "                )\n",
    "            ]['revenue'],\n",
    "        alternative = 'two-sided')[1]\n",
    "            )\n",
    ")"
   ]
  },
  {
   "cell_type": "code",
   "execution_count": 50,
   "metadata": {},
   "outputs": [
    {
     "name": "stdout",
     "output_type": "stream",
     "text": [
      "Относительные различия в среднем чеке между группами:  -0.0167\n"
     ]
    }
   ],
   "source": [
    "print(\n",
    "    \"Относительные различия в среднем чеке между группами:  {0:.4f}\".format(\n",
    "        orders[\n",
    "            np.logical_and(\n",
    "                orders['group'] == 'B',\n",
    "                np.logical_not(orders['visitorId'].isin(abnormalUsers)),\n",
    "            )\n",
    "        ]['revenue'].mean()\n",
    "        / orders[\n",
    "            np.logical_and(\n",
    "                orders['group'] == 'A',\n",
    "                np.logical_not(orders['visitorId'].isin(abnormalUsers)),\n",
    "            )\n",
    "        ]['revenue'].mean()\n",
    "        - 1\n",
    "    )\n",
    ") "
   ]
  },
  {
   "cell_type": "markdown",
   "metadata": {},
   "source": [
    "0.4897 = p-value > 0.05, следовательно, мы не отвергаем нулевую гипотезу о том, что статистически значимых различий в среднем чеке между группами нет. Но теперь пропало превосходство группы В над группой А и теперь группа В проигрывает по среднему чеку почти в 2%, а по сырым данных она выигрывала у группы А на 26%. Однако, и в первом и во втором случае статистически значимых различий между группами по среднему чеку не наблюдалать, т.е. можно сделать вывод, что критерий Манна- Уитни не чувствителен к аномальным данным. И по очищенным данным делаем вывод, что группы практически не отличаются по значениям среднего чека."
   ]
  },
  {
   "cell_type": "markdown",
   "metadata": {},
   "source": [
    "### Принятие решения"
   ]
  },
  {
   "cell_type": "markdown",
   "metadata": {},
   "source": [
    "Мы имеем следующие выводы:\n",
    "\n",
    "Есть статистические значимое различие по конверсии между группами как по сырым данным, так и по очищенным данным.\n",
    "\n",
    "Нету статистического значимого различия по среднему чеку между группами как по сырым данным, так и по очищенным данным.\n",
    "\n",
    "Относительные различия в среднем чеке между группами по сырым данным равно 26% в пользу группы В, а по очищенным почти 2% в пользу группы А.\n",
    "\n",
    "График различия конверсии между группами сообщает, что результаты группа В значительно лучше группы А. Такая тенденция сохранятся и при очистки данных от аномалий.\n",
    "\n",
    "На основе графика различия среднего чека между группами делаем вывод, что средний чек группы В зачастую выше среднего чека группы А. Но после очистки данных, можно уверенно сказать, что разницы в среднем чеке у групп практически нет.\n",
    "\n",
    "Поэтому, следует остановить тест и принять победу группы В над группой А."
   ]
  }
 ],
 "metadata": {
  "kernelspec": {
   "display_name": "Python 3",
   "language": "python",
   "name": "python3"
  },
  "language_info": {
   "codemirror_mode": {
    "name": "ipython",
    "version": 3
   },
   "file_extension": ".py",
   "mimetype": "text/x-python",
   "name": "python",
   "nbconvert_exporter": "python",
   "pygments_lexer": "ipython3",
   "version": "3.7.8"
  },
  "toc": {
   "base_numbering": 1,
   "nav_menu": {},
   "number_sections": false,
   "sideBar": true,
   "skip_h1_title": true,
   "title_cell": "Table of Contents",
   "title_sidebar": "Contents",
   "toc_cell": false,
   "toc_position": {},
   "toc_section_display": true,
   "toc_window_display": false
  }
 },
 "nbformat": 4,
 "nbformat_minor": 2
}
