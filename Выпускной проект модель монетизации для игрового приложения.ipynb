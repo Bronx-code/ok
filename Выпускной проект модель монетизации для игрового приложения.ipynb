{
 "cells": [
  {
   "cell_type": "markdown",
   "metadata": {},
   "source": [
    "## Описание проекта"
   ]
  },
  {
   "cell_type": "markdown",
   "metadata": {},
   "source": [
    "В данном проекте осуществляется разработка модели монетизации для игрового приложения. Создатели игры планируют показывать рекламу на экране выбором постройки."
   ]
  },
  {
   "cell_type": "markdown",
   "metadata": {},
   "source": [
    "Ссылка на презентацию: https://disk.yandex.ru/i/jX6qPP5Ju8evWQ\n",
    "\n",
    "Ссылка на дашборд: https://public.tableau.com/app/profile/oleg5570/viz/-_16221946851760/_"
   ]
  },
  {
   "cell_type": "markdown",
   "metadata": {},
   "source": [
    "## Открытие данных"
   ]
  },
  {
   "cell_type": "code",
   "execution_count": 1,
   "metadata": {},
   "outputs": [],
   "source": [
    "import pandas as pd\n",
    "import matplotlib.pyplot as plt\n",
    "import numpy as np\n",
    "import seaborn as sns\n",
    "from pandas.plotting import register_matplotlib_converters\n",
    "from scipy import stats as st"
   ]
  },
  {
   "cell_type": "code",
   "execution_count": 2,
   "metadata": {},
   "outputs": [
    {
     "data": {
      "text/html": [
       "<div>\n",
       "<style scoped>\n",
       "    .dataframe tbody tr th:only-of-type {\n",
       "        vertical-align: middle;\n",
       "    }\n",
       "\n",
       "    .dataframe tbody tr th {\n",
       "        vertical-align: top;\n",
       "    }\n",
       "\n",
       "    .dataframe thead th {\n",
       "        text-align: right;\n",
       "    }\n",
       "</style>\n",
       "<table border=\"1\" class=\"dataframe\">\n",
       "  <thead>\n",
       "    <tr style=\"text-align: right;\">\n",
       "      <th></th>\n",
       "      <th>source</th>\n",
       "      <th>day</th>\n",
       "      <th>cost</th>\n",
       "    </tr>\n",
       "  </thead>\n",
       "  <tbody>\n",
       "    <tr>\n",
       "      <td>0</td>\n",
       "      <td>facebook_ads</td>\n",
       "      <td>2020-05-03</td>\n",
       "      <td>935.882786</td>\n",
       "    </tr>\n",
       "    <tr>\n",
       "      <td>1</td>\n",
       "      <td>facebook_ads</td>\n",
       "      <td>2020-05-04</td>\n",
       "      <td>548.354480</td>\n",
       "    </tr>\n",
       "    <tr>\n",
       "      <td>2</td>\n",
       "      <td>facebook_ads</td>\n",
       "      <td>2020-05-05</td>\n",
       "      <td>260.185754</td>\n",
       "    </tr>\n",
       "    <tr>\n",
       "      <td>3</td>\n",
       "      <td>facebook_ads</td>\n",
       "      <td>2020-05-06</td>\n",
       "      <td>177.982200</td>\n",
       "    </tr>\n",
       "    <tr>\n",
       "      <td>4</td>\n",
       "      <td>facebook_ads</td>\n",
       "      <td>2020-05-07</td>\n",
       "      <td>111.766796</td>\n",
       "    </tr>\n",
       "  </tbody>\n",
       "</table>\n",
       "</div>"
      ],
      "text/plain": [
       "         source         day        cost\n",
       "0  facebook_ads  2020-05-03  935.882786\n",
       "1  facebook_ads  2020-05-04  548.354480\n",
       "2  facebook_ads  2020-05-05  260.185754\n",
       "3  facebook_ads  2020-05-06  177.982200\n",
       "4  facebook_ads  2020-05-07  111.766796"
      ]
     },
     "execution_count": 2,
     "metadata": {},
     "output_type": "execute_result"
    }
   ],
   "source": [
    "ad_costs = pd.read_csv('/datasets/ad_costs.csv')\n",
    "ad_costs.head()"
   ]
  },
  {
   "cell_type": "code",
   "execution_count": 3,
   "metadata": {},
   "outputs": [
    {
     "name": "stdout",
     "output_type": "stream",
     "text": [
      "<class 'pandas.core.frame.DataFrame'>\n",
      "RangeIndex: 28 entries, 0 to 27\n",
      "Data columns (total 3 columns):\n",
      "source    28 non-null object\n",
      "day       28 non-null object\n",
      "cost      28 non-null float64\n",
      "dtypes: float64(1), object(2)\n",
      "memory usage: 800.0+ bytes\n"
     ]
    }
   ],
   "source": [
    "ad_costs.info()"
   ]
  },
  {
   "cell_type": "code",
   "execution_count": 4,
   "metadata": {},
   "outputs": [
    {
     "data": {
      "text/html": [
       "<div>\n",
       "<style scoped>\n",
       "    .dataframe tbody tr th:only-of-type {\n",
       "        vertical-align: middle;\n",
       "    }\n",
       "\n",
       "    .dataframe tbody tr th {\n",
       "        vertical-align: top;\n",
       "    }\n",
       "\n",
       "    .dataframe thead th {\n",
       "        text-align: right;\n",
       "    }\n",
       "</style>\n",
       "<table border=\"1\" class=\"dataframe\">\n",
       "  <thead>\n",
       "    <tr style=\"text-align: right;\">\n",
       "      <th></th>\n",
       "      <th>event_datetime</th>\n",
       "      <th>event</th>\n",
       "      <th>building_type</th>\n",
       "      <th>user_id</th>\n",
       "      <th>project_type</th>\n",
       "    </tr>\n",
       "  </thead>\n",
       "  <tbody>\n",
       "    <tr>\n",
       "      <td>0</td>\n",
       "      <td>2020-05-04 00:00:01</td>\n",
       "      <td>building</td>\n",
       "      <td>assembly_shop</td>\n",
       "      <td>55e92310-cb8e-4754-b622-597e124b03de</td>\n",
       "      <td>NaN</td>\n",
       "    </tr>\n",
       "    <tr>\n",
       "      <td>1</td>\n",
       "      <td>2020-05-04 00:00:03</td>\n",
       "      <td>building</td>\n",
       "      <td>assembly_shop</td>\n",
       "      <td>c07b1c10-f477-44dc-81dc-ec82254b1347</td>\n",
       "      <td>NaN</td>\n",
       "    </tr>\n",
       "    <tr>\n",
       "      <td>2</td>\n",
       "      <td>2020-05-04 00:00:16</td>\n",
       "      <td>building</td>\n",
       "      <td>assembly_shop</td>\n",
       "      <td>6edd42cc-e753-4ff6-a947-2107cd560710</td>\n",
       "      <td>NaN</td>\n",
       "    </tr>\n",
       "    <tr>\n",
       "      <td>3</td>\n",
       "      <td>2020-05-04 00:00:16</td>\n",
       "      <td>building</td>\n",
       "      <td>assembly_shop</td>\n",
       "      <td>92c69003-d60a-444a-827f-8cc51bf6bf4c</td>\n",
       "      <td>NaN</td>\n",
       "    </tr>\n",
       "    <tr>\n",
       "      <td>4</td>\n",
       "      <td>2020-05-04 00:00:35</td>\n",
       "      <td>building</td>\n",
       "      <td>assembly_shop</td>\n",
       "      <td>cdc6bb92-0ccb-4490-9866-ef142f09139d</td>\n",
       "      <td>NaN</td>\n",
       "    </tr>\n",
       "  </tbody>\n",
       "</table>\n",
       "</div>"
      ],
      "text/plain": [
       "        event_datetime     event  building_type  \\\n",
       "0  2020-05-04 00:00:01  building  assembly_shop   \n",
       "1  2020-05-04 00:00:03  building  assembly_shop   \n",
       "2  2020-05-04 00:00:16  building  assembly_shop   \n",
       "3  2020-05-04 00:00:16  building  assembly_shop   \n",
       "4  2020-05-04 00:00:35  building  assembly_shop   \n",
       "\n",
       "                                user_id project_type  \n",
       "0  55e92310-cb8e-4754-b622-597e124b03de          NaN  \n",
       "1  c07b1c10-f477-44dc-81dc-ec82254b1347          NaN  \n",
       "2  6edd42cc-e753-4ff6-a947-2107cd560710          NaN  \n",
       "3  92c69003-d60a-444a-827f-8cc51bf6bf4c          NaN  \n",
       "4  cdc6bb92-0ccb-4490-9866-ef142f09139d          NaN  "
      ]
     },
     "execution_count": 4,
     "metadata": {},
     "output_type": "execute_result"
    }
   ],
   "source": [
    "game_actions = pd.read_csv('/datasets/game_actions.csv')\n",
    "game_actions.head()"
   ]
  },
  {
   "cell_type": "code",
   "execution_count": 5,
   "metadata": {},
   "outputs": [
    {
     "name": "stdout",
     "output_type": "stream",
     "text": [
      "<class 'pandas.core.frame.DataFrame'>\n",
      "RangeIndex: 135640 entries, 0 to 135639\n",
      "Data columns (total 5 columns):\n",
      "event_datetime    135640 non-null object\n",
      "event             135640 non-null object\n",
      "building_type     127957 non-null object\n",
      "user_id           135640 non-null object\n",
      "project_type      1866 non-null object\n",
      "dtypes: object(5)\n",
      "memory usage: 5.2+ MB\n"
     ]
    }
   ],
   "source": [
    "game_actions.info()"
   ]
  },
  {
   "cell_type": "code",
   "execution_count": 6,
   "metadata": {},
   "outputs": [
    {
     "data": {
      "text/html": [
       "<div>\n",
       "<style scoped>\n",
       "    .dataframe tbody tr th:only-of-type {\n",
       "        vertical-align: middle;\n",
       "    }\n",
       "\n",
       "    .dataframe tbody tr th {\n",
       "        vertical-align: top;\n",
       "    }\n",
       "\n",
       "    .dataframe thead th {\n",
       "        text-align: right;\n",
       "    }\n",
       "</style>\n",
       "<table border=\"1\" class=\"dataframe\">\n",
       "  <thead>\n",
       "    <tr style=\"text-align: right;\">\n",
       "      <th></th>\n",
       "      <th>user_id</th>\n",
       "      <th>source</th>\n",
       "    </tr>\n",
       "  </thead>\n",
       "  <tbody>\n",
       "    <tr>\n",
       "      <td>0</td>\n",
       "      <td>0001f83c-c6ac-4621-b7f0-8a28b283ac30</td>\n",
       "      <td>facebook_ads</td>\n",
       "    </tr>\n",
       "    <tr>\n",
       "      <td>1</td>\n",
       "      <td>00151b4f-ba38-44a8-a650-d7cf130a0105</td>\n",
       "      <td>yandex_direct</td>\n",
       "    </tr>\n",
       "    <tr>\n",
       "      <td>2</td>\n",
       "      <td>001aaea6-3d14-43f1-8ca8-7f48820f17aa</td>\n",
       "      <td>youtube_channel_reklama</td>\n",
       "    </tr>\n",
       "    <tr>\n",
       "      <td>3</td>\n",
       "      <td>001d39dc-366c-4021-9604-6a3b9ff01e25</td>\n",
       "      <td>instagram_new_adverts</td>\n",
       "    </tr>\n",
       "    <tr>\n",
       "      <td>4</td>\n",
       "      <td>002f508f-67b6-479f-814b-b05f00d4e995</td>\n",
       "      <td>facebook_ads</td>\n",
       "    </tr>\n",
       "  </tbody>\n",
       "</table>\n",
       "</div>"
      ],
      "text/plain": [
       "                                user_id                   source\n",
       "0  0001f83c-c6ac-4621-b7f0-8a28b283ac30             facebook_ads\n",
       "1  00151b4f-ba38-44a8-a650-d7cf130a0105            yandex_direct\n",
       "2  001aaea6-3d14-43f1-8ca8-7f48820f17aa  youtube_channel_reklama\n",
       "3  001d39dc-366c-4021-9604-6a3b9ff01e25    instagram_new_adverts\n",
       "4  002f508f-67b6-479f-814b-b05f00d4e995             facebook_ads"
      ]
     },
     "execution_count": 6,
     "metadata": {},
     "output_type": "execute_result"
    }
   ],
   "source": [
    "user_source = pd.read_csv('/datasets/user_source.csv')\n",
    "user_source.head()"
   ]
  },
  {
   "cell_type": "code",
   "execution_count": 7,
   "metadata": {},
   "outputs": [
    {
     "name": "stdout",
     "output_type": "stream",
     "text": [
      "<class 'pandas.core.frame.DataFrame'>\n",
      "RangeIndex: 13576 entries, 0 to 13575\n",
      "Data columns (total 2 columns):\n",
      "user_id    13576 non-null object\n",
      "source     13576 non-null object\n",
      "dtypes: object(2)\n",
      "memory usage: 212.2+ KB\n"
     ]
    }
   ],
   "source": [
    "user_source.info()"
   ]
  },
  {
   "cell_type": "markdown",
   "metadata": {},
   "source": [
    "### Вывод"
   ]
  },
  {
   "cell_type": "markdown",
   "metadata": {},
   "source": [
    "С таблицей user_source все в порядке. В таблицах game_actions и ad_costs стоит поменять тип данных у столбцов, связанных со временем, а также разобраться с пропусками в таблице game_actions."
   ]
  },
  {
   "cell_type": "markdown",
   "metadata": {},
   "source": [
    "## Предобработка данных"
   ]
  },
  {
   "cell_type": "markdown",
   "metadata": {},
   "source": [
    "Проверка типов данных"
   ]
  },
  {
   "cell_type": "code",
   "execution_count": 8,
   "metadata": {},
   "outputs": [],
   "source": [
    "ad_costs['day'] = pd.to_datetime(ad_costs['day'])"
   ]
  },
  {
   "cell_type": "code",
   "execution_count": 9,
   "metadata": {},
   "outputs": [],
   "source": [
    "game_actions['event_datetime'] = pd.to_datetime(game_actions['event_datetime'])"
   ]
  },
  {
   "cell_type": "markdown",
   "metadata": {},
   "source": [
    "Проверка целостности данных (пропуски и дупликаты)"
   ]
  },
  {
   "cell_type": "code",
   "execution_count": 10,
   "metadata": {},
   "outputs": [
    {
     "data": {
      "text/html": [
       "<div>\n",
       "<style scoped>\n",
       "    .dataframe tbody tr th:only-of-type {\n",
       "        vertical-align: middle;\n",
       "    }\n",
       "\n",
       "    .dataframe tbody tr th {\n",
       "        vertical-align: top;\n",
       "    }\n",
       "\n",
       "    .dataframe thead th {\n",
       "        text-align: right;\n",
       "    }\n",
       "</style>\n",
       "<table border=\"1\" class=\"dataframe\">\n",
       "  <thead>\n",
       "    <tr style=\"text-align: right;\">\n",
       "      <th></th>\n",
       "      <th>event_datetime</th>\n",
       "      <th>event</th>\n",
       "      <th>building_type</th>\n",
       "      <th>user_id</th>\n",
       "      <th>project_type</th>\n",
       "    </tr>\n",
       "  </thead>\n",
       "  <tbody>\n",
       "    <tr>\n",
       "      <td>6659</td>\n",
       "      <td>2020-05-04 19:47:29</td>\n",
       "      <td>finished_stage_1</td>\n",
       "      <td>NaN</td>\n",
       "      <td>ced7b368-818f-48f6-9461-2346de0892c5</td>\n",
       "      <td>NaN</td>\n",
       "    </tr>\n",
       "    <tr>\n",
       "      <td>13134</td>\n",
       "      <td>2020-05-05 13:22:09</td>\n",
       "      <td>finished_stage_1</td>\n",
       "      <td>NaN</td>\n",
       "      <td>7ef7fc89-2779-46ea-b328-9e5035b83af5</td>\n",
       "      <td>NaN</td>\n",
       "    </tr>\n",
       "    <tr>\n",
       "      <td>15274</td>\n",
       "      <td>2020-05-05 18:54:37</td>\n",
       "      <td>finished_stage_1</td>\n",
       "      <td>NaN</td>\n",
       "      <td>70db22b3-c2f4-43bc-94ea-51c8d2904a29</td>\n",
       "      <td>NaN</td>\n",
       "    </tr>\n",
       "    <tr>\n",
       "      <td>16284</td>\n",
       "      <td>2020-05-05 21:27:29</td>\n",
       "      <td>finished_stage_1</td>\n",
       "      <td>NaN</td>\n",
       "      <td>903fc9ef-ba97-4b12-9d5c-ac8d602fbd8b</td>\n",
       "      <td>NaN</td>\n",
       "    </tr>\n",
       "    <tr>\n",
       "      <td>19650</td>\n",
       "      <td>2020-05-06 06:02:22</td>\n",
       "      <td>finished_stage_1</td>\n",
       "      <td>NaN</td>\n",
       "      <td>58e077ba-feb1-4556-a5a0-d96bd04efa39</td>\n",
       "      <td>NaN</td>\n",
       "    </tr>\n",
       "    <tr>\n",
       "      <td>...</td>\n",
       "      <td>...</td>\n",
       "      <td>...</td>\n",
       "      <td>...</td>\n",
       "      <td>...</td>\n",
       "      <td>...</td>\n",
       "    </tr>\n",
       "    <tr>\n",
       "      <td>135632</td>\n",
       "      <td>2020-06-04 15:50:38</td>\n",
       "      <td>finished_stage_1</td>\n",
       "      <td>NaN</td>\n",
       "      <td>22cce310-fe10-41a2-941b-9c3d63327fea</td>\n",
       "      <td>NaN</td>\n",
       "    </tr>\n",
       "    <tr>\n",
       "      <td>135633</td>\n",
       "      <td>2020-06-04 17:56:14</td>\n",
       "      <td>finished_stage_1</td>\n",
       "      <td>NaN</td>\n",
       "      <td>d477dde8-7c22-4f23-9c4f-4ec31a1aa4c8</td>\n",
       "      <td>NaN</td>\n",
       "    </tr>\n",
       "    <tr>\n",
       "      <td>135636</td>\n",
       "      <td>2020-06-05 02:25:12</td>\n",
       "      <td>finished_stage_1</td>\n",
       "      <td>NaN</td>\n",
       "      <td>515c1952-99aa-4bca-a7ea-d0449eb5385a</td>\n",
       "      <td>NaN</td>\n",
       "    </tr>\n",
       "    <tr>\n",
       "      <td>135638</td>\n",
       "      <td>2020-06-05 12:12:27</td>\n",
       "      <td>finished_stage_1</td>\n",
       "      <td>NaN</td>\n",
       "      <td>32572adb-900f-4b5d-a453-1eb1e6d88d8b</td>\n",
       "      <td>NaN</td>\n",
       "    </tr>\n",
       "    <tr>\n",
       "      <td>135639</td>\n",
       "      <td>2020-06-05 12:32:49</td>\n",
       "      <td>finished_stage_1</td>\n",
       "      <td>NaN</td>\n",
       "      <td>f21d179f-1c4b-437e-b9c6-ab1976907195</td>\n",
       "      <td>NaN</td>\n",
       "    </tr>\n",
       "  </tbody>\n",
       "</table>\n",
       "<p>5817 rows × 5 columns</p>\n",
       "</div>"
      ],
      "text/plain": [
       "            event_datetime             event building_type  \\\n",
       "6659   2020-05-04 19:47:29  finished_stage_1           NaN   \n",
       "13134  2020-05-05 13:22:09  finished_stage_1           NaN   \n",
       "15274  2020-05-05 18:54:37  finished_stage_1           NaN   \n",
       "16284  2020-05-05 21:27:29  finished_stage_1           NaN   \n",
       "19650  2020-05-06 06:02:22  finished_stage_1           NaN   \n",
       "...                    ...               ...           ...   \n",
       "135632 2020-06-04 15:50:38  finished_stage_1           NaN   \n",
       "135633 2020-06-04 17:56:14  finished_stage_1           NaN   \n",
       "135636 2020-06-05 02:25:12  finished_stage_1           NaN   \n",
       "135638 2020-06-05 12:12:27  finished_stage_1           NaN   \n",
       "135639 2020-06-05 12:32:49  finished_stage_1           NaN   \n",
       "\n",
       "                                     user_id project_type  \n",
       "6659    ced7b368-818f-48f6-9461-2346de0892c5          NaN  \n",
       "13134   7ef7fc89-2779-46ea-b328-9e5035b83af5          NaN  \n",
       "15274   70db22b3-c2f4-43bc-94ea-51c8d2904a29          NaN  \n",
       "16284   903fc9ef-ba97-4b12-9d5c-ac8d602fbd8b          NaN  \n",
       "19650   58e077ba-feb1-4556-a5a0-d96bd04efa39          NaN  \n",
       "...                                      ...          ...  \n",
       "135632  22cce310-fe10-41a2-941b-9c3d63327fea          NaN  \n",
       "135633  d477dde8-7c22-4f23-9c4f-4ec31a1aa4c8          NaN  \n",
       "135636  515c1952-99aa-4bca-a7ea-d0449eb5385a          NaN  \n",
       "135638  32572adb-900f-4b5d-a453-1eb1e6d88d8b          NaN  \n",
       "135639  f21d179f-1c4b-437e-b9c6-ab1976907195          NaN  \n",
       "\n",
       "[5817 rows x 5 columns]"
      ]
     },
     "execution_count": 10,
     "metadata": {},
     "output_type": "execute_result"
    }
   ],
   "source": [
    "game_actions[game_actions['event'] == 'finished_stage_1']"
   ]
  },
  {
   "cell_type": "code",
   "execution_count": 11,
   "metadata": {},
   "outputs": [
    {
     "data": {
      "text/plain": [
       "7683"
      ]
     },
     "execution_count": 11,
     "metadata": {},
     "output_type": "execute_result"
    }
   ],
   "source": [
    "game_actions['building_type'].isnull().sum()"
   ]
  },
  {
   "cell_type": "code",
   "execution_count": 12,
   "metadata": {},
   "outputs": [
    {
     "data": {
      "text/html": [
       "<div>\n",
       "<style scoped>\n",
       "    .dataframe tbody tr th:only-of-type {\n",
       "        vertical-align: middle;\n",
       "    }\n",
       "\n",
       "    .dataframe tbody tr th {\n",
       "        vertical-align: top;\n",
       "    }\n",
       "\n",
       "    .dataframe thead th {\n",
       "        text-align: right;\n",
       "    }\n",
       "</style>\n",
       "<table border=\"1\" class=\"dataframe\">\n",
       "  <thead>\n",
       "    <tr style=\"text-align: right;\">\n",
       "      <th></th>\n",
       "      <th>event_datetime</th>\n",
       "      <th>event</th>\n",
       "      <th>building_type</th>\n",
       "      <th>user_id</th>\n",
       "      <th>project_type</th>\n",
       "    </tr>\n",
       "  </thead>\n",
       "  <tbody>\n",
       "    <tr>\n",
       "      <td>6659</td>\n",
       "      <td>2020-05-04 19:47:29</td>\n",
       "      <td>finished_stage_1</td>\n",
       "      <td>NaN</td>\n",
       "      <td>ced7b368-818f-48f6-9461-2346de0892c5</td>\n",
       "      <td>NaN</td>\n",
       "    </tr>\n",
       "    <tr>\n",
       "      <td>13134</td>\n",
       "      <td>2020-05-05 13:22:09</td>\n",
       "      <td>finished_stage_1</td>\n",
       "      <td>NaN</td>\n",
       "      <td>7ef7fc89-2779-46ea-b328-9e5035b83af5</td>\n",
       "      <td>NaN</td>\n",
       "    </tr>\n",
       "    <tr>\n",
       "      <td>15274</td>\n",
       "      <td>2020-05-05 18:54:37</td>\n",
       "      <td>finished_stage_1</td>\n",
       "      <td>NaN</td>\n",
       "      <td>70db22b3-c2f4-43bc-94ea-51c8d2904a29</td>\n",
       "      <td>NaN</td>\n",
       "    </tr>\n",
       "    <tr>\n",
       "      <td>16284</td>\n",
       "      <td>2020-05-05 21:27:29</td>\n",
       "      <td>finished_stage_1</td>\n",
       "      <td>NaN</td>\n",
       "      <td>903fc9ef-ba97-4b12-9d5c-ac8d602fbd8b</td>\n",
       "      <td>NaN</td>\n",
       "    </tr>\n",
       "    <tr>\n",
       "      <td>19650</td>\n",
       "      <td>2020-05-06 06:02:22</td>\n",
       "      <td>finished_stage_1</td>\n",
       "      <td>NaN</td>\n",
       "      <td>58e077ba-feb1-4556-a5a0-d96bd04efa39</td>\n",
       "      <td>NaN</td>\n",
       "    </tr>\n",
       "    <tr>\n",
       "      <td>...</td>\n",
       "      <td>...</td>\n",
       "      <td>...</td>\n",
       "      <td>...</td>\n",
       "      <td>...</td>\n",
       "      <td>...</td>\n",
       "    </tr>\n",
       "    <tr>\n",
       "      <td>135632</td>\n",
       "      <td>2020-06-04 15:50:38</td>\n",
       "      <td>finished_stage_1</td>\n",
       "      <td>NaN</td>\n",
       "      <td>22cce310-fe10-41a2-941b-9c3d63327fea</td>\n",
       "      <td>NaN</td>\n",
       "    </tr>\n",
       "    <tr>\n",
       "      <td>135633</td>\n",
       "      <td>2020-06-04 17:56:14</td>\n",
       "      <td>finished_stage_1</td>\n",
       "      <td>NaN</td>\n",
       "      <td>d477dde8-7c22-4f23-9c4f-4ec31a1aa4c8</td>\n",
       "      <td>NaN</td>\n",
       "    </tr>\n",
       "    <tr>\n",
       "      <td>135636</td>\n",
       "      <td>2020-06-05 02:25:12</td>\n",
       "      <td>finished_stage_1</td>\n",
       "      <td>NaN</td>\n",
       "      <td>515c1952-99aa-4bca-a7ea-d0449eb5385a</td>\n",
       "      <td>NaN</td>\n",
       "    </tr>\n",
       "    <tr>\n",
       "      <td>135638</td>\n",
       "      <td>2020-06-05 12:12:27</td>\n",
       "      <td>finished_stage_1</td>\n",
       "      <td>NaN</td>\n",
       "      <td>32572adb-900f-4b5d-a453-1eb1e6d88d8b</td>\n",
       "      <td>NaN</td>\n",
       "    </tr>\n",
       "    <tr>\n",
       "      <td>135639</td>\n",
       "      <td>2020-06-05 12:32:49</td>\n",
       "      <td>finished_stage_1</td>\n",
       "      <td>NaN</td>\n",
       "      <td>f21d179f-1c4b-437e-b9c6-ab1976907195</td>\n",
       "      <td>NaN</td>\n",
       "    </tr>\n",
       "  </tbody>\n",
       "</table>\n",
       "<p>7683 rows × 5 columns</p>\n",
       "</div>"
      ],
      "text/plain": [
       "            event_datetime             event building_type  \\\n",
       "6659   2020-05-04 19:47:29  finished_stage_1           NaN   \n",
       "13134  2020-05-05 13:22:09  finished_stage_1           NaN   \n",
       "15274  2020-05-05 18:54:37  finished_stage_1           NaN   \n",
       "16284  2020-05-05 21:27:29  finished_stage_1           NaN   \n",
       "19650  2020-05-06 06:02:22  finished_stage_1           NaN   \n",
       "...                    ...               ...           ...   \n",
       "135632 2020-06-04 15:50:38  finished_stage_1           NaN   \n",
       "135633 2020-06-04 17:56:14  finished_stage_1           NaN   \n",
       "135636 2020-06-05 02:25:12  finished_stage_1           NaN   \n",
       "135638 2020-06-05 12:12:27  finished_stage_1           NaN   \n",
       "135639 2020-06-05 12:32:49  finished_stage_1           NaN   \n",
       "\n",
       "                                     user_id project_type  \n",
       "6659    ced7b368-818f-48f6-9461-2346de0892c5          NaN  \n",
       "13134   7ef7fc89-2779-46ea-b328-9e5035b83af5          NaN  \n",
       "15274   70db22b3-c2f4-43bc-94ea-51c8d2904a29          NaN  \n",
       "16284   903fc9ef-ba97-4b12-9d5c-ac8d602fbd8b          NaN  \n",
       "19650   58e077ba-feb1-4556-a5a0-d96bd04efa39          NaN  \n",
       "...                                      ...          ...  \n",
       "135632  22cce310-fe10-41a2-941b-9c3d63327fea          NaN  \n",
       "135633  d477dde8-7c22-4f23-9c4f-4ec31a1aa4c8          NaN  \n",
       "135636  515c1952-99aa-4bca-a7ea-d0449eb5385a          NaN  \n",
       "135638  32572adb-900f-4b5d-a453-1eb1e6d88d8b          NaN  \n",
       "135639  f21d179f-1c4b-437e-b9c6-ab1976907195          NaN  \n",
       "\n",
       "[7683 rows x 5 columns]"
      ]
     },
     "execution_count": 12,
     "metadata": {},
     "output_type": "execute_result"
    }
   ],
   "source": [
    "data_1 = game_actions[game_actions['event'] != 'building']\n",
    "data_1"
   ]
  },
  {
   "cell_type": "code",
   "execution_count": 13,
   "metadata": {},
   "outputs": [
    {
     "data": {
      "text/plain": [
       "7683"
      ]
     },
     "execution_count": 13,
     "metadata": {},
     "output_type": "execute_result"
    }
   ],
   "source": [
    "data_1['building_type'].isna().sum()"
   ]
  },
  {
   "cell_type": "markdown",
   "metadata": {},
   "source": [
    "Пропусков в данных нет, т.к. если у нас строится здание, значит проект или завершение уровня не реализовываются, если завершается уровень, то постройка или проект не реализовывается, а также если происходит проект, то отсутствует постройка зданий соотвественно, поэтому мы имеем NaN, удалять или заполнять их не надо."
   ]
  },
  {
   "cell_type": "code",
   "execution_count": 14,
   "metadata": {},
   "outputs": [
    {
     "data": {
      "text/plain": [
       "0"
      ]
     },
     "execution_count": 14,
     "metadata": {},
     "output_type": "execute_result"
    }
   ],
   "source": [
    "ad_costs.duplicated().sum()"
   ]
  },
  {
   "cell_type": "code",
   "execution_count": 15,
   "metadata": {},
   "outputs": [
    {
     "data": {
      "text/plain": [
       "1"
      ]
     },
     "execution_count": 15,
     "metadata": {},
     "output_type": "execute_result"
    }
   ],
   "source": [
    "game_actions.duplicated().sum()"
   ]
  },
  {
   "cell_type": "code",
   "execution_count": 16,
   "metadata": {},
   "outputs": [],
   "source": [
    "game_actions = game_actions.drop_duplicates()"
   ]
  },
  {
   "cell_type": "code",
   "execution_count": 17,
   "metadata": {},
   "outputs": [
    {
     "data": {
      "text/plain": [
       "0"
      ]
     },
     "execution_count": 17,
     "metadata": {},
     "output_type": "execute_result"
    }
   ],
   "source": [
    "user_source.duplicated().sum()"
   ]
  },
  {
   "cell_type": "markdown",
   "metadata": {},
   "source": [
    "### Вывод"
   ]
  },
  {
   "cell_type": "markdown",
   "metadata": {},
   "source": [
    "Поменяли тип данных у столбцов с датой на более корректный. Зафиксировали, что значимых пропусков в таблице game_actions нет, только удалили один дупликат в этой таблице, в остальных дупликаты не найдены. Названия столбцов изначально в нижнем регистре."
   ]
  },
  {
   "cell_type": "markdown",
   "metadata": {},
   "source": [
    "## Иследовательский анализ"
   ]
  },
  {
   "cell_type": "markdown",
   "metadata": {},
   "source": [
    "Узнаем кол-во уникальных пользователей"
   ]
  },
  {
   "cell_type": "code",
   "execution_count": 18,
   "metadata": {},
   "outputs": [
    {
     "name": "stdout",
     "output_type": "stream",
     "text": [
      "Кол-во уникальных пользователей: 13576\n"
     ]
    }
   ],
   "source": [
    "print('Кол-во уникальных пользователей:', len(game_actions['user_id'].unique()))"
   ]
  },
  {
   "cell_type": "markdown",
   "metadata": {},
   "source": [
    "Посмотрим, какое здание строят чаще всего"
   ]
  },
  {
   "cell_type": "code",
   "execution_count": 19,
   "metadata": {},
   "outputs": [
    {
     "data": {
      "text/plain": [
       "spaceport          59325\n",
       "assembly_shop      54494\n",
       "research_center    14137\n",
       "Name: building_type, dtype: int64"
      ]
     },
     "execution_count": 19,
     "metadata": {},
     "output_type": "execute_result"
    }
   ],
   "source": [
    "game_actions['building_type'].value_counts()"
   ]
  },
  {
   "cell_type": "code",
   "execution_count": 20,
   "metadata": {},
   "outputs": [
    {
     "data": {
      "image/png": "[encoded data removed]",
      "text/plain": [
       "<Figure size 576x576 with 1 Axes>"
      ]
     },
     "metadata": {
      "needs_background": "light"
     },
     "output_type": "display_data"
    }
   ],
   "source": [
    "plt.figure(figsize = (8,8))\n",
    "sns.countplot(y='building_type', data=game_actions, order = game_actions['building_type'].value_counts().index)\n",
    "plt.title('Популярность типов зданий для постройки')\n",
    "plt.ylabel('Тип здания')\n",
    "plt.xlabel('Кол-во построенных зданий')\n",
    "plt.show()"
   ]
  },
  {
   "cell_type": "markdown",
   "metadata": {},
   "source": [
    "Узнаем, какое событие происходит чаще всего."
   ]
  },
  {
   "cell_type": "code",
   "execution_count": 21,
   "metadata": {},
   "outputs": [
    {
     "data": {
      "text/plain": [
       "building            127956\n",
       "finished_stage_1      5817\n",
       "project               1866\n",
       "Name: event, dtype: int64"
      ]
     },
     "execution_count": 21,
     "metadata": {},
     "output_type": "execute_result"
    }
   ],
   "source": [
    "game_actions['event'].value_counts()"
   ]
  },
  {
   "cell_type": "code",
   "execution_count": 22,
   "metadata": {},
   "outputs": [
    {
     "data": {
      "text/plain": [
       "ccbc4d2e-7537-43e6-95d4-62382a992914    1\n",
       "69395cef-d81f-49e0-bc5a-f3ea0cf576c0    1\n",
       "7ad2f21e-d9ce-413a-9e8b-2154f4523f02    1\n",
       "f0295077-6728-4f87-98a2-1bfad448745b    1\n",
       "023981cd-dd80-4062-933a-0ef93902bd3d    1\n",
       "                                       ..\n",
       "9c3c77b2-e89e-4741-9736-34f8f3593e36    1\n",
       "d962b58c-b49b-4908-a71d-377d2a4ddce0    1\n",
       "c726bac1-0dc8-41b1-aa15-2582406938c1    1\n",
       "ce6dc590-915f-4890-8b4c-cf3aa8625b38    1\n",
       "0f973f5f-7ca4-4a95-bfc7-d472e9b18e48    1\n",
       "Name: user_id, Length: 5817, dtype: int64"
      ]
     },
     "execution_count": 22,
     "metadata": {},
     "output_type": "execute_result"
    }
   ],
   "source": [
    "gg = game_actions[game_actions['event'] == 'finished_stage_1']\n",
    "gg['user_id'].value_counts()"
   ]
  },
  {
   "cell_type": "markdown",
   "metadata": {},
   "source": [
    "Всего 5817 пользователей закончили 1-ый уровень"
   ]
  },
  {
   "cell_type": "markdown",
   "metadata": {},
   "source": [
    "Рассмотрим распределение совершенных событий пользователями по времени"
   ]
  },
  {
   "cell_type": "code",
   "execution_count": 23,
   "metadata": {},
   "outputs": [
    {
     "data": {
      "text/plain": [
       "Timestamp('2020-05-04 00:00:01')"
      ]
     },
     "execution_count": 23,
     "metadata": {},
     "output_type": "execute_result"
    }
   ],
   "source": [
    "game_actions['event_datetime'].min()"
   ]
  },
  {
   "cell_type": "code",
   "execution_count": 24,
   "metadata": {},
   "outputs": [
    {
     "data": {
      "text/plain": [
       "Timestamp('2020-06-05 12:32:49')"
      ]
     },
     "execution_count": 24,
     "metadata": {},
     "output_type": "execute_result"
    }
   ],
   "source": [
    "game_actions['event_datetime'].max()"
   ]
  },
  {
   "cell_type": "code",
   "execution_count": 25,
   "metadata": {},
   "outputs": [
    {
     "name": "stderr",
     "output_type": "stream",
     "text": [
      "/opt/conda/lib/python3.7/site-packages/pandas/plotting/_matplotlib/converter.py:103: FutureWarning: Using an implicitly registered datetime converter for a matplotlib plotting method. The converter was registered by pandas on import. Future versions of pandas will require you to explicitly register matplotlib converters.\n",
      "\n",
      "To register the converters:\n",
      "\t>>> from pandas.plotting import register_matplotlib_converters\n",
      "\t>>> register_matplotlib_converters()\n",
      "  warnings.warn(msg, FutureWarning)\n"
     ]
    },
    {
     "data": {
      "image/png": "[encoded data removed]",
      "text/plain": [
       "<Figure size 864x432 with 1 Axes>"
      ]
     },
     "metadata": {
      "needs_background": "light"
     },
     "output_type": "display_data"
    }
   ],
   "source": [
    "plt.figure(figsize = (12,6))\n",
    "plt.title('Распределение событий по времени')\n",
    "plt.ylabel('Кол-во построенных зданий')\n",
    "plt.xlabel('Дата')\n",
    "game_actions['event_datetime'].hist(bins = 100, ls='dotted', alpha = 0.5, lw=5)\n",
    "plt.show()"
   ]
  },
  {
   "cell_type": "markdown",
   "metadata": {},
   "source": [
    "Можно сделать вывод, что пользователи активно играют в игру, примерно 5 дней, т.к. нам известно, что в данной когорте люди начались пользоваться приложением с 4 мая по 10 мая включительно."
   ]
  },
  {
   "cell_type": "markdown",
   "metadata": {},
   "source": [
    "Узнаем, какое условие победы реализовывается чаще для завершения 1-ого уровня."
   ]
  },
  {
   "cell_type": "code",
   "execution_count": 26,
   "metadata": {},
   "outputs": [
    {
     "name": "stdout",
     "output_type": "stream",
     "text": [
      "Закончили 1-ый уровень, реализовав проект: 1866\n"
     ]
    }
   ],
   "source": [
    "print('Закончили 1-ый уровень, реализовав проект:', game_actions['project_type'].count())"
   ]
  },
  {
   "cell_type": "code",
   "execution_count": 27,
   "metadata": {},
   "outputs": [],
   "source": [
    "final = game_actions[game_actions['event'] == 'finished_stage_1']"
   ]
  },
  {
   "cell_type": "code",
   "execution_count": 28,
   "metadata": {},
   "outputs": [
    {
     "name": "stdout",
     "output_type": "stream",
     "text": [
      "Закончили 1-ый уровень победой над врагом: 3951\n"
     ]
    }
   ],
   "source": [
    "print('Закончили 1-ый уровень победой над врагом:',\n",
    "      final['event'].count() - game_actions['project_type'].count())"
   ]
  },
  {
   "cell_type": "markdown",
   "metadata": {},
   "source": [
    "Проанализируем влияние событий на совершение целевого события, пусть целевое событие это проект."
   ]
  },
  {
   "cell_type": "code",
   "execution_count": 29,
   "metadata": {},
   "outputs": [
    {
     "data": {
      "text/html": [
       "<div>\n",
       "<style scoped>\n",
       "    .dataframe tbody tr th:only-of-type {\n",
       "        vertical-align: middle;\n",
       "    }\n",
       "\n",
       "    .dataframe tbody tr th {\n",
       "        vertical-align: top;\n",
       "    }\n",
       "\n",
       "    .dataframe thead th {\n",
       "        text-align: right;\n",
       "    }\n",
       "</style>\n",
       "<table border=\"1\" class=\"dataframe\">\n",
       "  <thead>\n",
       "    <tr style=\"text-align: right;\">\n",
       "      <th></th>\n",
       "      <th>event_datetime</th>\n",
       "      <th>event</th>\n",
       "      <th>building_type</th>\n",
       "      <th>user_id</th>\n",
       "      <th>project_type</th>\n",
       "    </tr>\n",
       "  </thead>\n",
       "  <tbody>\n",
       "    <tr>\n",
       "      <td>47121</td>\n",
       "      <td>2020-05-08 18:10:25</td>\n",
       "      <td>project</td>\n",
       "      <td>NaN</td>\n",
       "      <td>e3c66498-9d45-4000-9392-f81e6796e7da</td>\n",
       "      <td>satellite_orbital_assembly</td>\n",
       "    </tr>\n",
       "    <tr>\n",
       "      <td>57398</td>\n",
       "      <td>2020-05-09 13:49:11</td>\n",
       "      <td>project</td>\n",
       "      <td>NaN</td>\n",
       "      <td>936e7af6-8338-4703-a1df-fc6c3f5b8e34</td>\n",
       "      <td>satellite_orbital_assembly</td>\n",
       "    </tr>\n",
       "    <tr>\n",
       "      <td>58797</td>\n",
       "      <td>2020-05-09 16:19:33</td>\n",
       "      <td>project</td>\n",
       "      <td>NaN</td>\n",
       "      <td>a4491c86-c498-4f74-a56e-65c136d0e9a1</td>\n",
       "      <td>satellite_orbital_assembly</td>\n",
       "    </tr>\n",
       "    <tr>\n",
       "      <td>61174</td>\n",
       "      <td>2020-05-09 20:29:01</td>\n",
       "      <td>project</td>\n",
       "      <td>NaN</td>\n",
       "      <td>85d9e675-562b-4329-8bbd-14d3b39096be</td>\n",
       "      <td>satellite_orbital_assembly</td>\n",
       "    </tr>\n",
       "    <tr>\n",
       "      <td>63770</td>\n",
       "      <td>2020-05-10 00:57:47</td>\n",
       "      <td>project</td>\n",
       "      <td>NaN</td>\n",
       "      <td>1889ca71-3c57-4e61-9ea6-a711971bbf0a</td>\n",
       "      <td>satellite_orbital_assembly</td>\n",
       "    </tr>\n",
       "    <tr>\n",
       "      <td>...</td>\n",
       "      <td>...</td>\n",
       "      <td>...</td>\n",
       "      <td>...</td>\n",
       "      <td>...</td>\n",
       "      <td>...</td>\n",
       "    </tr>\n",
       "    <tr>\n",
       "      <td>135602</td>\n",
       "      <td>2020-06-02 03:04:42</td>\n",
       "      <td>project</td>\n",
       "      <td>NaN</td>\n",
       "      <td>9d98001c-7e14-40d7-896e-46b3047365fd</td>\n",
       "      <td>satellite_orbital_assembly</td>\n",
       "    </tr>\n",
       "    <tr>\n",
       "      <td>135603</td>\n",
       "      <td>2020-06-02 06:21:03</td>\n",
       "      <td>project</td>\n",
       "      <td>NaN</td>\n",
       "      <td>df4a1e13-eba9-4928-a7cf-ee303d6f80f9</td>\n",
       "      <td>satellite_orbital_assembly</td>\n",
       "    </tr>\n",
       "    <tr>\n",
       "      <td>135609</td>\n",
       "      <td>2020-06-02 17:17:28</td>\n",
       "      <td>project</td>\n",
       "      <td>NaN</td>\n",
       "      <td>82e46f34-e243-4728-8e20-2e171fc33ea4</td>\n",
       "      <td>satellite_orbital_assembly</td>\n",
       "    </tr>\n",
       "    <tr>\n",
       "      <td>135617</td>\n",
       "      <td>2020-06-03 09:46:04</td>\n",
       "      <td>project</td>\n",
       "      <td>NaN</td>\n",
       "      <td>fe032991-71e0-48c5-889f-4c3805ba4c9b</td>\n",
       "      <td>satellite_orbital_assembly</td>\n",
       "    </tr>\n",
       "    <tr>\n",
       "      <td>135630</td>\n",
       "      <td>2020-06-04 08:29:42</td>\n",
       "      <td>project</td>\n",
       "      <td>NaN</td>\n",
       "      <td>d477dde8-7c22-4f23-9c4f-4ec31a1aa4c8</td>\n",
       "      <td>satellite_orbital_assembly</td>\n",
       "    </tr>\n",
       "  </tbody>\n",
       "</table>\n",
       "<p>1866 rows × 5 columns</p>\n",
       "</div>"
      ],
      "text/plain": [
       "            event_datetime    event building_type  \\\n",
       "47121  2020-05-08 18:10:25  project           NaN   \n",
       "57398  2020-05-09 13:49:11  project           NaN   \n",
       "58797  2020-05-09 16:19:33  project           NaN   \n",
       "61174  2020-05-09 20:29:01  project           NaN   \n",
       "63770  2020-05-10 00:57:47  project           NaN   \n",
       "...                    ...      ...           ...   \n",
       "135602 2020-06-02 03:04:42  project           NaN   \n",
       "135603 2020-06-02 06:21:03  project           NaN   \n",
       "135609 2020-06-02 17:17:28  project           NaN   \n",
       "135617 2020-06-03 09:46:04  project           NaN   \n",
       "135630 2020-06-04 08:29:42  project           NaN   \n",
       "\n",
       "                                     user_id                project_type  \n",
       "47121   e3c66498-9d45-4000-9392-f81e6796e7da  satellite_orbital_assembly  \n",
       "57398   936e7af6-8338-4703-a1df-fc6c3f5b8e34  satellite_orbital_assembly  \n",
       "58797   a4491c86-c498-4f74-a56e-65c136d0e9a1  satellite_orbital_assembly  \n",
       "61174   85d9e675-562b-4329-8bbd-14d3b39096be  satellite_orbital_assembly  \n",
       "63770   1889ca71-3c57-4e61-9ea6-a711971bbf0a  satellite_orbital_assembly  \n",
       "...                                      ...                         ...  \n",
       "135602  9d98001c-7e14-40d7-896e-46b3047365fd  satellite_orbital_assembly  \n",
       "135603  df4a1e13-eba9-4928-a7cf-ee303d6f80f9  satellite_orbital_assembly  \n",
       "135609  82e46f34-e243-4728-8e20-2e171fc33ea4  satellite_orbital_assembly  \n",
       "135617  fe032991-71e0-48c5-889f-4c3805ba4c9b  satellite_orbital_assembly  \n",
       "135630  d477dde8-7c22-4f23-9c4f-4ec31a1aa4c8  satellite_orbital_assembly  \n",
       "\n",
       "[1866 rows x 5 columns]"
      ]
     },
     "execution_count": 29,
     "metadata": {},
     "output_type": "execute_result"
    }
   ],
   "source": [
    "project_done = game_actions[game_actions['event'] == 'project']\n",
    "project_done"
   ]
  },
  {
   "cell_type": "code",
   "execution_count": 30,
   "metadata": {},
   "outputs": [
    {
     "data": {
      "text/plain": [
       "1866"
      ]
     },
     "execution_count": 30,
     "metadata": {},
     "output_type": "execute_result"
    }
   ],
   "source": [
    "len(project_done['user_id'].unique())"
   ]
  },
  {
   "cell_type": "markdown",
   "metadata": {},
   "source": [
    "Рассмотрим активность пользователей, которые завершили проект, след-но прошли 1-ый уровень"
   ]
  },
  {
   "cell_type": "code",
   "execution_count": 31,
   "metadata": {},
   "outputs": [],
   "source": [
    "users = project_done['user_id'].unique()"
   ]
  },
  {
   "cell_type": "code",
   "execution_count": 32,
   "metadata": {},
   "outputs": [
    {
     "data": {
      "text/html": [
       "<div>\n",
       "<style scoped>\n",
       "    .dataframe tbody tr th:only-of-type {\n",
       "        vertical-align: middle;\n",
       "    }\n",
       "\n",
       "    .dataframe tbody tr th {\n",
       "        vertical-align: top;\n",
       "    }\n",
       "\n",
       "    .dataframe thead th {\n",
       "        text-align: right;\n",
       "    }\n",
       "</style>\n",
       "<table border=\"1\" class=\"dataframe\">\n",
       "  <thead>\n",
       "    <tr style=\"text-align: right;\">\n",
       "      <th></th>\n",
       "      <th>event_datetime</th>\n",
       "      <th>event</th>\n",
       "      <th>building_type</th>\n",
       "      <th>user_id</th>\n",
       "      <th>project_type</th>\n",
       "    </tr>\n",
       "  </thead>\n",
       "  <tbody>\n",
       "    <tr>\n",
       "      <td>1</td>\n",
       "      <td>2020-05-04 00:00:03</td>\n",
       "      <td>building</td>\n",
       "      <td>assembly_shop</td>\n",
       "      <td>c07b1c10-f477-44dc-81dc-ec82254b1347</td>\n",
       "      <td>NaN</td>\n",
       "    </tr>\n",
       "    <tr>\n",
       "      <td>8</td>\n",
       "      <td>2020-05-04 00:00:44</td>\n",
       "      <td>building</td>\n",
       "      <td>assembly_shop</td>\n",
       "      <td>65a92713-5969-48b1-8945-bfefa5063887</td>\n",
       "      <td>NaN</td>\n",
       "    </tr>\n",
       "    <tr>\n",
       "      <td>9</td>\n",
       "      <td>2020-05-04 00:01:33</td>\n",
       "      <td>building</td>\n",
       "      <td>assembly_shop</td>\n",
       "      <td>fa352362-d258-472c-b295-2796ccc39fa3</td>\n",
       "      <td>NaN</td>\n",
       "    </tr>\n",
       "    <tr>\n",
       "      <td>13</td>\n",
       "      <td>2020-05-04 00:02:56</td>\n",
       "      <td>building</td>\n",
       "      <td>assembly_shop</td>\n",
       "      <td>7b3b6554-7949-4065-9808-d6c79bdc2f58</td>\n",
       "      <td>NaN</td>\n",
       "    </tr>\n",
       "    <tr>\n",
       "      <td>20</td>\n",
       "      <td>2020-05-04 00:03:46</td>\n",
       "      <td>building</td>\n",
       "      <td>assembly_shop</td>\n",
       "      <td>b374304d-2f74-4cc1-a4e2-500da44a06c7</td>\n",
       "      <td>NaN</td>\n",
       "    </tr>\n",
       "    <tr>\n",
       "      <td>...</td>\n",
       "      <td>...</td>\n",
       "      <td>...</td>\n",
       "      <td>...</td>\n",
       "      <td>...</td>\n",
       "      <td>...</td>\n",
       "    </tr>\n",
       "    <tr>\n",
       "      <td>135620</td>\n",
       "      <td>2020-06-03 14:41:22</td>\n",
       "      <td>finished_stage_1</td>\n",
       "      <td>NaN</td>\n",
       "      <td>82e46f34-e243-4728-8e20-2e171fc33ea4</td>\n",
       "      <td>NaN</td>\n",
       "    </tr>\n",
       "    <tr>\n",
       "      <td>135627</td>\n",
       "      <td>2020-06-04 05:18:54</td>\n",
       "      <td>building</td>\n",
       "      <td>research_center</td>\n",
       "      <td>d477dde8-7c22-4f23-9c4f-4ec31a1aa4c8</td>\n",
       "      <td>NaN</td>\n",
       "    </tr>\n",
       "    <tr>\n",
       "      <td>135629</td>\n",
       "      <td>2020-06-04 08:03:27</td>\n",
       "      <td>finished_stage_1</td>\n",
       "      <td>NaN</td>\n",
       "      <td>fe032991-71e0-48c5-889f-4c3805ba4c9b</td>\n",
       "      <td>NaN</td>\n",
       "    </tr>\n",
       "    <tr>\n",
       "      <td>135630</td>\n",
       "      <td>2020-06-04 08:29:42</td>\n",
       "      <td>project</td>\n",
       "      <td>NaN</td>\n",
       "      <td>d477dde8-7c22-4f23-9c4f-4ec31a1aa4c8</td>\n",
       "      <td>satellite_orbital_assembly</td>\n",
       "    </tr>\n",
       "    <tr>\n",
       "      <td>135633</td>\n",
       "      <td>2020-06-04 17:56:14</td>\n",
       "      <td>finished_stage_1</td>\n",
       "      <td>NaN</td>\n",
       "      <td>d477dde8-7c22-4f23-9c4f-4ec31a1aa4c8</td>\n",
       "      <td>NaN</td>\n",
       "    </tr>\n",
       "  </tbody>\n",
       "</table>\n",
       "<p>27333 rows × 5 columns</p>\n",
       "</div>"
      ],
      "text/plain": [
       "            event_datetime             event    building_type  \\\n",
       "1      2020-05-04 00:00:03          building    assembly_shop   \n",
       "8      2020-05-04 00:00:44          building    assembly_shop   \n",
       "9      2020-05-04 00:01:33          building    assembly_shop   \n",
       "13     2020-05-04 00:02:56          building    assembly_shop   \n",
       "20     2020-05-04 00:03:46          building    assembly_shop   \n",
       "...                    ...               ...              ...   \n",
       "135620 2020-06-03 14:41:22  finished_stage_1              NaN   \n",
       "135627 2020-06-04 05:18:54          building  research_center   \n",
       "135629 2020-06-04 08:03:27  finished_stage_1              NaN   \n",
       "135630 2020-06-04 08:29:42           project              NaN   \n",
       "135633 2020-06-04 17:56:14  finished_stage_1              NaN   \n",
       "\n",
       "                                     user_id                project_type  \n",
       "1       c07b1c10-f477-44dc-81dc-ec82254b1347                         NaN  \n",
       "8       65a92713-5969-48b1-8945-bfefa5063887                         NaN  \n",
       "9       fa352362-d258-472c-b295-2796ccc39fa3                         NaN  \n",
       "13      7b3b6554-7949-4065-9808-d6c79bdc2f58                         NaN  \n",
       "20      b374304d-2f74-4cc1-a4e2-500da44a06c7                         NaN  \n",
       "...                                      ...                         ...  \n",
       "135620  82e46f34-e243-4728-8e20-2e171fc33ea4                         NaN  \n",
       "135627  d477dde8-7c22-4f23-9c4f-4ec31a1aa4c8                         NaN  \n",
       "135629  fe032991-71e0-48c5-889f-4c3805ba4c9b                         NaN  \n",
       "135630  d477dde8-7c22-4f23-9c4f-4ec31a1aa4c8  satellite_orbital_assembly  \n",
       "135633  d477dde8-7c22-4f23-9c4f-4ec31a1aa4c8                         NaN  \n",
       "\n",
       "[27333 rows x 5 columns]"
      ]
     },
     "execution_count": 32,
     "metadata": {},
     "output_type": "execute_result"
    }
   ],
   "source": [
    "gg = game_actions[game_actions['user_id'].isin(users)]\n",
    "gg"
   ]
  },
  {
   "cell_type": "code",
   "execution_count": 33,
   "metadata": {},
   "outputs": [
    {
     "data": {
      "text/plain": [
       "spaceport          10788\n",
       "assembly_shop       9116\n",
       "research_center     3697\n",
       "Name: building_type, dtype: int64"
      ]
     },
     "execution_count": 33,
     "metadata": {},
     "output_type": "execute_result"
    }
   ],
   "source": [
    "gg['building_type'].value_counts()"
   ]
  },
  {
   "cell_type": "code",
   "execution_count": 34,
   "metadata": {},
   "outputs": [],
   "source": [
    "building1 = gg['building_type'].unique()"
   ]
  },
  {
   "cell_type": "code",
   "execution_count": 35,
   "metadata": {},
   "outputs": [
    {
     "name": "stdout",
     "output_type": "stream",
     "text": [
      "assembly_shop : 1866\n",
      "spaceport : 1866\n",
      "research_center : 1866\n",
      "nan : 0\n"
     ]
    }
   ],
   "source": [
    "for i in building1:\n",
    "    print(i,':', len(gg[gg['building_type'] == i]['user_id'].unique()))"
   ]
  },
  {
   "cell_type": "code",
   "execution_count": 36,
   "metadata": {},
   "outputs": [],
   "source": [
    "building = game_actions['building_type'].unique()"
   ]
  },
  {
   "cell_type": "code",
   "execution_count": 37,
   "metadata": {},
   "outputs": [
    {
     "name": "stdout",
     "output_type": "stream",
     "text": [
      "assembly_shop : 13576\n",
      "spaceport : 13231\n",
      "nan : 0\n",
      "research_center : 7671\n"
     ]
    }
   ],
   "source": [
    "for i in building:\n",
    "    print(i,':', len(game_actions[game_actions['building_type'] == i]['user_id'].unique()))"
   ]
  },
  {
   "cell_type": "code",
   "execution_count": 38,
   "metadata": {},
   "outputs": [
    {
     "data": {
      "text/plain": [
       "building_type\n",
       "assembly_shop      13576\n",
       "research_center     7671\n",
       "spaceport          13231\n",
       "Name: user_id, dtype: int64"
      ]
     },
     "execution_count": 38,
     "metadata": {},
     "output_type": "execute_result"
    }
   ],
   "source": [
    "game_actions.groupby('building_type')['user_id'].nunique()"
   ]
  },
  {
   "cell_type": "markdown",
   "metadata": {},
   "source": [
    "Напишем функцию для \"конверсии\" построек."
   ]
  },
  {
   "cell_type": "code",
   "execution_count": 39,
   "metadata": {},
   "outputs": [],
   "source": [
    "def event(game_actions):\n",
    "\n",
    "    building_type = game_actions.pivot_table(index = 'building_type', values = 'user_id', aggfunc = 'count')\\\n",
    "    .sort_values(by='user_id', ascending=False).reset_index()\n",
    "\n",
    "    print(building_type)\n",
    "    print('Суммарное количество пользователей:', len(game_actions['user_id'].unique()))\n",
    "    name_list = building_type['building_type'].unique()\n",
    "    a = [] \n",
    "    for i in range (len(building)): #количество пользователей\n",
    "        a.append(len(game_actions[game_actions['building_type'] == building[i]]['user_id'].unique()))\n",
    "        print('Количество пользователей, которые построили', building[i],':', len(game_actions[game_actions['building_type']\n",
    "                                                                               == building[i]]['user_id'].unique()))\n",
    "\n",
    "    for i in range (len(building)): #доля пользователей\n",
    "        print('Доля пользователей которые построили', building[i],':', round(len(game_actions[game_actions['building_type'] \n",
    "                                                                       == building[i]]['user_id'].unique()) /\\\n",
    "                                           len(game_actions['user_id'].unique()) * 100, 2), '%')"
   ]
  },
  {
   "cell_type": "code",
   "execution_count": 40,
   "metadata": {},
   "outputs": [
    {
     "name": "stdout",
     "output_type": "stream",
     "text": [
      "     building_type  user_id\n",
      "0        spaceport    59325\n",
      "1    assembly_shop    54494\n",
      "2  research_center    14137\n",
      "Суммарное количество пользователей: 13576\n",
      "Количество пользователей, которые построили assembly_shop : 13576\n",
      "Количество пользователей, которые построили spaceport : 13231\n",
      "Количество пользователей, которые построили nan : 0\n",
      "Количество пользователей, которые построили research_center : 7671\n",
      "Доля пользователей которые построили assembly_shop : 100.0 %\n",
      "Доля пользователей которые построили spaceport : 97.46 %\n",
      "Доля пользователей которые построили nan : 0.0 %\n",
      "Доля пользователей которые построили research_center : 56.5 %\n"
     ]
    }
   ],
   "source": [
    "event(game_actions)"
   ]
  },
  {
   "cell_type": "markdown",
   "metadata": {},
   "source": [
    "Можно сделать вывод, чтобы завершить проект, нужно как минимум построить 1 здание каждого типа."
   ]
  },
  {
   "cell_type": "markdown",
   "metadata": {},
   "source": [
    "### Вывод"
   ]
  },
  {
   "cell_type": "markdown",
   "metadata": {},
   "source": [
    "В данном этапе мы узнали, что всего уникальных пользователей 13576. Чаще всего пользователи строят здание spaceport (59325), рядом с ним assembly_shop (54494) и реже всего research_center (14137). 5817 пользователей закончили успешно 1-ый уровень, причем 3951 пользователь закончил, победив врага, а 1866 пользователей закончили уровень, завершив проект. Также рассмотрели на графике распределение событий по времени и сделали вывод, что пользователи активно играют в игру, примерно 5 дней, т.к. нам известно, что в данной когорте люди начали пользоваться приложением с 4 мая по 10 мая включительно. А также определили, что каждый игрок, который закончил уровень, завершив проект, как минимум построил одно здания каждого типа, а самое популярное здание среди этих пользователей оказался spaceport (10788). Если рассмотривать внедрения рекламы, то каждый пользователь построил хоть раз здание assembly_shop, но чаще всего строился spaceport, только 56.5% пользователей построили research_center. Если мы рассматриваем максимальную прибыль, не учитывая насколько долго останется пользователь в нашем приложении, то логично вставить рекламу для построек assembly_shop и spaceport. Но если опираться на фактор удержания, чтобы игрок успел погрузиться в игру, то можно рекламу оставить для построек research_center, а также рассмотреть частоту показа рекламы, например, для каждого 2-ого spaceport показывать рекламу, чтобы она сильно не надоедала пользователям."
   ]
  },
  {
   "cell_type": "markdown",
   "metadata": {},
   "source": [
    "## Работа с данными по маркетингу"
   ]
  },
  {
   "cell_type": "markdown",
   "metadata": {},
   "source": [
    "Посмотрим, сколько зданий построили пользователи относительно источников, с которых они перешли."
   ]
  },
  {
   "cell_type": "code",
   "execution_count": 41,
   "metadata": {},
   "outputs": [
    {
     "data": {
      "text/plain": [
       "yandex_direct              4817\n",
       "instagram_new_adverts      3347\n",
       "facebook_ads               2726\n",
       "youtube_channel_reklama    2686\n",
       "Name: source, dtype: int64"
      ]
     },
     "execution_count": 41,
     "metadata": {},
     "output_type": "execute_result"
    }
   ],
   "source": [
    "user_source['source'].value_counts()"
   ]
  },
  {
   "cell_type": "code",
   "execution_count": 42,
   "metadata": {},
   "outputs": [
    {
     "data": {
      "text/html": [
       "<div>\n",
       "<style scoped>\n",
       "    .dataframe tbody tr th:only-of-type {\n",
       "        vertical-align: middle;\n",
       "    }\n",
       "\n",
       "    .dataframe tbody tr th {\n",
       "        vertical-align: top;\n",
       "    }\n",
       "\n",
       "    .dataframe thead th {\n",
       "        text-align: right;\n",
       "    }\n",
       "</style>\n",
       "<table border=\"1\" class=\"dataframe\">\n",
       "  <thead>\n",
       "    <tr style=\"text-align: right;\">\n",
       "      <th></th>\n",
       "      <th>event_datetime</th>\n",
       "      <th>event</th>\n",
       "      <th>building_type</th>\n",
       "      <th>user_id</th>\n",
       "      <th>project_type</th>\n",
       "      <th>source</th>\n",
       "    </tr>\n",
       "  </thead>\n",
       "  <tbody>\n",
       "    <tr>\n",
       "      <td>0</td>\n",
       "      <td>2020-05-04 00:00:01</td>\n",
       "      <td>building</td>\n",
       "      <td>assembly_shop</td>\n",
       "      <td>55e92310-cb8e-4754-b622-597e124b03de</td>\n",
       "      <td>NaN</td>\n",
       "      <td>youtube_channel_reklama</td>\n",
       "    </tr>\n",
       "    <tr>\n",
       "      <td>1</td>\n",
       "      <td>2020-05-05 05:20:15</td>\n",
       "      <td>building</td>\n",
       "      <td>assembly_shop</td>\n",
       "      <td>55e92310-cb8e-4754-b622-597e124b03de</td>\n",
       "      <td>NaN</td>\n",
       "      <td>youtube_channel_reklama</td>\n",
       "    </tr>\n",
       "    <tr>\n",
       "      <td>2</td>\n",
       "      <td>2020-05-05 19:24:02</td>\n",
       "      <td>building</td>\n",
       "      <td>assembly_shop</td>\n",
       "      <td>55e92310-cb8e-4754-b622-597e124b03de</td>\n",
       "      <td>NaN</td>\n",
       "      <td>youtube_channel_reklama</td>\n",
       "    </tr>\n",
       "    <tr>\n",
       "      <td>3</td>\n",
       "      <td>2020-05-05 20:59:19</td>\n",
       "      <td>building</td>\n",
       "      <td>assembly_shop</td>\n",
       "      <td>55e92310-cb8e-4754-b622-597e124b03de</td>\n",
       "      <td>NaN</td>\n",
       "      <td>youtube_channel_reklama</td>\n",
       "    </tr>\n",
       "    <tr>\n",
       "      <td>4</td>\n",
       "      <td>2020-05-06 00:52:56</td>\n",
       "      <td>building</td>\n",
       "      <td>assembly_shop</td>\n",
       "      <td>55e92310-cb8e-4754-b622-597e124b03de</td>\n",
       "      <td>NaN</td>\n",
       "      <td>youtube_channel_reklama</td>\n",
       "    </tr>\n",
       "    <tr>\n",
       "      <td>...</td>\n",
       "      <td>...</td>\n",
       "      <td>...</td>\n",
       "      <td>...</td>\n",
       "      <td>...</td>\n",
       "      <td>...</td>\n",
       "      <td>...</td>\n",
       "    </tr>\n",
       "    <tr>\n",
       "      <td>135634</td>\n",
       "      <td>2020-05-13 23:56:39</td>\n",
       "      <td>building</td>\n",
       "      <td>spaceport</td>\n",
       "      <td>cafd1b8b-507b-49ae-abf0-89fe863a8b03</td>\n",
       "      <td>NaN</td>\n",
       "      <td>facebook_ads</td>\n",
       "    </tr>\n",
       "    <tr>\n",
       "      <td>135635</td>\n",
       "      <td>2020-05-18 00:23:28</td>\n",
       "      <td>building</td>\n",
       "      <td>spaceport</td>\n",
       "      <td>cafd1b8b-507b-49ae-abf0-89fe863a8b03</td>\n",
       "      <td>NaN</td>\n",
       "      <td>facebook_ads</td>\n",
       "    </tr>\n",
       "    <tr>\n",
       "      <td>135636</td>\n",
       "      <td>2020-05-10 23:59:52</td>\n",
       "      <td>building</td>\n",
       "      <td>assembly_shop</td>\n",
       "      <td>bdc53e19-462a-4dc3-8b55-b4a34278af6a</td>\n",
       "      <td>NaN</td>\n",
       "      <td>youtube_channel_reklama</td>\n",
       "    </tr>\n",
       "    <tr>\n",
       "      <td>135637</td>\n",
       "      <td>2020-05-13 08:11:19</td>\n",
       "      <td>building</td>\n",
       "      <td>spaceport</td>\n",
       "      <td>bdc53e19-462a-4dc3-8b55-b4a34278af6a</td>\n",
       "      <td>NaN</td>\n",
       "      <td>youtube_channel_reklama</td>\n",
       "    </tr>\n",
       "    <tr>\n",
       "      <td>135638</td>\n",
       "      <td>2020-05-18 11:11:11</td>\n",
       "      <td>building</td>\n",
       "      <td>spaceport</td>\n",
       "      <td>bdc53e19-462a-4dc3-8b55-b4a34278af6a</td>\n",
       "      <td>NaN</td>\n",
       "      <td>youtube_channel_reklama</td>\n",
       "    </tr>\n",
       "  </tbody>\n",
       "</table>\n",
       "<p>135639 rows × 6 columns</p>\n",
       "</div>"
      ],
      "text/plain": [
       "            event_datetime     event  building_type  \\\n",
       "0      2020-05-04 00:00:01  building  assembly_shop   \n",
       "1      2020-05-05 05:20:15  building  assembly_shop   \n",
       "2      2020-05-05 19:24:02  building  assembly_shop   \n",
       "3      2020-05-05 20:59:19  building  assembly_shop   \n",
       "4      2020-05-06 00:52:56  building  assembly_shop   \n",
       "...                    ...       ...            ...   \n",
       "135634 2020-05-13 23:56:39  building      spaceport   \n",
       "135635 2020-05-18 00:23:28  building      spaceport   \n",
       "135636 2020-05-10 23:59:52  building  assembly_shop   \n",
       "135637 2020-05-13 08:11:19  building      spaceport   \n",
       "135638 2020-05-18 11:11:11  building      spaceport   \n",
       "\n",
       "                                     user_id project_type  \\\n",
       "0       55e92310-cb8e-4754-b622-597e124b03de          NaN   \n",
       "1       55e92310-cb8e-4754-b622-597e124b03de          NaN   \n",
       "2       55e92310-cb8e-4754-b622-597e124b03de          NaN   \n",
       "3       55e92310-cb8e-4754-b622-597e124b03de          NaN   \n",
       "4       55e92310-cb8e-4754-b622-597e124b03de          NaN   \n",
       "...                                      ...          ...   \n",
       "135634  cafd1b8b-507b-49ae-abf0-89fe863a8b03          NaN   \n",
       "135635  cafd1b8b-507b-49ae-abf0-89fe863a8b03          NaN   \n",
       "135636  bdc53e19-462a-4dc3-8b55-b4a34278af6a          NaN   \n",
       "135637  bdc53e19-462a-4dc3-8b55-b4a34278af6a          NaN   \n",
       "135638  bdc53e19-462a-4dc3-8b55-b4a34278af6a          NaN   \n",
       "\n",
       "                         source  \n",
       "0       youtube_channel_reklama  \n",
       "1       youtube_channel_reklama  \n",
       "2       youtube_channel_reklama  \n",
       "3       youtube_channel_reklama  \n",
       "4       youtube_channel_reklama  \n",
       "...                         ...  \n",
       "135634             facebook_ads  \n",
       "135635             facebook_ads  \n",
       "135636  youtube_channel_reklama  \n",
       "135637  youtube_channel_reklama  \n",
       "135638  youtube_channel_reklama  \n",
       "\n",
       "[135639 rows x 6 columns]"
      ]
     },
     "execution_count": 42,
     "metadata": {},
     "output_type": "execute_result"
    }
   ],
   "source": [
    "#Соединим две таблицы\n",
    "data = game_actions.merge(user_source, on = 'user_id')\n",
    "data"
   ]
  },
  {
   "cell_type": "code",
   "execution_count": 43,
   "metadata": {},
   "outputs": [
    {
     "data": {
      "text/html": [
       "<div>\n",
       "<style scoped>\n",
       "    .dataframe tbody tr th:only-of-type {\n",
       "        vertical-align: middle;\n",
       "    }\n",
       "\n",
       "    .dataframe tbody tr th {\n",
       "        vertical-align: top;\n",
       "    }\n",
       "\n",
       "    .dataframe thead th {\n",
       "        text-align: right;\n",
       "    }\n",
       "</style>\n",
       "<table border=\"1\" class=\"dataframe\">\n",
       "  <thead>\n",
       "    <tr style=\"text-align: right;\">\n",
       "      <th></th>\n",
       "      <th>building_type</th>\n",
       "    </tr>\n",
       "    <tr>\n",
       "      <th>source</th>\n",
       "      <th></th>\n",
       "    </tr>\n",
       "  </thead>\n",
       "  <tbody>\n",
       "    <tr>\n",
       "      <td>facebook_ads</td>\n",
       "      <td>26131</td>\n",
       "    </tr>\n",
       "    <tr>\n",
       "      <td>instagram_new_adverts</td>\n",
       "      <td>31815</td>\n",
       "    </tr>\n",
       "    <tr>\n",
       "      <td>yandex_direct</td>\n",
       "      <td>45032</td>\n",
       "    </tr>\n",
       "    <tr>\n",
       "      <td>youtube_channel_reklama</td>\n",
       "      <td>24978</td>\n",
       "    </tr>\n",
       "  </tbody>\n",
       "</table>\n",
       "</div>"
      ],
      "text/plain": [
       "                         building_type\n",
       "source                                \n",
       "facebook_ads                     26131\n",
       "instagram_new_adverts            31815\n",
       "yandex_direct                    45032\n",
       "youtube_channel_reklama          24978"
      ]
     },
     "execution_count": 43,
     "metadata": {},
     "output_type": "execute_result"
    }
   ],
   "source": [
    "data.pivot_table(index = 'source', values = 'building_type', aggfunc = 'count')"
   ]
  },
  {
   "cell_type": "markdown",
   "metadata": {},
   "source": [
    "Теперь посмотрим на кол-во пользователей, которые завершили 1-ый уровень относительно источников."
   ]
  },
  {
   "cell_type": "code",
   "execution_count": 44,
   "metadata": {},
   "outputs": [],
   "source": [
    "data1 = data[data['event'] == 'finished_stage_1']"
   ]
  },
  {
   "cell_type": "code",
   "execution_count": 45,
   "metadata": {},
   "outputs": [
    {
     "data": {
      "text/html": [
       "<div>\n",
       "<style scoped>\n",
       "    .dataframe tbody tr th:only-of-type {\n",
       "        vertical-align: middle;\n",
       "    }\n",
       "\n",
       "    .dataframe tbody tr th {\n",
       "        vertical-align: top;\n",
       "    }\n",
       "\n",
       "    .dataframe thead th {\n",
       "        text-align: right;\n",
       "    }\n",
       "</style>\n",
       "<table border=\"1\" class=\"dataframe\">\n",
       "  <thead>\n",
       "    <tr style=\"text-align: right;\">\n",
       "      <th></th>\n",
       "      <th>event</th>\n",
       "    </tr>\n",
       "    <tr>\n",
       "      <th>source</th>\n",
       "      <th></th>\n",
       "    </tr>\n",
       "  </thead>\n",
       "  <tbody>\n",
       "    <tr>\n",
       "      <td>facebook_ads</td>\n",
       "      <td>1150</td>\n",
       "    </tr>\n",
       "    <tr>\n",
       "      <td>instagram_new_adverts</td>\n",
       "      <td>1466</td>\n",
       "    </tr>\n",
       "    <tr>\n",
       "      <td>yandex_direct</td>\n",
       "      <td>2042</td>\n",
       "    </tr>\n",
       "    <tr>\n",
       "      <td>youtube_channel_reklama</td>\n",
       "      <td>1159</td>\n",
       "    </tr>\n",
       "  </tbody>\n",
       "</table>\n",
       "</div>"
      ],
      "text/plain": [
       "                         event\n",
       "source                        \n",
       "facebook_ads              1150\n",
       "instagram_new_adverts     1466\n",
       "yandex_direct             2042\n",
       "youtube_channel_reklama   1159"
      ]
     },
     "execution_count": 45,
     "metadata": {},
     "output_type": "execute_result"
    }
   ],
   "source": [
    "data1.pivot_table(index = 'source', values = 'event', aggfunc = 'count')"
   ]
  },
  {
   "cell_type": "markdown",
   "metadata": {},
   "source": [
    "Построим графики"
   ]
  },
  {
   "cell_type": "code",
   "execution_count": 46,
   "metadata": {},
   "outputs": [
    {
     "data": {
      "image/png": "[encoded data removed]",
      "text/plain": [
       "<Figure size 576x576 with 1 Axes>"
      ]
     },
     "metadata": {
      "needs_background": "light"
     },
     "output_type": "display_data"
    }
   ],
   "source": [
    "plt.figure(figsize = (8,8))\n",
    "sns.countplot(y='source', data=user_source, order = user_source['source'].value_counts().index)\n",
    "plt.title('Сколько перешло людей из разных источников')\n",
    "plt.ylabel('Источник')\n",
    "plt.xlabel('Кол-во пользователей')\n",
    "plt.show()"
   ]
  },
  {
   "cell_type": "code",
   "execution_count": 47,
   "metadata": {},
   "outputs": [
    {
     "data": {
      "image/png": "[encoded data removed]",
      "text/plain": [
       "<Figure size 576x576 with 1 Axes>"
      ]
     },
     "metadata": {
      "needs_background": "light"
     },
     "output_type": "display_data"
    }
   ],
   "source": [
    "plt.figure(figsize = (8,8))\n",
    "sns.countplot(y='source', data=data, order = data['source'].value_counts().index)\n",
    "plt.title('Сколько зданий построили пользователи относительно источника, с которого они перешли')\n",
    "plt.ylabel('Источник')\n",
    "plt.xlabel('Кол-во построенных зданий')\n",
    "plt.show()"
   ]
  },
  {
   "cell_type": "code",
   "execution_count": 48,
   "metadata": {},
   "outputs": [
    {
     "data": {
      "image/png": "[encoded data removed]",
      "text/plain": [
       "<Figure size 576x576 with 1 Axes>"
      ]
     },
     "metadata": {
      "needs_background": "light"
     },
     "output_type": "display_data"
    }
   ],
   "source": [
    "plt.figure(figsize = (8,8))\n",
    "sns.countplot(y='source', data=data1, order = data1['source'].value_counts().index)\n",
    "plt.title('Сколько пользователей завершили 1-ый уровень относительно источника, с которого они перешли')\n",
    "plt.ylabel('Источник')\n",
    "plt.xlabel('Кол-во пользователей')\n",
    "plt.show()"
   ]
  },
  {
   "cell_type": "markdown",
   "metadata": {},
   "source": [
    "Соотношение сохраняется во всех трех случаях, явных изменений не выявлено, действительно, с яндекса перешло больше всего человек, след-но они построили больше всех зданий, а также больше всего из них закончило 1-ый уровень, та же картина и с другими источниками соответственно. Однако, хоть и фейсбук держал планку третьего места по всем параметрам, но людей, закончивших 1-ый уровень больше у ютуба, чем у фейсбука, но разница очень незначительная."
   ]
  },
  {
   "cell_type": "markdown",
   "metadata": {},
   "source": [
    "Сколько стоит реклама на разнах источниках?"
   ]
  },
  {
   "cell_type": "code",
   "execution_count": 49,
   "metadata": {},
   "outputs": [
    {
     "data": {
      "text/html": [
       "<div>\n",
       "<style scoped>\n",
       "    .dataframe tbody tr th:only-of-type {\n",
       "        vertical-align: middle;\n",
       "    }\n",
       "\n",
       "    .dataframe tbody tr th {\n",
       "        vertical-align: top;\n",
       "    }\n",
       "\n",
       "    .dataframe thead th {\n",
       "        text-align: right;\n",
       "    }\n",
       "</style>\n",
       "<table border=\"1\" class=\"dataframe\">\n",
       "  <thead>\n",
       "    <tr style=\"text-align: right;\">\n",
       "      <th>day</th>\n",
       "      <th>2020-05-03</th>\n",
       "      <th>2020-05-04</th>\n",
       "      <th>2020-05-05</th>\n",
       "      <th>2020-05-06</th>\n",
       "      <th>2020-05-07</th>\n",
       "      <th>2020-05-08</th>\n",
       "      <th>2020-05-09</th>\n",
       "    </tr>\n",
       "    <tr>\n",
       "      <th>source</th>\n",
       "      <th></th>\n",
       "      <th></th>\n",
       "      <th></th>\n",
       "      <th></th>\n",
       "      <th></th>\n",
       "      <th></th>\n",
       "      <th></th>\n",
       "    </tr>\n",
       "  </thead>\n",
       "  <tbody>\n",
       "    <tr>\n",
       "      <td>facebook_ads</td>\n",
       "      <td>935.882786</td>\n",
       "      <td>548.354480</td>\n",
       "      <td>260.185754</td>\n",
       "      <td>177.982200</td>\n",
       "      <td>111.766796</td>\n",
       "      <td>68.009276</td>\n",
       "      <td>38.723350</td>\n",
       "    </tr>\n",
       "    <tr>\n",
       "      <td>instagram_new_adverts</td>\n",
       "      <td>943.204717</td>\n",
       "      <td>502.925451</td>\n",
       "      <td>313.970984</td>\n",
       "      <td>173.071145</td>\n",
       "      <td>109.915254</td>\n",
       "      <td>71.578739</td>\n",
       "      <td>46.775400</td>\n",
       "    </tr>\n",
       "    <tr>\n",
       "      <td>yandex_direct</td>\n",
       "      <td>969.139394</td>\n",
       "      <td>554.651494</td>\n",
       "      <td>308.232990</td>\n",
       "      <td>180.917099</td>\n",
       "      <td>114.429338</td>\n",
       "      <td>62.961630</td>\n",
       "      <td>42.779505</td>\n",
       "    </tr>\n",
       "    <tr>\n",
       "      <td>youtube_channel_reklama</td>\n",
       "      <td>454.224943</td>\n",
       "      <td>259.073224</td>\n",
       "      <td>147.041741</td>\n",
       "      <td>88.506074</td>\n",
       "      <td>55.740645</td>\n",
       "      <td>40.217907</td>\n",
       "      <td>23.314669</td>\n",
       "    </tr>\n",
       "  </tbody>\n",
       "</table>\n",
       "</div>"
      ],
      "text/plain": [
       "day                      2020-05-03  2020-05-04  2020-05-05  2020-05-06  \\\n",
       "source                                                                    \n",
       "facebook_ads             935.882786  548.354480  260.185754  177.982200   \n",
       "instagram_new_adverts    943.204717  502.925451  313.970984  173.071145   \n",
       "yandex_direct            969.139394  554.651494  308.232990  180.917099   \n",
       "youtube_channel_reklama  454.224943  259.073224  147.041741   88.506074   \n",
       "\n",
       "day                      2020-05-07  2020-05-08  2020-05-09  \n",
       "source                                                       \n",
       "facebook_ads             111.766796   68.009276   38.723350  \n",
       "instagram_new_adverts    109.915254   71.578739   46.775400  \n",
       "yandex_direct            114.429338   62.961630   42.779505  \n",
       "youtube_channel_reklama   55.740645   40.217907   23.314669  "
      ]
     },
     "execution_count": 49,
     "metadata": {},
     "output_type": "execute_result"
    }
   ],
   "source": [
    "ad_costs.pivot_table(index = 'source', columns = 'day', values = 'cost', aggfunc = 'sum')"
   ]
  },
  {
   "cell_type": "code",
   "execution_count": 50,
   "metadata": {},
   "outputs": [
    {
     "data": {
      "text/plain": [
       "source\n",
       "facebook_ads               2140.904643\n",
       "instagram_new_adverts      2161.441691\n",
       "yandex_direct              2233.111449\n",
       "youtube_channel_reklama    1068.119204\n",
       "Name: cost, dtype: float64"
      ]
     },
     "execution_count": 50,
     "metadata": {},
     "output_type": "execute_result"
    }
   ],
   "source": [
    "ad_costs.groupby('source')['cost'].sum()"
   ]
  },
  {
   "cell_type": "code",
   "execution_count": 51,
   "metadata": {},
   "outputs": [
    {
     "data": {
      "text/plain": [
       "source\n",
       "facebook_ads               305.843520\n",
       "instagram_new_adverts      308.777384\n",
       "yandex_direct              319.015921\n",
       "youtube_channel_reklama    152.588458\n",
       "Name: cost, dtype: float64"
      ]
     },
     "execution_count": 51,
     "metadata": {},
     "output_type": "execute_result"
    }
   ],
   "source": [
    "ad_costs.groupby('source')['cost'].mean()"
   ]
  },
  {
   "cell_type": "code",
   "execution_count": 52,
   "metadata": {},
   "outputs": [
    {
     "name": "stdout",
     "output_type": "stream",
     "text": [
      "Общие затраты на рекламу: 7603.576986788022\n"
     ]
    }
   ],
   "source": [
    "print('Общие затраты на рекламу:', ad_costs['cost'].sum())"
   ]
  },
  {
   "cell_type": "code",
   "execution_count": 53,
   "metadata": {},
   "outputs": [
    {
     "data": {
      "image/png": "[encoded data removed]",
      "text/plain": [
       "<Figure size 864x432 with 1 Axes>"
      ]
     },
     "metadata": {
      "needs_background": "light"
     },
     "output_type": "display_data"
    }
   ],
   "source": [
    "def graphic(ad_costs):\n",
    "    plt.figure(figsize=(12, 6))\n",
    "    sns.barplot(data = ad_costs, x='source', y='cost')\n",
    "    plt.title('Общие затраты на рекламу относительно источников')\n",
    "    plt.xlabel('Название источника')\n",
    "    plt.ylabel('Затраты')\n",
    "    \n",
    "source_cost = ad_costs.pivot_table(\n",
    "        index = 'source', values = 'cost', aggfunc = 'sum').reset_index().sort_values(\n",
    "                                                            by = 'cost', ascending = False)\n",
    "graphic(source_cost)"
   ]
  },
  {
   "cell_type": "markdown",
   "metadata": {},
   "source": [
    "Исходя из стоимости кликов, можно понять, когда пришло больше или меньше пользователей. Пик прихода пришел на 3 мая, а далее заметно затухание, причем на всех источниках. Исходя из прошлого шага, можно сделать вывод, что реклама с фейсбука себя не оправдывает, т.к. мы заплатили в два раза больше, чем ютубу, а пользователей пришло практически одинакого и активность у них также очень близкая. Яндекс является фаворитом по всем параметрам. Инстаграм имеет тоже хорошие показатели, относительно затрат и привлечения пользователей."
   ]
  },
  {
   "cell_type": "markdown",
   "metadata": {},
   "source": [
    "### Вывод"
   ]
  },
  {
   "cell_type": "markdown",
   "metadata": {},
   "source": [
    "На данном этапе мы узнали, сколько пришло пользователей из разных источников:\n",
    "\n",
    "yandex_direct:              4817\n",
    "\n",
    "nstagram_new_adverts:      3347\n",
    "\n",
    "facebook_ads:               2726\n",
    "\n",
    "youtube_channel_reklama:    2686\n",
    "\n",
    "Соотношение построенных зданий пользователями относительно источником, примерно такое же. Выделили оптимальный источник - яндекс. И сделали вывод, что фейсбук совершенно невыгодный для нас источник, т.к. мы тратим на него, примерно столько же денег как на инстаграм, но приведено пользователей и их активность, сопоставимы с ютубом, на который мы тратим в два раза меньше."
   ]
  },
  {
   "cell_type": "markdown",
   "metadata": {},
   "source": [
    "## Проверка статистических гипотез"
   ]
  },
  {
   "cell_type": "markdown",
   "metadata": {},
   "source": [
    "Проверим гипотезы различия времени прохождения уровня между пользователями, которые заканчивают уровень через реализацию проекта, и пользователями, которые заканчивают уровень победой над другим игроком.\n",
    "\n",
    "Воспользуем t-тестом.\n",
    "\n",
    "Нулевая гипотеза - не наблюдается различие между временем прохождения уровня у пользователей, которые заканчивают уровень через реализацию проекта, и пользователями, которые заканчивают уровень победой над другим игроком.\n",
    "\n",
    "Альтернативная гипотеза - наблюдается различие между временем прохождения уровня у пользователей, которые заканчивают уровень через реализацию проекта, и пользователями, которые заканчивают уровень победой над другим игроком.\n",
    "\n",
    "alpha = 0.05"
   ]
  },
  {
   "cell_type": "code",
   "execution_count": 54,
   "metadata": {},
   "outputs": [
    {
     "data": {
      "text/html": [
       "<div>\n",
       "<style scoped>\n",
       "    .dataframe tbody tr th:only-of-type {\n",
       "        vertical-align: middle;\n",
       "    }\n",
       "\n",
       "    .dataframe tbody tr th {\n",
       "        vertical-align: top;\n",
       "    }\n",
       "\n",
       "    .dataframe thead th {\n",
       "        text-align: right;\n",
       "    }\n",
       "</style>\n",
       "<table border=\"1\" class=\"dataframe\">\n",
       "  <thead>\n",
       "    <tr style=\"text-align: right;\">\n",
       "      <th></th>\n",
       "      <th>event_datetime</th>\n",
       "      <th>event</th>\n",
       "      <th>building_type</th>\n",
       "      <th>user_id</th>\n",
       "      <th>project_type</th>\n",
       "    </tr>\n",
       "  </thead>\n",
       "  <tbody>\n",
       "    <tr>\n",
       "      <td>6659</td>\n",
       "      <td>2020-05-04 19:47:29</td>\n",
       "      <td>finished_stage_1</td>\n",
       "      <td>NaN</td>\n",
       "      <td>ced7b368-818f-48f6-9461-2346de0892c5</td>\n",
       "      <td>NaN</td>\n",
       "    </tr>\n",
       "    <tr>\n",
       "      <td>13134</td>\n",
       "      <td>2020-05-05 13:22:09</td>\n",
       "      <td>finished_stage_1</td>\n",
       "      <td>NaN</td>\n",
       "      <td>7ef7fc89-2779-46ea-b328-9e5035b83af5</td>\n",
       "      <td>NaN</td>\n",
       "    </tr>\n",
       "    <tr>\n",
       "      <td>15274</td>\n",
       "      <td>2020-05-05 18:54:37</td>\n",
       "      <td>finished_stage_1</td>\n",
       "      <td>NaN</td>\n",
       "      <td>70db22b3-c2f4-43bc-94ea-51c8d2904a29</td>\n",
       "      <td>NaN</td>\n",
       "    </tr>\n",
       "    <tr>\n",
       "      <td>16284</td>\n",
       "      <td>2020-05-05 21:27:29</td>\n",
       "      <td>finished_stage_1</td>\n",
       "      <td>NaN</td>\n",
       "      <td>903fc9ef-ba97-4b12-9d5c-ac8d602fbd8b</td>\n",
       "      <td>NaN</td>\n",
       "    </tr>\n",
       "    <tr>\n",
       "      <td>19650</td>\n",
       "      <td>2020-05-06 06:02:22</td>\n",
       "      <td>finished_stage_1</td>\n",
       "      <td>NaN</td>\n",
       "      <td>58e077ba-feb1-4556-a5a0-d96bd04efa39</td>\n",
       "      <td>NaN</td>\n",
       "    </tr>\n",
       "    <tr>\n",
       "      <td>...</td>\n",
       "      <td>...</td>\n",
       "      <td>...</td>\n",
       "      <td>...</td>\n",
       "      <td>...</td>\n",
       "      <td>...</td>\n",
       "    </tr>\n",
       "    <tr>\n",
       "      <td>135632</td>\n",
       "      <td>2020-06-04 15:50:38</td>\n",
       "      <td>finished_stage_1</td>\n",
       "      <td>NaN</td>\n",
       "      <td>22cce310-fe10-41a2-941b-9c3d63327fea</td>\n",
       "      <td>NaN</td>\n",
       "    </tr>\n",
       "    <tr>\n",
       "      <td>135633</td>\n",
       "      <td>2020-06-04 17:56:14</td>\n",
       "      <td>finished_stage_1</td>\n",
       "      <td>NaN</td>\n",
       "      <td>d477dde8-7c22-4f23-9c4f-4ec31a1aa4c8</td>\n",
       "      <td>NaN</td>\n",
       "    </tr>\n",
       "    <tr>\n",
       "      <td>135636</td>\n",
       "      <td>2020-06-05 02:25:12</td>\n",
       "      <td>finished_stage_1</td>\n",
       "      <td>NaN</td>\n",
       "      <td>515c1952-99aa-4bca-a7ea-d0449eb5385a</td>\n",
       "      <td>NaN</td>\n",
       "    </tr>\n",
       "    <tr>\n",
       "      <td>135638</td>\n",
       "      <td>2020-06-05 12:12:27</td>\n",
       "      <td>finished_stage_1</td>\n",
       "      <td>NaN</td>\n",
       "      <td>32572adb-900f-4b5d-a453-1eb1e6d88d8b</td>\n",
       "      <td>NaN</td>\n",
       "    </tr>\n",
       "    <tr>\n",
       "      <td>135639</td>\n",
       "      <td>2020-06-05 12:32:49</td>\n",
       "      <td>finished_stage_1</td>\n",
       "      <td>NaN</td>\n",
       "      <td>f21d179f-1c4b-437e-b9c6-ab1976907195</td>\n",
       "      <td>NaN</td>\n",
       "    </tr>\n",
       "  </tbody>\n",
       "</table>\n",
       "<p>5817 rows × 5 columns</p>\n",
       "</div>"
      ],
      "text/plain": [
       "            event_datetime             event building_type  \\\n",
       "6659   2020-05-04 19:47:29  finished_stage_1           NaN   \n",
       "13134  2020-05-05 13:22:09  finished_stage_1           NaN   \n",
       "15274  2020-05-05 18:54:37  finished_stage_1           NaN   \n",
       "16284  2020-05-05 21:27:29  finished_stage_1           NaN   \n",
       "19650  2020-05-06 06:02:22  finished_stage_1           NaN   \n",
       "...                    ...               ...           ...   \n",
       "135632 2020-06-04 15:50:38  finished_stage_1           NaN   \n",
       "135633 2020-06-04 17:56:14  finished_stage_1           NaN   \n",
       "135636 2020-06-05 02:25:12  finished_stage_1           NaN   \n",
       "135638 2020-06-05 12:12:27  finished_stage_1           NaN   \n",
       "135639 2020-06-05 12:32:49  finished_stage_1           NaN   \n",
       "\n",
       "                                     user_id project_type  \n",
       "6659    ced7b368-818f-48f6-9461-2346de0892c5          NaN  \n",
       "13134   7ef7fc89-2779-46ea-b328-9e5035b83af5          NaN  \n",
       "15274   70db22b3-c2f4-43bc-94ea-51c8d2904a29          NaN  \n",
       "16284   903fc9ef-ba97-4b12-9d5c-ac8d602fbd8b          NaN  \n",
       "19650   58e077ba-feb1-4556-a5a0-d96bd04efa39          NaN  \n",
       "...                                      ...          ...  \n",
       "135632  22cce310-fe10-41a2-941b-9c3d63327fea          NaN  \n",
       "135633  d477dde8-7c22-4f23-9c4f-4ec31a1aa4c8          NaN  \n",
       "135636  515c1952-99aa-4bca-a7ea-d0449eb5385a          NaN  \n",
       "135638  32572adb-900f-4b5d-a453-1eb1e6d88d8b          NaN  \n",
       "135639  f21d179f-1c4b-437e-b9c6-ab1976907195          NaN  \n",
       "\n",
       "[5817 rows x 5 columns]"
      ]
     },
     "execution_count": 54,
     "metadata": {},
     "output_type": "execute_result"
    }
   ],
   "source": [
    "data_final = game_actions.query('event == \"finished_stage_1\"')\n",
    "data_final"
   ]
  },
  {
   "cell_type": "code",
   "execution_count": 55,
   "metadata": {},
   "outputs": [],
   "source": [
    "data_final_1 = data_final[~data_final['user_id'].isin(users)]"
   ]
  },
  {
   "cell_type": "code",
   "execution_count": 56,
   "metadata": {},
   "outputs": [
    {
     "data": {
      "text/html": [
       "<div>\n",
       "<style scoped>\n",
       "    .dataframe tbody tr th:only-of-type {\n",
       "        vertical-align: middle;\n",
       "    }\n",
       "\n",
       "    .dataframe tbody tr th {\n",
       "        vertical-align: top;\n",
       "    }\n",
       "\n",
       "    .dataframe thead th {\n",
       "        text-align: right;\n",
       "    }\n",
       "</style>\n",
       "<table border=\"1\" class=\"dataframe\">\n",
       "  <thead>\n",
       "    <tr style=\"text-align: right;\">\n",
       "      <th></th>\n",
       "      <th>event_datetime</th>\n",
       "      <th>event</th>\n",
       "      <th>building_type</th>\n",
       "      <th>user_id</th>\n",
       "      <th>project_type</th>\n",
       "    </tr>\n",
       "  </thead>\n",
       "  <tbody>\n",
       "    <tr>\n",
       "      <td>6659</td>\n",
       "      <td>2020-05-04 19:47:29</td>\n",
       "      <td>finished_stage_1</td>\n",
       "      <td>NaN</td>\n",
       "      <td>ced7b368-818f-48f6-9461-2346de0892c5</td>\n",
       "      <td>NaN</td>\n",
       "    </tr>\n",
       "    <tr>\n",
       "      <td>13134</td>\n",
       "      <td>2020-05-05 13:22:09</td>\n",
       "      <td>finished_stage_1</td>\n",
       "      <td>NaN</td>\n",
       "      <td>7ef7fc89-2779-46ea-b328-9e5035b83af5</td>\n",
       "      <td>NaN</td>\n",
       "    </tr>\n",
       "    <tr>\n",
       "      <td>15274</td>\n",
       "      <td>2020-05-05 18:54:37</td>\n",
       "      <td>finished_stage_1</td>\n",
       "      <td>NaN</td>\n",
       "      <td>70db22b3-c2f4-43bc-94ea-51c8d2904a29</td>\n",
       "      <td>NaN</td>\n",
       "    </tr>\n",
       "    <tr>\n",
       "      <td>16284</td>\n",
       "      <td>2020-05-05 21:27:29</td>\n",
       "      <td>finished_stage_1</td>\n",
       "      <td>NaN</td>\n",
       "      <td>903fc9ef-ba97-4b12-9d5c-ac8d602fbd8b</td>\n",
       "      <td>NaN</td>\n",
       "    </tr>\n",
       "    <tr>\n",
       "      <td>19650</td>\n",
       "      <td>2020-05-06 06:02:22</td>\n",
       "      <td>finished_stage_1</td>\n",
       "      <td>NaN</td>\n",
       "      <td>58e077ba-feb1-4556-a5a0-d96bd04efa39</td>\n",
       "      <td>NaN</td>\n",
       "    </tr>\n",
       "    <tr>\n",
       "      <td>...</td>\n",
       "      <td>...</td>\n",
       "      <td>...</td>\n",
       "      <td>...</td>\n",
       "      <td>...</td>\n",
       "      <td>...</td>\n",
       "    </tr>\n",
       "    <tr>\n",
       "      <td>135628</td>\n",
       "      <td>2020-06-04 06:44:02</td>\n",
       "      <td>finished_stage_1</td>\n",
       "      <td>NaN</td>\n",
       "      <td>18fc6a86-00e7-4f3e-96da-bdb6d550415c</td>\n",
       "      <td>NaN</td>\n",
       "    </tr>\n",
       "    <tr>\n",
       "      <td>135632</td>\n",
       "      <td>2020-06-04 15:50:38</td>\n",
       "      <td>finished_stage_1</td>\n",
       "      <td>NaN</td>\n",
       "      <td>22cce310-fe10-41a2-941b-9c3d63327fea</td>\n",
       "      <td>NaN</td>\n",
       "    </tr>\n",
       "    <tr>\n",
       "      <td>135636</td>\n",
       "      <td>2020-06-05 02:25:12</td>\n",
       "      <td>finished_stage_1</td>\n",
       "      <td>NaN</td>\n",
       "      <td>515c1952-99aa-4bca-a7ea-d0449eb5385a</td>\n",
       "      <td>NaN</td>\n",
       "    </tr>\n",
       "    <tr>\n",
       "      <td>135638</td>\n",
       "      <td>2020-06-05 12:12:27</td>\n",
       "      <td>finished_stage_1</td>\n",
       "      <td>NaN</td>\n",
       "      <td>32572adb-900f-4b5d-a453-1eb1e6d88d8b</td>\n",
       "      <td>NaN</td>\n",
       "    </tr>\n",
       "    <tr>\n",
       "      <td>135639</td>\n",
       "      <td>2020-06-05 12:32:49</td>\n",
       "      <td>finished_stage_1</td>\n",
       "      <td>NaN</td>\n",
       "      <td>f21d179f-1c4b-437e-b9c6-ab1976907195</td>\n",
       "      <td>NaN</td>\n",
       "    </tr>\n",
       "  </tbody>\n",
       "</table>\n",
       "<p>3951 rows × 5 columns</p>\n",
       "</div>"
      ],
      "text/plain": [
       "            event_datetime             event building_type  \\\n",
       "6659   2020-05-04 19:47:29  finished_stage_1           NaN   \n",
       "13134  2020-05-05 13:22:09  finished_stage_1           NaN   \n",
       "15274  2020-05-05 18:54:37  finished_stage_1           NaN   \n",
       "16284  2020-05-05 21:27:29  finished_stage_1           NaN   \n",
       "19650  2020-05-06 06:02:22  finished_stage_1           NaN   \n",
       "...                    ...               ...           ...   \n",
       "135628 2020-06-04 06:44:02  finished_stage_1           NaN   \n",
       "135632 2020-06-04 15:50:38  finished_stage_1           NaN   \n",
       "135636 2020-06-05 02:25:12  finished_stage_1           NaN   \n",
       "135638 2020-06-05 12:12:27  finished_stage_1           NaN   \n",
       "135639 2020-06-05 12:32:49  finished_stage_1           NaN   \n",
       "\n",
       "                                     user_id project_type  \n",
       "6659    ced7b368-818f-48f6-9461-2346de0892c5          NaN  \n",
       "13134   7ef7fc89-2779-46ea-b328-9e5035b83af5          NaN  \n",
       "15274   70db22b3-c2f4-43bc-94ea-51c8d2904a29          NaN  \n",
       "16284   903fc9ef-ba97-4b12-9d5c-ac8d602fbd8b          NaN  \n",
       "19650   58e077ba-feb1-4556-a5a0-d96bd04efa39          NaN  \n",
       "...                                      ...          ...  \n",
       "135628  18fc6a86-00e7-4f3e-96da-bdb6d550415c          NaN  \n",
       "135632  22cce310-fe10-41a2-941b-9c3d63327fea          NaN  \n",
       "135636  515c1952-99aa-4bca-a7ea-d0449eb5385a          NaN  \n",
       "135638  32572adb-900f-4b5d-a453-1eb1e6d88d8b          NaN  \n",
       "135639  f21d179f-1c4b-437e-b9c6-ab1976907195          NaN  \n",
       "\n",
       "[3951 rows x 5 columns]"
      ]
     },
     "execution_count": 56,
     "metadata": {},
     "output_type": "execute_result"
    }
   ],
   "source": [
    "data_final_1"
   ]
  },
  {
   "cell_type": "code",
   "execution_count": 57,
   "metadata": {},
   "outputs": [],
   "source": [
    "users1 = data_final_1['user_id'].unique()"
   ]
  },
  {
   "cell_type": "code",
   "execution_count": 58,
   "metadata": {},
   "outputs": [
    {
     "data": {
      "text/html": [
       "<div>\n",
       "<style scoped>\n",
       "    .dataframe tbody tr th:only-of-type {\n",
       "        vertical-align: middle;\n",
       "    }\n",
       "\n",
       "    .dataframe tbody tr th {\n",
       "        vertical-align: top;\n",
       "    }\n",
       "\n",
       "    .dataframe thead th {\n",
       "        text-align: right;\n",
       "    }\n",
       "</style>\n",
       "<table border=\"1\" class=\"dataframe\">\n",
       "  <thead>\n",
       "    <tr style=\"text-align: right;\">\n",
       "      <th></th>\n",
       "      <th>event_datetime</th>\n",
       "      <th>event</th>\n",
       "      <th>building_type</th>\n",
       "      <th>user_id</th>\n",
       "      <th>project_type</th>\n",
       "    </tr>\n",
       "  </thead>\n",
       "  <tbody>\n",
       "    <tr>\n",
       "      <td>2</td>\n",
       "      <td>2020-05-04 00:00:16</td>\n",
       "      <td>building</td>\n",
       "      <td>assembly_shop</td>\n",
       "      <td>6edd42cc-e753-4ff6-a947-2107cd560710</td>\n",
       "      <td>NaN</td>\n",
       "    </tr>\n",
       "    <tr>\n",
       "      <td>4</td>\n",
       "      <td>2020-05-04 00:00:35</td>\n",
       "      <td>building</td>\n",
       "      <td>assembly_shop</td>\n",
       "      <td>cdc6bb92-0ccb-4490-9866-ef142f09139d</td>\n",
       "      <td>NaN</td>\n",
       "    </tr>\n",
       "    <tr>\n",
       "      <td>6</td>\n",
       "      <td>2020-05-04 00:00:36</td>\n",
       "      <td>building</td>\n",
       "      <td>assembly_shop</td>\n",
       "      <td>4fe0f101-694b-4e31-9740-d1d87f7208ea</td>\n",
       "      <td>NaN</td>\n",
       "    </tr>\n",
       "    <tr>\n",
       "      <td>11</td>\n",
       "      <td>2020-05-04 00:02:24</td>\n",
       "      <td>building</td>\n",
       "      <td>assembly_shop</td>\n",
       "      <td>9c200ece-3b74-44c4-8a3f-260f2486c5d7</td>\n",
       "      <td>NaN</td>\n",
       "    </tr>\n",
       "    <tr>\n",
       "      <td>15</td>\n",
       "      <td>2020-05-04 00:03:10</td>\n",
       "      <td>building</td>\n",
       "      <td>assembly_shop</td>\n",
       "      <td>02bf92c2-17a0-4156-be88-2054fb6b7421</td>\n",
       "      <td>NaN</td>\n",
       "    </tr>\n",
       "    <tr>\n",
       "      <td>...</td>\n",
       "      <td>...</td>\n",
       "      <td>...</td>\n",
       "      <td>...</td>\n",
       "      <td>...</td>\n",
       "      <td>...</td>\n",
       "    </tr>\n",
       "    <tr>\n",
       "      <td>135634</td>\n",
       "      <td>2020-06-04 18:14:33</td>\n",
       "      <td>building</td>\n",
       "      <td>research_center</td>\n",
       "      <td>515c1952-99aa-4bca-a7ea-d0449eb5385a</td>\n",
       "      <td>NaN</td>\n",
       "    </tr>\n",
       "    <tr>\n",
       "      <td>135635</td>\n",
       "      <td>2020-06-05 00:08:06</td>\n",
       "      <td>building</td>\n",
       "      <td>research_center</td>\n",
       "      <td>f21d179f-1c4b-437e-b9c6-ab1976907195</td>\n",
       "      <td>NaN</td>\n",
       "    </tr>\n",
       "    <tr>\n",
       "      <td>135636</td>\n",
       "      <td>2020-06-05 02:25:12</td>\n",
       "      <td>finished_stage_1</td>\n",
       "      <td>NaN</td>\n",
       "      <td>515c1952-99aa-4bca-a7ea-d0449eb5385a</td>\n",
       "      <td>NaN</td>\n",
       "    </tr>\n",
       "    <tr>\n",
       "      <td>135638</td>\n",
       "      <td>2020-06-05 12:12:27</td>\n",
       "      <td>finished_stage_1</td>\n",
       "      <td>NaN</td>\n",
       "      <td>32572adb-900f-4b5d-a453-1eb1e6d88d8b</td>\n",
       "      <td>NaN</td>\n",
       "    </tr>\n",
       "    <tr>\n",
       "      <td>135639</td>\n",
       "      <td>2020-06-05 12:32:49</td>\n",
       "      <td>finished_stage_1</td>\n",
       "      <td>NaN</td>\n",
       "      <td>f21d179f-1c4b-437e-b9c6-ab1976907195</td>\n",
       "      <td>NaN</td>\n",
       "    </tr>\n",
       "  </tbody>\n",
       "</table>\n",
       "<p>41136 rows × 5 columns</p>\n",
       "</div>"
      ],
      "text/plain": [
       "            event_datetime             event    building_type  \\\n",
       "2      2020-05-04 00:00:16          building    assembly_shop   \n",
       "4      2020-05-04 00:00:35          building    assembly_shop   \n",
       "6      2020-05-04 00:00:36          building    assembly_shop   \n",
       "11     2020-05-04 00:02:24          building    assembly_shop   \n",
       "15     2020-05-04 00:03:10          building    assembly_shop   \n",
       "...                    ...               ...              ...   \n",
       "135634 2020-06-04 18:14:33          building  research_center   \n",
       "135635 2020-06-05 00:08:06          building  research_center   \n",
       "135636 2020-06-05 02:25:12  finished_stage_1              NaN   \n",
       "135638 2020-06-05 12:12:27  finished_stage_1              NaN   \n",
       "135639 2020-06-05 12:32:49  finished_stage_1              NaN   \n",
       "\n",
       "                                     user_id project_type  \n",
       "2       6edd42cc-e753-4ff6-a947-2107cd560710          NaN  \n",
       "4       cdc6bb92-0ccb-4490-9866-ef142f09139d          NaN  \n",
       "6       4fe0f101-694b-4e31-9740-d1d87f7208ea          NaN  \n",
       "11      9c200ece-3b74-44c4-8a3f-260f2486c5d7          NaN  \n",
       "15      02bf92c2-17a0-4156-be88-2054fb6b7421          NaN  \n",
       "...                                      ...          ...  \n",
       "135634  515c1952-99aa-4bca-a7ea-d0449eb5385a          NaN  \n",
       "135635  f21d179f-1c4b-437e-b9c6-ab1976907195          NaN  \n",
       "135636  515c1952-99aa-4bca-a7ea-d0449eb5385a          NaN  \n",
       "135638  32572adb-900f-4b5d-a453-1eb1e6d88d8b          NaN  \n",
       "135639  f21d179f-1c4b-437e-b9c6-ab1976907195          NaN  \n",
       "\n",
       "[41136 rows x 5 columns]"
      ]
     },
     "execution_count": 58,
     "metadata": {},
     "output_type": "execute_result"
    }
   ],
   "source": [
    "gg1 = game_actions[game_actions['user_id'].isin(users1)]\n",
    "gg1 #Таблица пользователей, которые победили врага"
   ]
  },
  {
   "cell_type": "code",
   "execution_count": 59,
   "metadata": {},
   "outputs": [
    {
     "data": {
      "text/html": [
       "<div>\n",
       "<style scoped>\n",
       "    .dataframe tbody tr th:only-of-type {\n",
       "        vertical-align: middle;\n",
       "    }\n",
       "\n",
       "    .dataframe tbody tr th {\n",
       "        vertical-align: top;\n",
       "    }\n",
       "\n",
       "    .dataframe thead th {\n",
       "        text-align: right;\n",
       "    }\n",
       "</style>\n",
       "<table border=\"1\" class=\"dataframe\">\n",
       "  <thead>\n",
       "    <tr style=\"text-align: right;\">\n",
       "      <th></th>\n",
       "      <th>event_datetime</th>\n",
       "      <th>event</th>\n",
       "      <th>building_type</th>\n",
       "      <th>user_id</th>\n",
       "      <th>project_type</th>\n",
       "    </tr>\n",
       "  </thead>\n",
       "  <tbody>\n",
       "    <tr>\n",
       "      <td>1</td>\n",
       "      <td>2020-05-04 00:00:03</td>\n",
       "      <td>building</td>\n",
       "      <td>assembly_shop</td>\n",
       "      <td>c07b1c10-f477-44dc-81dc-ec82254b1347</td>\n",
       "      <td>NaN</td>\n",
       "    </tr>\n",
       "    <tr>\n",
       "      <td>8</td>\n",
       "      <td>2020-05-04 00:00:44</td>\n",
       "      <td>building</td>\n",
       "      <td>assembly_shop</td>\n",
       "      <td>65a92713-5969-48b1-8945-bfefa5063887</td>\n",
       "      <td>NaN</td>\n",
       "    </tr>\n",
       "    <tr>\n",
       "      <td>9</td>\n",
       "      <td>2020-05-04 00:01:33</td>\n",
       "      <td>building</td>\n",
       "      <td>assembly_shop</td>\n",
       "      <td>fa352362-d258-472c-b295-2796ccc39fa3</td>\n",
       "      <td>NaN</td>\n",
       "    </tr>\n",
       "    <tr>\n",
       "      <td>13</td>\n",
       "      <td>2020-05-04 00:02:56</td>\n",
       "      <td>building</td>\n",
       "      <td>assembly_shop</td>\n",
       "      <td>7b3b6554-7949-4065-9808-d6c79bdc2f58</td>\n",
       "      <td>NaN</td>\n",
       "    </tr>\n",
       "    <tr>\n",
       "      <td>20</td>\n",
       "      <td>2020-05-04 00:03:46</td>\n",
       "      <td>building</td>\n",
       "      <td>assembly_shop</td>\n",
       "      <td>b374304d-2f74-4cc1-a4e2-500da44a06c7</td>\n",
       "      <td>NaN</td>\n",
       "    </tr>\n",
       "    <tr>\n",
       "      <td>...</td>\n",
       "      <td>...</td>\n",
       "      <td>...</td>\n",
       "      <td>...</td>\n",
       "      <td>...</td>\n",
       "      <td>...</td>\n",
       "    </tr>\n",
       "    <tr>\n",
       "      <td>135620</td>\n",
       "      <td>2020-06-03 14:41:22</td>\n",
       "      <td>finished_stage_1</td>\n",
       "      <td>NaN</td>\n",
       "      <td>82e46f34-e243-4728-8e20-2e171fc33ea4</td>\n",
       "      <td>NaN</td>\n",
       "    </tr>\n",
       "    <tr>\n",
       "      <td>135627</td>\n",
       "      <td>2020-06-04 05:18:54</td>\n",
       "      <td>building</td>\n",
       "      <td>research_center</td>\n",
       "      <td>d477dde8-7c22-4f23-9c4f-4ec31a1aa4c8</td>\n",
       "      <td>NaN</td>\n",
       "    </tr>\n",
       "    <tr>\n",
       "      <td>135629</td>\n",
       "      <td>2020-06-04 08:03:27</td>\n",
       "      <td>finished_stage_1</td>\n",
       "      <td>NaN</td>\n",
       "      <td>fe032991-71e0-48c5-889f-4c3805ba4c9b</td>\n",
       "      <td>NaN</td>\n",
       "    </tr>\n",
       "    <tr>\n",
       "      <td>135630</td>\n",
       "      <td>2020-06-04 08:29:42</td>\n",
       "      <td>project</td>\n",
       "      <td>NaN</td>\n",
       "      <td>d477dde8-7c22-4f23-9c4f-4ec31a1aa4c8</td>\n",
       "      <td>satellite_orbital_assembly</td>\n",
       "    </tr>\n",
       "    <tr>\n",
       "      <td>135633</td>\n",
       "      <td>2020-06-04 17:56:14</td>\n",
       "      <td>finished_stage_1</td>\n",
       "      <td>NaN</td>\n",
       "      <td>d477dde8-7c22-4f23-9c4f-4ec31a1aa4c8</td>\n",
       "      <td>NaN</td>\n",
       "    </tr>\n",
       "  </tbody>\n",
       "</table>\n",
       "<p>27333 rows × 5 columns</p>\n",
       "</div>"
      ],
      "text/plain": [
       "            event_datetime             event    building_type  \\\n",
       "1      2020-05-04 00:00:03          building    assembly_shop   \n",
       "8      2020-05-04 00:00:44          building    assembly_shop   \n",
       "9      2020-05-04 00:01:33          building    assembly_shop   \n",
       "13     2020-05-04 00:02:56          building    assembly_shop   \n",
       "20     2020-05-04 00:03:46          building    assembly_shop   \n",
       "...                    ...               ...              ...   \n",
       "135620 2020-06-03 14:41:22  finished_stage_1              NaN   \n",
       "135627 2020-06-04 05:18:54          building  research_center   \n",
       "135629 2020-06-04 08:03:27  finished_stage_1              NaN   \n",
       "135630 2020-06-04 08:29:42           project              NaN   \n",
       "135633 2020-06-04 17:56:14  finished_stage_1              NaN   \n",
       "\n",
       "                                     user_id                project_type  \n",
       "1       c07b1c10-f477-44dc-81dc-ec82254b1347                         NaN  \n",
       "8       65a92713-5969-48b1-8945-bfefa5063887                         NaN  \n",
       "9       fa352362-d258-472c-b295-2796ccc39fa3                         NaN  \n",
       "13      7b3b6554-7949-4065-9808-d6c79bdc2f58                         NaN  \n",
       "20      b374304d-2f74-4cc1-a4e2-500da44a06c7                         NaN  \n",
       "...                                      ...                         ...  \n",
       "135620  82e46f34-e243-4728-8e20-2e171fc33ea4                         NaN  \n",
       "135627  d477dde8-7c22-4f23-9c4f-4ec31a1aa4c8                         NaN  \n",
       "135629  fe032991-71e0-48c5-889f-4c3805ba4c9b                         NaN  \n",
       "135630  d477dde8-7c22-4f23-9c4f-4ec31a1aa4c8  satellite_orbital_assembly  \n",
       "135633  d477dde8-7c22-4f23-9c4f-4ec31a1aa4c8                         NaN  \n",
       "\n",
       "[27333 rows x 5 columns]"
      ]
     },
     "execution_count": 59,
     "metadata": {},
     "output_type": "execute_result"
    }
   ],
   "source": [
    "gg #Таблица пользователей, который прошли 1-ый уровень, завершив проект"
   ]
  },
  {
   "cell_type": "markdown",
   "metadata": {},
   "source": [
    "Найдем время 1-ого события и завершения 1-ого уровня у каждого пользователя для каждого условия прохождения"
   ]
  },
  {
   "cell_type": "code",
   "execution_count": 60,
   "metadata": {},
   "outputs": [],
   "source": [
    "aga = gg1.groupby('user_id')['event_datetime'].min()"
   ]
  },
  {
   "cell_type": "code",
   "execution_count": 61,
   "metadata": {},
   "outputs": [],
   "source": [
    "aga1 = gg1.groupby('user_id')['event_datetime'].max()"
   ]
  },
  {
   "cell_type": "code",
   "execution_count": 62,
   "metadata": {},
   "outputs": [],
   "source": [
    "diff = (aga1 - aga).dt.days #затраченно время для пользователей, которые победили врага"
   ]
  },
  {
   "cell_type": "markdown",
   "metadata": {},
   "source": [
    "<div class=\"alert alert-danger\">\n",
    "**Комментарий ревьюера:** В данном случае использовать `.dt.seconds` нельзя, так как \"the .seconds attribute represents the number of seconds >= 0 and < 1 day\" (из документации) и это не отражает реально затраченного времени. Проверку гипотезы нужно переделать.\n",
    "</div>"
   ]
  },
  {
   "cell_type": "markdown",
   "metadata": {},
   "source": [
    "Тогда попробуем .dt.days"
   ]
  },
  {
   "cell_type": "code",
   "execution_count": 63,
   "metadata": {},
   "outputs": [],
   "source": [
    "gag = gg.groupby('user_id')['event_datetime'].min()"
   ]
  },
  {
   "cell_type": "code",
   "execution_count": 64,
   "metadata": {},
   "outputs": [],
   "source": [
    "gag1 = gg.groupby('user_id')['event_datetime'].max()"
   ]
  },
  {
   "cell_type": "code",
   "execution_count": 65,
   "metadata": {},
   "outputs": [],
   "source": [
    "diff1 = (gag1 - gag).dt.days #затраченное время для пользователей, завершили проект"
   ]
  },
  {
   "cell_type": "code",
   "execution_count": 66,
   "metadata": {},
   "outputs": [
    {
     "name": "stdout",
     "output_type": "stream",
     "text": [
      "p-значение: 2.6237027268062713e-106\n",
      "Отвергаем нулевую гипотезу\n"
     ]
    }
   ],
   "source": [
    "alpha=.01\n",
    "results = st.ttest_ind(diff, diff1, equal_var=False)\n",
    "\n",
    "print('p-значение:', results.pvalue)\n",
    "\n",
    "if (results.pvalue < alpha):\n",
    "    print(\"Отвергаем нулевую гипотезу\")\n",
    "else:\n",
    "    print(\"Не получилось отвергнуть нулевую гипотезу\")"
   ]
  },
  {
   "cell_type": "code",
   "execution_count": 67,
   "metadata": {},
   "outputs": [
    {
     "data": {
      "text/plain": [
       "12.963022508038586"
      ]
     },
     "execution_count": 67,
     "metadata": {},
     "output_type": "execute_result"
    }
   ],
   "source": [
    "diff1.mean()"
   ]
  },
  {
   "cell_type": "code",
   "execution_count": 68,
   "metadata": {},
   "outputs": [
    {
     "data": {
      "text/plain": [
       "10.606175651733738"
      ]
     },
     "execution_count": 68,
     "metadata": {},
     "output_type": "execute_result"
    }
   ],
   "source": [
    "diff.mean()"
   ]
  },
  {
   "cell_type": "markdown",
   "metadata": {},
   "source": [
    "Действительно, среднее время прохождения 1-ого уровня путем победой над врагом в среднем меньше, чем у победы, которая реализованна через проект."
   ]
  },
  {
   "cell_type": "markdown",
   "metadata": {},
   "source": [
    "Проверим гипотезы различия затрат на рекламу между яндексом и инстаграммом\n",
    "\n",
    "Воспользуем t-тестом.\n",
    "\n",
    "Нулевая гипотеза - не наблюдается различие затрат на рекламу между яндексом и инстаграммом.\n",
    "\n",
    "Альтернативная гипотеза - наблюдается различие затрат на рекламу между яндексом и инстаграммом.\n",
    "\n",
    "alpha = 0.05"
   ]
  },
  {
   "cell_type": "code",
   "execution_count": 69,
   "metadata": {},
   "outputs": [
    {
     "name": "stdout",
     "output_type": "stream",
     "text": [
      "p-значение: 0.9546254112573352\n",
      "Не получилось отвергнуть нулевую гипотезу\n"
     ]
    }
   ],
   "source": [
    "yandex = ad_costs.query('source == \"yandex_direct\"')['cost']\n",
    "instagram = ad_costs.query('source == \"instagram_new_adverts\"')['cost']\n",
    "alpha = .01\n",
    "\n",
    "results = st.ttest_ind(yandex, instagram, equal_var=False)\n",
    "\n",
    "print('p-значение:', results.pvalue)\n",
    "\n",
    "if (results.pvalue < alpha):\n",
    "    print(\"Отвергаем нулевую гипотезу\")\n",
    "else:\n",
    "    print(\"Не получилось отвергнуть нулевую гипотезу\")"
   ]
  },
  {
   "cell_type": "code",
   "execution_count": 70,
   "metadata": {},
   "outputs": [
    {
     "data": {
      "text/plain": [
       "319.0159213040608"
      ]
     },
     "execution_count": 70,
     "metadata": {},
     "output_type": "execute_result"
    }
   ],
   "source": [
    "yandex.mean()"
   ]
  },
  {
   "cell_type": "code",
   "execution_count": 71,
   "metadata": {},
   "outputs": [
    {
     "data": {
      "text/plain": [
       "308.77738439293205"
      ]
     },
     "execution_count": 71,
     "metadata": {},
     "output_type": "execute_result"
    }
   ],
   "source": [
    "instagram.mean()"
   ]
  },
  {
   "cell_type": "markdown",
   "metadata": {},
   "source": [
    "Действительно, среднее затраты на рекламу для двух источников практически одинаковы."
   ]
  },
  {
   "cell_type": "markdown",
   "metadata": {},
   "source": [
    "Рассмотрим два случая: \n",
    "\n",
    "Первый случай: Сколько мы покажем рекламы, если после 1-ого просмотра рекламы сразу уходит 1% пользователей.\n",
    "\n",
    "Второй случай: Сколько мы покажем рекламы, если после того, как каждый пользователь посмотрел рекламу уходит 10% пользователей.\n",
    "\n",
    "Обозначим нижнюю грань в 1000 пользователей"
   ]
  },
  {
   "cell_type": "code",
   "execution_count": 72,
   "metadata": {},
   "outputs": [],
   "source": [
    "a = len(game_actions['user_id'].unique())\n",
    "b = 0\n",
    "c = 0"
   ]
  },
  {
   "cell_type": "code",
   "execution_count": 73,
   "metadata": {},
   "outputs": [
    {
     "name": "stdout",
     "output_type": "stream",
     "text": [
      "13440.24\n",
      "13305.837599999999\n",
      "13172.779223999998\n",
      "13041.051431759997\n",
      "12910.640917442397\n",
      "12781.534508267972\n",
      "12653.719163185293\n",
      "12527.18197155344\n",
      "12401.910151837907\n",
      "12277.891050319527\n",
      "12155.112139816332\n",
      "12033.56101841817\n",
      "11913.225408233988\n",
      "11794.093154151647\n",
      "11676.152222610132\n",
      "11559.39070038403\n",
      "11443.79679338019\n",
      "11329.358825446388\n",
      "11216.065237191924\n",
      "11103.904584820004\n",
      "10992.865538971804\n",
      "10882.936883582086\n",
      "10774.107514746265\n",
      "10666.366439598802\n",
      "10559.702775202813\n",
      "10454.105747450785\n",
      "10349.564689976278\n",
      "10246.069043076515\n",
      "10143.60835264575\n",
      "10042.172269119292\n",
      "9941.750546428098\n",
      "9842.333040963818\n",
      "9743.90971055418\n",
      "9646.470613448639\n",
      "9550.005907314153\n",
      "9454.505848241011\n",
      "9359.960789758601\n",
      "9266.361181861015\n",
      "9173.697570042405\n",
      "9081.960594341981\n",
      "8991.140988398562\n",
      "8901.229578514576\n",
      "8812.21728272943\n",
      "8724.095109902137\n",
      "8636.854158803115\n",
      "8550.485617215083\n",
      "8464.980761042932\n",
      "8380.330953432504\n",
      "8296.527643898178\n",
      "8213.562367459197\n",
      "8131.426743784605\n",
      "8050.112476346759\n",
      "7969.611351583291\n",
      "7889.915238067459\n",
      "7811.016085686784\n",
      "7732.905924829916\n",
      "7655.576865581617\n",
      "7579.021096925801\n",
      "7503.230885956544\n",
      "7428.198577096979\n",
      "7353.9165913260085\n",
      "7280.377425412748\n",
      "7207.573651158621\n",
      "7135.497914647035\n",
      "7064.142935500565\n",
      "6993.501506145559\n",
      "6923.566491084103\n",
      "6854.330826173262\n",
      "6785.787517911529\n",
      "6717.929642732413\n",
      "6650.750346305089\n",
      "6584.242842842038\n",
      "6518.400414413618\n",
      "6453.2164102694815\n",
      "6388.684246166787\n",
      "6324.797403705119\n",
      "6261.549429668068\n",
      "6198.933935371388\n",
      "6136.944596017674\n",
      "6075.575150057497\n",
      "6014.819398556922\n",
      "5954.671204571353\n",
      "5895.12449252564\n",
      "5836.173247600384\n",
      "5777.81151512438\n",
      "5720.0333999731365\n",
      "5662.833065973405\n",
      "5606.20473531367\n",
      "5550.142687960533\n",
      "5494.6412610809275\n",
      "5439.694848470118\n",
      "5385.297899985417\n",
      "5331.444920985563\n",
      "5278.1304717757075\n",
      "5225.349167057951\n",
      "5173.095675387371\n",
      "5121.3647186334965\n",
      "5070.1510714471615\n",
      "5019.44956073269\n",
      "4969.255065125363\n",
      "4919.56251447411\n",
      "4870.366889329369\n",
      "4821.663220436075\n",
      "4773.4465882317145\n",
      "4725.712122349398\n",
      "4678.455001125903\n",
      "4631.6704511146445\n",
      "4585.353746603498\n",
      "4539.500209137463\n",
      "4494.105207046088\n",
      "4449.164154975628\n",
      "4404.672513425871\n",
      "4360.6257882916125\n",
      "4317.0195304086965\n",
      "4273.84933510461\n",
      "4231.110841753564\n",
      "4188.799733336029\n",
      "4146.9117360026685\n",
      "4105.442618642642\n",
      "4064.388192456215\n",
      "4023.744310531653\n",
      "3983.506867426336\n",
      "3943.671798752073\n",
      "3904.235080764552\n",
      "3865.1927299569065\n",
      "3826.5408026573373\n",
      "3788.275394630764\n",
      "3750.392640684456\n",
      "3712.8887142776116\n",
      "3675.7598271348356\n",
      "3639.0022288634873\n",
      "3602.6122065748523\n",
      "3566.586084509104\n",
      "3530.9202236640126\n",
      "3495.6110214273726\n",
      "3460.654911213099\n",
      "3426.048362100968\n",
      "3391.787878479958\n",
      "3357.8699996951586\n",
      "3324.2912996982072\n",
      "3291.0483867012254\n",
      "3258.137902834213\n",
      "3225.5565238058707\n",
      "3193.300958567812\n",
      "3161.367948982134\n",
      "3129.7542694923127\n",
      "3098.4567267973894\n",
      "3067.4721595294154\n",
      "3036.7974379341213\n",
      "3006.42946355478\n",
      "2976.365168919232\n",
      "2946.60151723004\n",
      "2917.1355020577394\n",
      "2887.964147037162\n",
      "2859.0845055667905\n",
      "2830.4936605111225\n",
      "2802.188723906011\n",
      "2774.166836666951\n",
      "2746.4251683002813\n",
      "2718.9609166172786\n",
      "2691.7713074511057\n",
      "2664.8535943765946\n",
      "2638.2050584328285\n",
      "2611.8230078485003\n",
      "2585.7047777700154\n",
      "2559.847729992315\n",
      "2534.249252692392\n",
      "2508.9067601654683\n",
      "2483.8176925638136\n",
      "2458.9795156381756\n",
      "2434.389720481794\n",
      "2410.045823276976\n",
      "2385.9453650442065\n",
      "2362.0859113937645\n",
      "2338.465052279827\n",
      "2315.0804017570285\n",
      "2291.929597739458\n",
      "2269.0103017620636\n",
      "2246.320198744443\n",
      "2223.856996756999\n",
      "2201.6184267894287\n",
      "2179.602242521534\n",
      "2157.806220096319\n",
      "2136.2281578953557\n",
      "2114.865876316402\n",
      "2093.7172175532382\n",
      "2072.780045377706\n",
      "2052.052244923929\n",
      "2031.5317224746896\n",
      "2011.2164052499427\n",
      "1991.1042411974433\n",
      "1971.193198785469\n",
      "1951.4812667976141\n",
      "1931.966454129638\n",
      "1912.6467895883416\n",
      "1893.520321692458\n",
      "1874.5851184755336\n",
      "1855.8392672907783\n",
      "1837.2808746178705\n",
      "1818.9080658716919\n",
      "1800.718985212975\n",
      "1782.7117953608451\n",
      "1764.8846774072367\n",
      "1747.2358306331644\n",
      "1729.7634723268327\n",
      "1712.4658376035643\n",
      "1695.3411792275288\n",
      "1678.3877674352534\n",
      "1661.603889760901\n",
      "1644.987850863292\n",
      "1628.537972354659\n",
      "1612.2525926311123\n",
      "1596.1300667048013\n",
      "1580.1687660377534\n",
      "1564.3670783773757\n",
      "1548.723407593602\n",
      "1533.236173517666\n",
      "1517.9038117824894\n",
      "1502.7247736646646\n",
      "1487.697525928018\n",
      "1472.8205506687377\n",
      "1458.0923451620504\n",
      "1443.5114217104299\n",
      "1429.0763074933257\n",
      "1414.7855444183924\n",
      "1400.6376889742085\n",
      "1386.6313120844663\n",
      "1372.7649989636218\n",
      "1359.0373489739857\n",
      "1345.4469754842457\n",
      "1331.9925057294033\n",
      "1318.6725806721092\n",
      "1305.485854865388\n",
      "1292.4309963167343\n",
      "1279.506686353567\n",
      "1266.7116194900314\n",
      "1254.044503295131\n",
      "1241.5040582621798\n",
      "1229.089017679558\n",
      "1216.7981275027626\n",
      "1204.630146227735\n",
      "1192.5838447654576\n",
      "1180.658006317803\n",
      "1168.851426254625\n",
      "1157.1629119920788\n",
      "1145.591282872158\n",
      "1134.1353700434365\n",
      "1122.794016343002\n",
      "1111.566076179572\n",
      "1100.4504154177764\n",
      "1089.4459112635986\n",
      "1078.5514521509626\n",
      "1067.765937629453\n",
      "1057.0882782531585\n",
      "1046.517395470627\n",
      "1036.0522215159208\n",
      "1025.6916993007617\n",
      "1015.4347823077541\n",
      "1005.2804344846766\n",
      "995.2276301398298\n"
     ]
    }
   ],
   "source": [
    "while a > 1000:\n",
    "    b += 1\n",
    "    a -= 0.01 * a\n",
    "    print(a) "
   ]
  },
  {
   "cell_type": "code",
   "execution_count": 74,
   "metadata": {},
   "outputs": [
    {
     "name": "stdout",
     "output_type": "stream",
     "text": [
      "Кол-во рекламы, которые мы покажем, если после каждого показа рекламы будет уходить 1% человек: 260\n"
     ]
    }
   ],
   "source": [
    "print('Кол-во рекламы, которые мы покажем, если после каждого показа рекламы будет уходить 1% человек:', b)"
   ]
  },
  {
   "cell_type": "code",
   "execution_count": 75,
   "metadata": {},
   "outputs": [],
   "source": [
    "a1 = len(game_actions['user_id'].unique())"
   ]
  },
  {
   "cell_type": "code",
   "execution_count": 76,
   "metadata": {},
   "outputs": [
    {
     "name": "stdout",
     "output_type": "stream",
     "text": [
      "12218.4\n",
      "10996.56\n",
      "9896.903999999999\n",
      "8907.2136\n",
      "8016.49224\n",
      "7214.843016\n",
      "6493.358714399999\n",
      "5844.022842959999\n",
      "5259.620558663999\n",
      "4733.658502797599\n",
      "4260.292652517839\n",
      "3834.2633872660554\n",
      "3450.83704853945\n",
      "3105.7533436855047\n",
      "2795.178009316954\n",
      "2515.6602083852586\n",
      "2264.094187546733\n",
      "2037.6847687920595\n",
      "1833.9162919128535\n",
      "1650.5246627215681\n",
      "1485.4721964494113\n",
      "1336.9249768044701\n",
      "1203.232479124023\n",
      "1082.9092312116206\n",
      "974.6183080904585\n"
     ]
    }
   ],
   "source": [
    "while a1 > 1000:\n",
    "    c += a1\n",
    "    a1 -= 0.1 * a1\n",
    "    print(a1)"
   ]
  },
  {
   "cell_type": "code",
   "execution_count": 77,
   "metadata": {},
   "outputs": [
    {
     "name": "stdout",
     "output_type": "stream",
     "text": [
      "Кол-во рекламы, которые мы покажем, если после того, как каждый пользователь посмотрит рекламу уходит 10%: 126014\n"
     ]
    }
   ],
   "source": [
    "print('Кол-во рекламы, которые мы покажем, если после того, как каждый пользователь посмотрит рекламу уходит 10%:', round(c))"
   ]
  },
  {
   "cell_type": "markdown",
   "metadata": {},
   "source": [
    "Минимальная прибыль с одного просмотра рекламы для двух наших случаев"
   ]
  },
  {
   "cell_type": "code",
   "execution_count": 78,
   "metadata": {},
   "outputs": [],
   "source": [
    "x = ad_costs['cost'].sum()"
   ]
  },
  {
   "cell_type": "code",
   "execution_count": 79,
   "metadata": {},
   "outputs": [
    {
     "name": "stdout",
     "output_type": "stream",
     "text": [
      "29.244526872261623 0.060339232416630494\n"
     ]
    }
   ],
   "source": [
    "print(x / b, x / c)"
   ]
  },
  {
   "cell_type": "markdown",
   "metadata": {},
   "source": [
    "### Вывод"
   ]
  },
  {
   "cell_type": "markdown",
   "metadata": {},
   "source": [
    "На последнем этапе мы проверили две гипотезы: различия времени прохождения уровня между пользователями, которые заканчивают уровень через реализацию проекта, и пользователями, которые заканчивают уровень победой над другим игроком; различия затрат на рекламу между яндексом и инстаграммом. В обоих случаях мы не отвергнули нулевую гипотезу. А также провели расчеты для показа и стоимости рекламы."
   ]
  },
  {
   "cell_type": "markdown",
   "metadata": {},
   "source": [
    "Рассмотрим кол-во рекламы для события building, если после каждого просмотра рекламы будет уходить 1%, а также предположим доход с просмотра, чтобы выйти в 0."
   ]
  },
  {
   "cell_type": "code",
   "execution_count": 80,
   "metadata": {},
   "outputs": [],
   "source": [
    "game_b = game_actions[game_actions['event'] == 'building']"
   ]
  },
  {
   "cell_type": "code",
   "execution_count": 81,
   "metadata": {},
   "outputs": [],
   "source": [
    "game_a = game_b.groupby('user_id')['event'].value_counts().to_frame()"
   ]
  },
  {
   "cell_type": "code",
   "execution_count": 82,
   "metadata": {},
   "outputs": [
    {
     "data": {
      "text/plain": [
       "1"
      ]
     },
     "execution_count": 82,
     "metadata": {},
     "output_type": "execute_result"
    }
   ],
   "source": [
    "game_a['event'].min()"
   ]
  },
  {
   "cell_type": "code",
   "execution_count": 83,
   "metadata": {},
   "outputs": [],
   "source": [
    "in_ax = [1, 2, 3, 4, 5, 6, 7, 8, 9, 10, 11, 12, 13, 14, 15, 16, 17, 18, 19, 20]"
   ]
  },
  {
   "cell_type": "code",
   "execution_count": 84,
   "metadata": {},
   "outputs": [
    {
     "name": "stdout",
     "output_type": "stream",
     "text": [
      "1 building построили: 13576\n",
      "2 building построили: 13519\n",
      "3 building построили: 13241\n",
      "4 building построили: 12685\n",
      "5 building построили: 11903\n",
      "6 building построили: 10912\n",
      "7 building построили: 9593\n",
      "8 building построили: 9274\n",
      "9 building построили: 8431\n",
      "10 building построили: 7117\n",
      "11 building построили: 5681\n",
      "12 building построили: 4319\n",
      "13 building построили: 3090\n",
      "14 building построили: 2083\n",
      "15 building построили: 1270\n",
      "16 building построили: 715\n",
      "17 building построили: 354\n",
      "18 building построили: 138\n",
      "19 building построили: 45\n",
      "20 building построили: 10\n"
     ]
    }
   ],
   "source": [
    "for i in in_ax:\n",
    "    print(i, 'building построили:', (game_a[game_a['event'] >= i].count()).sum())"
   ]
  },
  {
   "cell_type": "code",
   "execution_count": 85,
   "metadata": {},
   "outputs": [],
   "source": [
    "in_ax1 = [2, 3, 4, 5, 6, 7, 8, 9, 10, 11, 12, 13, 14, 15, 16, 17, 18, 19, 20]"
   ]
  },
  {
   "cell_type": "code",
   "execution_count": 86,
   "metadata": {},
   "outputs": [
    {
     "name": "stdout",
     "output_type": "stream",
     "text": [
      "13384\n",
      "13109\n",
      "12558\n",
      "11784\n",
      "10803\n",
      "9497\n",
      "9181\n",
      "8347\n",
      "7046\n",
      "5624\n",
      "4276\n",
      "3059\n",
      "2062\n",
      "1257\n",
      "708\n",
      "350\n",
      "137\n",
      "45\n",
      "10\n"
     ]
    }
   ],
   "source": [
    "for i in in_ax1:\n",
    "    print(round((game_a[game_a['event'] >= i].count() - game_a[game_a['event'] >= i].count() * 0.01).sum()))"
   ]
  },
  {
   "cell_type": "code",
   "execution_count": 92,
   "metadata": {},
   "outputs": [
    {
     "name": "stdout",
     "output_type": "stream",
     "text": [
      "Кол-во показов рекламы: 113237\n"
     ]
    }
   ],
   "source": [
    "summa = 0\n",
    "for k in [13384,\n",
    "13109,\n",
    "12558,\n",
    "11784,\n",
    "10803,\n",
    "9497,\n",
    "9181,\n",
    "8347,\n",
    "7046,\n",
    "5624,\n",
    "4276,\n",
    "3059,\n",
    "2062,\n",
    "1257,\n",
    "708,\n",
    "350,\n",
    "137,\n",
    "45,\n",
    "10]:\n",
    "    summa+=k\n",
    "print(\"Кол-во показов рекламы:\", summa)"
   ]
  },
  {
   "cell_type": "code",
   "execution_count": 91,
   "metadata": {},
   "outputs": [
    {
     "name": "stdout",
     "output_type": "stream",
     "text": [
      "Cтоимость одного показа рекламы: 0.0671\n"
     ]
    }
   ],
   "source": [
    "print('Cтоимость одного показа рекламы:', round((x / summa), 4))"
   ]
  },
  {
   "cell_type": "code",
   "execution_count": 89,
   "metadata": {},
   "outputs": [
    {
     "data": {
      "text/plain": [
       "7603.576986788022"
      ]
     },
     "execution_count": 89,
     "metadata": {},
     "output_type": "execute_result"
    }
   ],
   "source": [
    "x"
   ]
  },
  {
   "cell_type": "markdown",
   "metadata": {},
   "source": [
    "## Основные рекомендации и выводы"
   ]
  },
  {
   "cell_type": "markdown",
   "metadata": {},
   "source": [
    "Основываясь на исходные данные и результаты нашего исследования, выделим основные выводы и рекомендации. После проведения открытия и преобработки данных, мы рассмотрели сколько всего построено зданий в период с 4 мая по 5 июня 2020 года и получили следующие цифры:\n",
    "\n",
    "spaceport: 59325\n",
    "\n",
    "assembly_shop: 54494\n",
    "\n",
    "research_center: 14137\n",
    "\n",
    "Также рассмотрели сколько уникальных пользователей строили каждый из типов зданий:\n",
    "\n",
    "assembly_shop : 13576 (100.0 %)\n",
    "\n",
    "spaceport : 13231 (97.46 %)\n",
    "\n",
    "research_center : 7671 (56.5 %)\n",
    "\n",
    "И рассмотрели график распределения событий по времени, по которому сделали вывод, что основная активность пользователей на данный момент составляет около 5 дней, а далее активность затухает.\n",
    "\n",
    "Следующим шагом мы рассмотрели данные по затратам относительно размещения нашей рекламы на интернет площадках. Цифры, пришедших пользователей оказались следующими: \n",
    "\n",
    "yandex_direct: 4817\n",
    "\n",
    "nstagram_new_adverts: 3347\n",
    "\n",
    "facebook_ads: 2726\n",
    "\n",
    "youtube_channel_reklama: 2686\n",
    "\n",
    "Далее мы рассмотрели на графиках кол-во построенных зданий и кол-во пользователей, которые закончили 1-ый уровень относительно источника, с которого они установили наше приложение. \n",
    "\n",
    "yandex_direct: 45032 (2042)\n",
    "\t\n",
    "instagram_new_adverts: 31815 (1466)\n",
    "\n",
    "facebook_ads: 26131 (1150)\n",
    "\n",
    "youtube_channel_reklama: 24978 (1159)\n",
    "\n",
    "В целом, картина выглядит правильно, чем больше людей пришло с источника, тем больше они построили зданий, а также больше кол-во тех, кто прошел 1-ый уровень, только по последнему критерию, хоть и на 9 пользователей, ютуб обогнал фейсбук. Далее рассмотрены затраты на рекламу в этих источниках. И как оказалось, что фейсбук совершенно себя не оправдывает, т.к. мы тратим на него около 2-ух тысяч, но показатели максимально близки с ютубом, на который потратили в 2 раза меньше. Яндекс же является самым оптимальным источником пользователей. \n",
    "\n",
    "В конце рассмотрены две гипотезы: различия времени прохождения уровня между пользователями, которые заканчивают уровень через реализацию проекта, и пользователями, которые заканчивают уровень победой над другим игроком; различия затрат на рекламу между яндексом и инстаграммом. В первом случае присутствуют статистически значимые отличия, а во 2-ом случае наоборот.\n",
    "\n",
    "    Рекомендации по внедрению рекламы и прибыли с неё:\n",
    "\n",
    "- Если рассматривать максимальную прибыль и не обращать на фактор удержания пользователей, то логично запустить её для построек assembly_shop и spaceport, т.к. 1-ое здания построил каждый пользователь из когорты, а 2-ое 97.5% всех пользователей.\n",
    "\n",
    "- Другой путь, когда более трепетно относимся к нашим пользователям, можно внедрить рекламу для постройки research_center, т.к. её строят меньше всех или настроить частоту показа рекламы для каждого здания, например для assembly_shop показывать рекламу на каждую 2-ую или 3-ую постройку.\n",
    "\n",
    "- Третий совет по поводу уменьшения затрат: стоит отказаться или уменьшить расходы на рекламу приложения в фейсбуке, а также с целью уменьшении затрат можно перенаправить ресурсы на рекламу в ютубе, т.к. она имеет неплохие показатели прироста пользователей и данная площадка является самой дешевой с точки зрения размещения рекламы.\n",
    "    \n",
    "    Сколько мы покажем рекламы и сколько она должна стоить? \n",
    "    \n",
    "Выберем событие building после которого будет показ рекламы, т.е. после постройки каждого здания будет показываться реклама. Мы посчитали, что все пользователи прошли через событие building хоть один раз, а максимально событие building встречается 20 раз  у 10 пользователей. Далее мы вычли процент отвалов пользователей, покажем для 1%. В итоге мы получаем, что примерно кол-во рекламы, которые мы сможем показать - 113237. И т.к. нам известно, что наши расходы равны 7603, то опредяем стоимость одного показа - 0.067, чтобы выйти в 0."
   ]
  }
 ],
 "metadata": {
  "ExecuteTimeLog": [
   {
    "duration": 106,
    "start_time": "2021-06-09T15:47:53.582Z"
   },
   {
    "duration": 111,
    "start_time": "2021-06-09T15:47:58.816Z"
   },
   {
    "duration": 370,
    "start_time": "2021-06-09T15:48:01.182Z"
   },
   {
    "duration": 1563,
    "start_time": "2021-06-09T15:48:08.407Z"
   },
   {
    "duration": 54,
    "start_time": "2021-06-09T15:48:09.973Z"
   },
   {
    "duration": 9,
    "start_time": "2021-06-09T15:48:10.030Z"
   },
   {
    "duration": 1059,
    "start_time": "2021-06-09T15:48:10.042Z"
   },
   {
    "duration": 42,
    "start_time": "2021-06-09T15:48:11.104Z"
   },
   {
    "duration": 325,
    "start_time": "2021-06-09T15:48:11.149Z"
   },
   {
    "duration": 8,
    "start_time": "2021-06-09T15:48:11.476Z"
   },
   {
    "duration": 6,
    "start_time": "2021-06-09T15:48:11.490Z"
   },
   {
    "duration": 53,
    "start_time": "2021-06-09T15:48:11.499Z"
   },
   {
    "duration": 50,
    "start_time": "2021-06-09T15:48:11.554Z"
   },
   {
    "duration": 12,
    "start_time": "2021-06-09T15:48:11.606Z"
   },
   {
    "duration": 32,
    "start_time": "2021-06-09T15:48:11.620Z"
   },
   {
    "duration": 38,
    "start_time": "2021-06-09T15:48:11.654Z"
   },
   {
    "duration": 18,
    "start_time": "2021-06-09T15:48:11.696Z"
   },
   {
    "duration": 85,
    "start_time": "2021-06-09T15:48:11.717Z"
   },
   {
    "duration": 105,
    "start_time": "2021-06-09T15:48:11.804Z"
   },
   {
    "duration": 13,
    "start_time": "2021-06-09T15:48:11.911Z"
   },
   {
    "duration": 22,
    "start_time": "2021-06-09T15:48:11.926Z"
   },
   {
    "duration": 52,
    "start_time": "2021-06-09T15:48:11.950Z"
   },
   {
    "duration": 368,
    "start_time": "2021-06-09T15:48:12.004Z"
   },
   {
    "duration": 29,
    "start_time": "2021-06-09T15:48:12.376Z"
   },
   {
    "duration": 23,
    "start_time": "2021-06-09T15:48:12.407Z"
   },
   {
    "duration": 6,
    "start_time": "2021-06-09T15:48:12.437Z"
   },
   {
    "duration": 49,
    "start_time": "2021-06-09T15:48:12.446Z"
   },
   {
    "duration": 722,
    "start_time": "2021-06-09T15:48:12.498Z"
   },
   {
    "duration": 12,
    "start_time": "2021-06-09T15:48:13.223Z"
   },
   {
    "duration": 17,
    "start_time": "2021-06-09T15:48:13.238Z"
   },
   {
    "duration": 38,
    "start_time": "2021-06-09T15:48:13.257Z"
   },
   {
    "duration": 27,
    "start_time": "2021-06-09T15:48:13.298Z"
   },
   {
    "duration": 5,
    "start_time": "2021-06-09T15:48:13.327Z"
   },
   {
    "duration": 4,
    "start_time": "2021-06-09T15:48:13.335Z"
   },
   {
    "duration": 35,
    "start_time": "2021-06-09T15:48:13.385Z"
   },
   {
    "duration": 10,
    "start_time": "2021-06-09T15:48:13.422Z"
   },
   {
    "duration": 7,
    "start_time": "2021-06-09T15:48:13.434Z"
   },
   {
    "duration": 51,
    "start_time": "2021-06-09T15:48:13.443Z"
   },
   {
    "duration": 9,
    "start_time": "2021-06-09T15:48:13.497Z"
   },
   {
    "duration": 89,
    "start_time": "2021-06-09T15:48:13.508Z"
   },
   {
    "duration": 190,
    "start_time": "2021-06-09T15:48:13.599Z"
   },
   {
    "duration": 13,
    "start_time": "2021-06-09T15:48:13.792Z"
   },
   {
    "duration": 353,
    "start_time": "2021-06-09T15:48:13.807Z"
   },
   {
    "duration": 9,
    "start_time": "2021-06-09T15:48:14.162Z"
   },
   {
    "duration": 123,
    "start_time": "2021-06-09T15:48:14.173Z"
   },
   {
    "duration": 59,
    "start_time": "2021-06-09T15:48:14.299Z"
   },
   {
    "duration": 30,
    "start_time": "2021-06-09T15:48:14.360Z"
   },
   {
    "duration": 24,
    "start_time": "2021-06-09T15:48:14.393Z"
   },
   {
    "duration": 349,
    "start_time": "2021-06-09T15:48:14.419Z"
   },
   {
    "duration": 396,
    "start_time": "2021-06-09T15:48:14.771Z"
   },
   {
    "duration": 378,
    "start_time": "2021-06-09T15:48:15.170Z"
   },
   {
    "duration": 57,
    "start_time": "2021-06-09T15:48:15.551Z"
   },
   {
    "duration": 9,
    "start_time": "2021-06-09T15:48:15.610Z"
   },
   {
    "duration": 9,
    "start_time": "2021-06-09T15:48:15.622Z"
   },
   {
    "duration": 6,
    "start_time": "2021-06-09T15:48:15.634Z"
   },
   {
    "duration": 387,
    "start_time": "2021-06-09T15:48:15.643Z"
   },
   {
    "duration": 28,
    "start_time": "2021-06-09T15:48:16.032Z"
   },
   {
    "duration": 7,
    "start_time": "2021-06-09T15:48:16.062Z"
   },
   {
    "duration": 20,
    "start_time": "2021-06-09T15:48:16.087Z"
   },
   {
    "duration": 5,
    "start_time": "2021-06-09T15:48:16.109Z"
   },
   {
    "duration": 133,
    "start_time": "2021-06-09T15:48:16.116Z"
   },
   {
    "duration": 16,
    "start_time": "2021-06-09T15:48:16.251Z"
   },
   {
    "duration": 17,
    "start_time": "2021-06-09T15:48:16.286Z"
   },
   {
    "duration": 25,
    "start_time": "2021-06-09T15:48:16.305Z"
   },
   {
    "duration": 6,
    "start_time": "2021-06-09T15:48:16.332Z"
   },
   {
    "duration": 19,
    "start_time": "2021-06-09T15:48:16.340Z"
   },
   {
    "duration": 34,
    "start_time": "2021-06-09T15:48:16.361Z"
   },
   {
    "duration": 23,
    "start_time": "2021-06-09T15:48:16.398Z"
   },
   {
    "duration": 14,
    "start_time": "2021-06-09T15:48:16.424Z"
   },
   {
    "duration": 16,
    "start_time": "2021-06-09T15:48:16.440Z"
   },
   {
    "duration": 5,
    "start_time": "2021-06-09T15:48:16.464Z"
   },
   {
    "duration": 31,
    "start_time": "2021-06-09T15:48:16.472Z"
   },
   {
    "duration": 7,
    "start_time": "2021-06-09T15:48:16.506Z"
   },
   {
    "duration": 6,
    "start_time": "2021-06-09T15:48:16.516Z"
   },
   {
    "duration": 65,
    "start_time": "2021-06-09T15:48:16.525Z"
   },
   {
    "duration": 50,
    "start_time": "2021-06-09T15:48:16.592Z"
   },
   {
    "duration": 5,
    "start_time": "2021-06-09T15:48:16.644Z"
   },
   {
    "duration": 37,
    "start_time": "2021-06-09T15:48:16.686Z"
   },
   {
    "duration": 7,
    "start_time": "2021-06-09T15:48:16.725Z"
   },
   {
    "duration": 4,
    "start_time": "2021-06-09T15:48:16.734Z"
   },
   {
    "duration": 47,
    "start_time": "2021-06-09T15:48:16.740Z"
   },
   {
    "duration": 12,
    "start_time": "2021-06-09T15:48:16.790Z"
   },
   {
    "duration": 28,
    "start_time": "2021-06-09T15:48:16.805Z"
   },
   {
    "duration": 97,
    "start_time": "2021-06-09T15:48:16.835Z"
   },
   {
    "duration": 5,
    "start_time": "2021-06-09T15:48:16.935Z"
   },
   {
    "duration": 6,
    "start_time": "2021-06-09T15:48:16.942Z"
   },
   {
    "duration": 101,
    "start_time": "2021-06-09T15:48:16.950Z"
   },
   {
    "duration": 4,
    "start_time": "2021-06-09T15:48:17.054Z"
   },
   {
    "duration": 144,
    "start_time": "2021-06-09T15:48:17.061Z"
   },
   {
    "duration": 6,
    "start_time": "2021-06-09T15:48:17.209Z"
   },
   {
    "duration": 6,
    "start_time": "2021-06-09T15:48:17.218Z"
   },
   {
    "duration": 11,
    "start_time": "2021-06-09T15:48:17.227Z"
   },
   {
    "duration": 5,
    "start_time": "2021-06-09T15:48:36.064Z"
   },
   {
    "duration": 5,
    "start_time": "2021-06-09T15:48:42.775Z"
   },
   {
    "duration": 6,
    "start_time": "2021-06-09T15:49:31.778Z"
   }
  ],
  "kernelspec": {
   "display_name": "Python 3",
   "language": "python",
   "name": "python3"
  },
  "language_info": {
   "codemirror_mode": {
    "name": "ipython",
    "version": 3
   },
   "file_extension": ".py",
   "mimetype": "text/x-python",
   "name": "python",
   "nbconvert_exporter": "python",
   "pygments_lexer": "ipython3",
   "version": "3.7.8"
  },
  "toc": {
   "base_numbering": 1,
   "nav_menu": {},
   "number_sections": false,
   "sideBar": true,
   "skip_h1_title": true,
   "title_cell": "Table of Contents",
   "title_sidebar": "Contents",
   "toc_cell": false,
   "toc_position": {
    "height": "784px",
    "left": "33px",
    "top": "305px",
    "width": "356.797px"
   },
   "toc_section_display": true,
   "toc_window_display": true
  }
 },
 "nbformat": 4,
 "nbformat_minor": 2
}
